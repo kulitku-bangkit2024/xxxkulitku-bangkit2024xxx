{
  "cells": [
    {
      "cell_type": "markdown",
      "metadata": {
        "id": "view-in-github",
        "colab_type": "text"
      },
      "source": [
        "<a href=\"https://colab.research.google.com/github/sayid-alt/kulitku-bangkit2024/blob/main/Machine%20Learning/skin_type/skin_type_notebook.ipynb\" target=\"_parent\"><img src=\"https://colab.research.google.com/assets/colab-badge.svg\" alt=\"Open In Colab\"/></a>"
      ]
    },
    {
      "cell_type": "code",
      "execution_count": 1,
      "metadata": {
        "colab": {
          "base_uri": "https://localhost:8080/"
        },
        "id": "jSoDJFcwzlR5",
        "outputId": "7b3c7b32-c09d-46f4-df09-6723487327dd"
      },
      "outputs": [
        {
          "output_type": "stream",
          "name": "stdout",
          "text": [
            "Collecting keras-tuner\n",
            "  Downloading keras_tuner-1.4.7-py3-none-any.whl (129 kB)\n",
            "\u001b[?25l     \u001b[90m━━━━━━━━━━━━━━━━━━━━━━━━━━━━━━━━━━━━━━━━\u001b[0m \u001b[32m0.0/129.1 kB\u001b[0m \u001b[31m?\u001b[0m eta \u001b[36m-:--:--\u001b[0m\r\u001b[2K     \u001b[91m━━━━━━━━━━━━━━━━━━━━━━━━━━━━━━━\u001b[0m\u001b[91m╸\u001b[0m\u001b[90m━━━━━━━━\u001b[0m \u001b[32m102.4/129.1 kB\u001b[0m \u001b[31m2.9 MB/s\u001b[0m eta \u001b[36m0:00:01\u001b[0m\r\u001b[2K     \u001b[90m━━━━━━━━━━━━━━━━━━━━━━━━━━━━━━━━━━━━━━━━\u001b[0m \u001b[32m129.1/129.1 kB\u001b[0m \u001b[31m2.8 MB/s\u001b[0m eta \u001b[36m0:00:00\u001b[0m\n",
            "\u001b[?25hRequirement already satisfied: keras in /usr/local/lib/python3.10/dist-packages (from keras-tuner) (2.15.0)\n",
            "Requirement already satisfied: packaging in /usr/local/lib/python3.10/dist-packages (from keras-tuner) (24.1)\n",
            "Requirement already satisfied: requests in /usr/local/lib/python3.10/dist-packages (from keras-tuner) (2.31.0)\n",
            "Collecting kt-legacy (from keras-tuner)\n",
            "  Downloading kt_legacy-1.0.5-py3-none-any.whl (9.6 kB)\n",
            "Requirement already satisfied: charset-normalizer<4,>=2 in /usr/local/lib/python3.10/dist-packages (from requests->keras-tuner) (3.3.2)\n",
            "Requirement already satisfied: idna<4,>=2.5 in /usr/local/lib/python3.10/dist-packages (from requests->keras-tuner) (3.7)\n",
            "Requirement already satisfied: urllib3<3,>=1.21.1 in /usr/local/lib/python3.10/dist-packages (from requests->keras-tuner) (2.0.7)\n",
            "Requirement already satisfied: certifi>=2017.4.17 in /usr/local/lib/python3.10/dist-packages (from requests->keras-tuner) (2024.6.2)\n",
            "Installing collected packages: kt-legacy, keras-tuner\n",
            "Successfully installed keras-tuner-1.4.7 kt-legacy-1.0.5\n"
          ]
        }
      ],
      "source": [
        "!pip install keras-tuner --upgrade\n",
        "\n",
        "import zipfile\n",
        "import os\n",
        "import shutil\n",
        "import numpy as np\n",
        "import tensorflow as tf\n",
        "import matplotlib.pyplot as plt\n",
        "import pandas as pd\n",
        "import keras_tuner\n",
        "import keras\n",
        "\n",
        "from sklearn.model_selection import train_test_split\n",
        "from tensorflow.keras.models import Model\n",
        "from tensorflow.keras.applications import ResNet50V2\n",
        "from tensorflow.keras.layers import Dense, GlobalAveragePooling2D, Dropout, Flatten, BatchNormalization\n",
        "from tensorflow.keras.regularizers import l2\n",
        "from tensorflow.keras.optimizers import Adam, SGD, RMSprop\n",
        "from tensorflow.keras.preprocessing.image import ImageDataGenerator\n",
        "from tensorflow.keras.preprocessing import image\n",
        "\n",
        "import datetime"
      ]
    },
    {
      "cell_type": "markdown",
      "metadata": {
        "id": "mWLdO6Dm0ily"
      },
      "source": [
        "# Download data from kaggle"
      ]
    },
    {
      "cell_type": "code",
      "execution_count": 2,
      "metadata": {
        "colab": {
          "base_uri": "https://localhost:8080/",
          "height": 316
        },
        "id": "7wJbGZF9ytJP",
        "outputId": "160b2783-9377-45f4-eedf-dd8fa09e0229"
      },
      "outputs": [
        {
          "output_type": "stream",
          "name": "stdout",
          "text": [
            "Requirement already satisfied: kaggle in /usr/local/lib/python3.10/dist-packages (1.6.14)\n",
            "Requirement already satisfied: six>=1.10 in /usr/local/lib/python3.10/dist-packages (from kaggle) (1.16.0)\n",
            "Requirement already satisfied: certifi>=2023.7.22 in /usr/local/lib/python3.10/dist-packages (from kaggle) (2024.6.2)\n",
            "Requirement already satisfied: python-dateutil in /usr/local/lib/python3.10/dist-packages (from kaggle) (2.8.2)\n",
            "Requirement already satisfied: requests in /usr/local/lib/python3.10/dist-packages (from kaggle) (2.31.0)\n",
            "Requirement already satisfied: tqdm in /usr/local/lib/python3.10/dist-packages (from kaggle) (4.66.4)\n",
            "Requirement already satisfied: python-slugify in /usr/local/lib/python3.10/dist-packages (from kaggle) (8.0.4)\n",
            "Requirement already satisfied: urllib3 in /usr/local/lib/python3.10/dist-packages (from kaggle) (2.0.7)\n",
            "Requirement already satisfied: bleach in /usr/local/lib/python3.10/dist-packages (from kaggle) (6.1.0)\n",
            "Requirement already satisfied: webencodings in /usr/local/lib/python3.10/dist-packages (from bleach->kaggle) (0.5.1)\n",
            "Requirement already satisfied: text-unidecode>=1.3 in /usr/local/lib/python3.10/dist-packages (from python-slugify->kaggle) (1.3)\n",
            "Requirement already satisfied: charset-normalizer<4,>=2 in /usr/local/lib/python3.10/dist-packages (from requests->kaggle) (3.3.2)\n",
            "Requirement already satisfied: idna<4,>=2.5 in /usr/local/lib/python3.10/dist-packages (from requests->kaggle) (3.7)\n"
          ]
        },
        {
          "output_type": "display_data",
          "data": {
            "text/plain": [
              "<IPython.core.display.HTML object>"
            ],
            "text/html": [
              "\n",
              "     <input type=\"file\" id=\"files-453dbee1-575f-4707-94b8-f1104155bf14\" name=\"files[]\" multiple disabled\n",
              "        style=\"border:none\" />\n",
              "     <output id=\"result-453dbee1-575f-4707-94b8-f1104155bf14\">\n",
              "      Upload widget is only available when the cell has been executed in the\n",
              "      current browser session. Please rerun this cell to enable.\n",
              "      </output>\n",
              "      <script>// Copyright 2017 Google LLC\n",
              "//\n",
              "// Licensed under the Apache License, Version 2.0 (the \"License\");\n",
              "// you may not use this file except in compliance with the License.\n",
              "// You may obtain a copy of the License at\n",
              "//\n",
              "//      http://www.apache.org/licenses/LICENSE-2.0\n",
              "//\n",
              "// Unless required by applicable law or agreed to in writing, software\n",
              "// distributed under the License is distributed on an \"AS IS\" BASIS,\n",
              "// WITHOUT WARRANTIES OR CONDITIONS OF ANY KIND, either express or implied.\n",
              "// See the License for the specific language governing permissions and\n",
              "// limitations under the License.\n",
              "\n",
              "/**\n",
              " * @fileoverview Helpers for google.colab Python module.\n",
              " */\n",
              "(function(scope) {\n",
              "function span(text, styleAttributes = {}) {\n",
              "  const element = document.createElement('span');\n",
              "  element.textContent = text;\n",
              "  for (const key of Object.keys(styleAttributes)) {\n",
              "    element.style[key] = styleAttributes[key];\n",
              "  }\n",
              "  return element;\n",
              "}\n",
              "\n",
              "// Max number of bytes which will be uploaded at a time.\n",
              "const MAX_PAYLOAD_SIZE = 100 * 1024;\n",
              "\n",
              "function _uploadFiles(inputId, outputId) {\n",
              "  const steps = uploadFilesStep(inputId, outputId);\n",
              "  const outputElement = document.getElementById(outputId);\n",
              "  // Cache steps on the outputElement to make it available for the next call\n",
              "  // to uploadFilesContinue from Python.\n",
              "  outputElement.steps = steps;\n",
              "\n",
              "  return _uploadFilesContinue(outputId);\n",
              "}\n",
              "\n",
              "// This is roughly an async generator (not supported in the browser yet),\n",
              "// where there are multiple asynchronous steps and the Python side is going\n",
              "// to poll for completion of each step.\n",
              "// This uses a Promise to block the python side on completion of each step,\n",
              "// then passes the result of the previous step as the input to the next step.\n",
              "function _uploadFilesContinue(outputId) {\n",
              "  const outputElement = document.getElementById(outputId);\n",
              "  const steps = outputElement.steps;\n",
              "\n",
              "  const next = steps.next(outputElement.lastPromiseValue);\n",
              "  return Promise.resolve(next.value.promise).then((value) => {\n",
              "    // Cache the last promise value to make it available to the next\n",
              "    // step of the generator.\n",
              "    outputElement.lastPromiseValue = value;\n",
              "    return next.value.response;\n",
              "  });\n",
              "}\n",
              "\n",
              "/**\n",
              " * Generator function which is called between each async step of the upload\n",
              " * process.\n",
              " * @param {string} inputId Element ID of the input file picker element.\n",
              " * @param {string} outputId Element ID of the output display.\n",
              " * @return {!Iterable<!Object>} Iterable of next steps.\n",
              " */\n",
              "function* uploadFilesStep(inputId, outputId) {\n",
              "  const inputElement = document.getElementById(inputId);\n",
              "  inputElement.disabled = false;\n",
              "\n",
              "  const outputElement = document.getElementById(outputId);\n",
              "  outputElement.innerHTML = '';\n",
              "\n",
              "  const pickedPromise = new Promise((resolve) => {\n",
              "    inputElement.addEventListener('change', (e) => {\n",
              "      resolve(e.target.files);\n",
              "    });\n",
              "  });\n",
              "\n",
              "  const cancel = document.createElement('button');\n",
              "  inputElement.parentElement.appendChild(cancel);\n",
              "  cancel.textContent = 'Cancel upload';\n",
              "  const cancelPromise = new Promise((resolve) => {\n",
              "    cancel.onclick = () => {\n",
              "      resolve(null);\n",
              "    };\n",
              "  });\n",
              "\n",
              "  // Wait for the user to pick the files.\n",
              "  const files = yield {\n",
              "    promise: Promise.race([pickedPromise, cancelPromise]),\n",
              "    response: {\n",
              "      action: 'starting',\n",
              "    }\n",
              "  };\n",
              "\n",
              "  cancel.remove();\n",
              "\n",
              "  // Disable the input element since further picks are not allowed.\n",
              "  inputElement.disabled = true;\n",
              "\n",
              "  if (!files) {\n",
              "    return {\n",
              "      response: {\n",
              "        action: 'complete',\n",
              "      }\n",
              "    };\n",
              "  }\n",
              "\n",
              "  for (const file of files) {\n",
              "    const li = document.createElement('li');\n",
              "    li.append(span(file.name, {fontWeight: 'bold'}));\n",
              "    li.append(span(\n",
              "        `(${file.type || 'n/a'}) - ${file.size} bytes, ` +\n",
              "        `last modified: ${\n",
              "            file.lastModifiedDate ? file.lastModifiedDate.toLocaleDateString() :\n",
              "                                    'n/a'} - `));\n",
              "    const percent = span('0% done');\n",
              "    li.appendChild(percent);\n",
              "\n",
              "    outputElement.appendChild(li);\n",
              "\n",
              "    const fileDataPromise = new Promise((resolve) => {\n",
              "      const reader = new FileReader();\n",
              "      reader.onload = (e) => {\n",
              "        resolve(e.target.result);\n",
              "      };\n",
              "      reader.readAsArrayBuffer(file);\n",
              "    });\n",
              "    // Wait for the data to be ready.\n",
              "    let fileData = yield {\n",
              "      promise: fileDataPromise,\n",
              "      response: {\n",
              "        action: 'continue',\n",
              "      }\n",
              "    };\n",
              "\n",
              "    // Use a chunked sending to avoid message size limits. See b/62115660.\n",
              "    let position = 0;\n",
              "    do {\n",
              "      const length = Math.min(fileData.byteLength - position, MAX_PAYLOAD_SIZE);\n",
              "      const chunk = new Uint8Array(fileData, position, length);\n",
              "      position += length;\n",
              "\n",
              "      const base64 = btoa(String.fromCharCode.apply(null, chunk));\n",
              "      yield {\n",
              "        response: {\n",
              "          action: 'append',\n",
              "          file: file.name,\n",
              "          data: base64,\n",
              "        },\n",
              "      };\n",
              "\n",
              "      let percentDone = fileData.byteLength === 0 ?\n",
              "          100 :\n",
              "          Math.round((position / fileData.byteLength) * 100);\n",
              "      percent.textContent = `${percentDone}% done`;\n",
              "\n",
              "    } while (position < fileData.byteLength);\n",
              "  }\n",
              "\n",
              "  // All done.\n",
              "  yield {\n",
              "    response: {\n",
              "      action: 'complete',\n",
              "    }\n",
              "  };\n",
              "}\n",
              "\n",
              "scope.google = scope.google || {};\n",
              "scope.google.colab = scope.google.colab || {};\n",
              "scope.google.colab._files = {\n",
              "  _uploadFiles,\n",
              "  _uploadFilesContinue,\n",
              "};\n",
              "})(self);\n",
              "</script> "
            ]
          },
          "metadata": {}
        },
        {
          "output_type": "stream",
          "name": "stdout",
          "text": [
            "Saving kaggle.json to kaggle.json\n"
          ]
        },
        {
          "output_type": "execute_result",
          "data": {
            "text/plain": [
              "{'kaggle.json': b'{\"username\":\"sayidheykal\",\"key\":\"e6e9a20922c6182e48e1cbac69a56342\"}'}"
            ]
          },
          "metadata": {},
          "execution_count": 2
        }
      ],
      "source": [
        "!pip install kaggle\n",
        "\n",
        "\n",
        "from google.colab import files\n",
        "files.upload()"
      ]
    },
    {
      "cell_type": "code",
      "execution_count": 3,
      "metadata": {
        "id": "Z19Ukds9yymu",
        "colab": {
          "base_uri": "https://localhost:8080/"
        },
        "outputId": "bef61dd9-b5e4-4425-a932-a77c5fb187fe"
      },
      "outputs": [
        {
          "output_type": "stream",
          "name": "stdout",
          "text": [
            "Dataset URL: https://www.kaggle.com/datasets/shakyadissanayake/oily-dry-and-normal-skin-types-dataset\n",
            "License(s): Apache 2.0\n",
            "Downloading oily-dry-and-normal-skin-types-dataset.zip to /content\n",
            " 92% 114M/124M [00:02<00:00, 67.8MB/s]\n",
            "100% 124M/124M [00:02<00:00, 58.9MB/s]\n"
          ]
        }
      ],
      "source": [
        "!mkdir -p ~/.kaggle\n",
        "!mv kaggle.json ~/.kaggle/\n",
        "!chmod 600 ~/.kaggle/kaggle.json\n",
        "\n",
        "!kaggle datasets download -d shakyadissanayake/oily-dry-and-normal-skin-types-dataset"
      ]
    },
    {
      "cell_type": "markdown",
      "metadata": {
        "id": "VvP1-xeYFGM8"
      },
      "source": [
        "# Utilities"
      ]
    },
    {
      "cell_type": "code",
      "execution_count": 4,
      "metadata": {
        "id": "2uoz4tncFFr3"
      },
      "outputs": [],
      "source": [
        "def move_files(source_dir, destination_dir):\n",
        "    # Ensure the source and destination directories exist\n",
        "    if not os.path.exists(source_dir):\n",
        "        print(f\"The source directory '{source_dir}' does not exist.\")\n",
        "        return\n",
        "\n",
        "    if not os.path.exists(destination_dir):\n",
        "        os.makedirs(destination_dir)\n",
        "        print(f\"Created the destination directory '{destination_dir}'.\")\n",
        "\n",
        "    # List all files in the source directory\n",
        "    files = os.listdir(source_dir)\n",
        "\n",
        "    # Loop through all files and move them to the destination directory\n",
        "    sum = 0\n",
        "    for file_name in files:\n",
        "        # Construct full file path\n",
        "        source_file = os.path.join(source_dir, file_name)\n",
        "        destination_file = os.path.join(destination_dir, file_name)\n",
        "\n",
        "        # Move the file\n",
        "        shutil.move(source_file, destination_file)\n",
        "        sum+=1\n",
        "\n",
        "    print(f'successfully moved {sum} files from {source_dir} to {destination_dir}')\n",
        "\n",
        "\n",
        "\n",
        "def unzip_file(zip_path, extract_to='.'):\n",
        "    with zipfile.ZipFile(zip_path, 'r') as zip_ref:\n",
        "        zip_ref.extractall(extract_to)\n",
        "\n",
        "def create_directory(path):\n",
        "    try:\n",
        "        os.makedirs(path, exist_ok=True)\n",
        "        print(f\"Directory '{path}' created successfully.\")\n",
        "    except Exception as e:\n",
        "        print(f\"Error creating directory '{path}': {e}\")\n",
        "\n",
        "\n",
        "\n",
        "def count_files_and_directories(path):\n",
        "    file_count = 0\n",
        "    directory_count = 0\n",
        "\n",
        "    for dirpath, dirnames, filenames in os.walk(path):\n",
        "        # Count the number of files in the current directory\n",
        "        file_count += len(filenames)\n",
        "        # Count the number of subdirectories in the current directory\n",
        "        directory_count += len(dirnames)\n",
        "\n",
        "    return file_count, directory_count\n",
        "\n",
        "\n",
        "def convert_pb_to_tflite(pb_model_path, tflite_model_path):\n",
        "    # Load the TensorFlow model\n",
        "    converter = tf.lite.TFLiteConverter.from_saved_model(pb_model_path)\n",
        "\n",
        "    # Convert the model to TFLite format\n",
        "    tflite_model = converter.convert()\n",
        "\n",
        "    # Save the converted model to a file\n",
        "    with open(tflite_model_path, 'wb') as f:\n",
        "        f.write(tflite_model)\n",
        "\n",
        "    print(f\"Model converted and saved to {tflite_model_path}\")\n",
        "\n",
        "\n",
        "def plot_portion(values, labels, title='Portion of values'):\n",
        "  fig, ax = plt.subplots()\n",
        "\n",
        "  sum_values = sum(values)\n",
        "  percentages = [value / sum_values for value in values]\n",
        "\n",
        "  bar_colors = ['tab:red', 'tab:blue', 'tab:orange']\n",
        "\n",
        "  # Create horizontal bar chart\n",
        "  bars = ax.bar(labels, values, color=bar_colors, label=labels)\n",
        "\n",
        "  # Add labels to bars with customizations\n",
        "  ax.bar_label(bars, labels=[f'{round(v * 100, 2)} %' for v in percentages], padding=3, fontsize=10, label_type='center')\n",
        "\n",
        "  # Set labels\n",
        "  ax.set_ylabel('values')\n",
        "  ax.set_title(title)\n",
        "  ax.legend(title='categories')\n",
        "\n",
        "  # Show the plot\n",
        "  plt.show()\n",
        "\n",
        "def plot_acc_loss(history):\n",
        "  plt.figure(figsize=(12, 4))\n",
        "\n",
        "  plt.subplot(1, 2, 1)\n",
        "  plt.plot(history.history['accuracy'])\n",
        "  plt.plot(history.history['val_accuracy'])\n",
        "  plt.title('Model Accuracy')\n",
        "  plt.ylabel('Accuracy')\n",
        "  plt.xlabel('Epoch')\n",
        "  plt.legend(['Train', 'Validation'], loc='upper left')\n",
        "\n",
        "  # Plot training & validation loss values\n",
        "  plt.subplot(1, 2, 2)\n",
        "  plt.plot(history.history['loss'])\n",
        "  plt.plot(history.history['val_loss'])\n",
        "  plt.title('Model Loss')\n",
        "  plt.ylabel('Loss')\n",
        "  plt.xlabel('Epoch')\n",
        "  plt.legend(['Train', 'Validation'], loc='upper left')\n",
        "\n",
        "  # save graph to png\n",
        "  pngfile = 'acc_loss.png'\n",
        "  if os.path.isfile(pngfile):\n",
        "    plt.savefig('acc_loss(1).png')\n",
        "  plt.savefig(f'acc_loss.png')\n",
        "\n",
        "  acc = history.history['accuracy']\n",
        "  val_acc = history.history['val_accuracy']\n",
        "\n",
        "  loss = history.history['loss']\n",
        "  val_loss = history.history['val_loss']\n",
        "\n",
        "  print(f'accuracy\\t: {acc[len(acc)-1]}, val_accuracy\\t: {val_acc[len(val_acc)-1]}')\n",
        "\n",
        "  print(f'loss\\t\\t: {loss[len(loss)-1]}, val_loss\\t: {val_loss[len(val_loss)-1]}')\n",
        "\n",
        "\n",
        "def move_files_after_split(X, y, base_dir):\n",
        "  sum = 0\n",
        "  for source_dir, category in zip(X, y):\n",
        "    filename = source_dir.split('/')[-1]\n",
        "    destination_dir = os.path.join(base_dir, category, filename)\n",
        "    shutil.move(source_dir, destination_dir)\n",
        "    sum+= 1\n",
        "  print(f'successfully moved {sum} files to {destination_dir}')\n",
        "\n",
        "def checking_dir_qty(base_dir, train_dir, valid_dir, test_dir):\n",
        "  num_train, num_train_labels = count_files_and_directories(train_dir)\n",
        "  num_valid, num_valid_labels = count_files_and_directories(valid_dir)\n",
        "  num_test, num_test_labels = count_files_and_directories(test_dir)\n",
        "\n",
        "  all, _ = count_files_and_directories(base_dir)\n",
        "\n",
        "  print(f'number of images: {all}\\n-------------------\\n')\n",
        "  print(f'train data length: {num_train}\\nNum of train labels: {num_train_labels}\\npercentage: {round(num_train/all*100,2)} %\\n')\n",
        "  print(f'valid data length: {num_valid}\\nNum of train labels: {num_valid_labels}\\npercentage: {round(num_valid/all*100,2)} %\\n')\n",
        "  print(f'test data length: {num_test}\\nNum of test labels: {num_test_labels}\\npercentage: {round(num_test/all*100,2)} %\\n')\n",
        "\n",
        "def zip_directory(directory_path, zip_path):\n",
        "    with zipfile.ZipFile(zip_path, 'w', zipfile.ZIP_DEFLATED) as zipf:\n",
        "        for root, dirs, files in os.walk(directory_path):\n",
        "            for file in files:\n",
        "                file_path = os.path.join(root, file)\n",
        "                arcname = os.path.relpath(file_path, start=directory_path)\n",
        "                zipf.write(file_path, arcname=arcname)\n",
        "\n",
        "    print(f'successfull zipping {directory_path} to {zip_path}')\n",
        "\n",
        "\n",
        "\n"
      ]
    },
    {
      "cell_type": "code",
      "execution_count": 5,
      "metadata": {
        "collapsed": true,
        "id": "auwADd1H25VA"
      },
      "outputs": [],
      "source": [
        "dataset_dir = '/content/oily-dry-and-normal-skin-types-dataset'\n",
        "if os.path.isdir(dataset_dir):\n",
        "  shutil.rmtree(dataset_dir)\n",
        "\n",
        "# Unzip dataset\n",
        "zip_path = dataset_dir + '.zip'\n",
        "unzip_file(zip_path)"
      ]
    },
    {
      "cell_type": "markdown",
      "metadata": {
        "id": "RBxO9qC54JZx"
      },
      "source": [
        "# Generate data"
      ]
    },
    {
      "cell_type": "code",
      "execution_count": 6,
      "metadata": {
        "id": "FEs1KSBv3WKe",
        "colab": {
          "base_uri": "https://localhost:8080/"
        },
        "outputId": "dbd9998e-bd21-4806-bb20-999eff42e80a"
      },
      "outputs": [
        {
          "output_type": "execute_result",
          "data": {
            "text/plain": [
              "('/content/Oily-Dry-Skin-Types/train',\n",
              " '/content/Oily-Dry-Skin-Types/valid',\n",
              " '/content/Oily-Dry-Skin-Types/test')"
            ]
          },
          "metadata": {},
          "execution_count": 6
        }
      ],
      "source": [
        "# defined directories\n",
        "# -------------------\n",
        "\n",
        "# base working directory\n",
        "base_dir = '/content/Oily-Dry-Skin-Types/'\n",
        "\n",
        "# training data directory\n",
        "train_dir = base_dir + 'train'\n",
        "\n",
        " # validation data directory\n",
        "valid_dir = base_dir + 'valid'\n",
        "\n",
        "# test data directory\n",
        "test_dir = base_dir + 'test'\n",
        "\n",
        "train_dir, valid_dir, test_dir"
      ]
    },
    {
      "cell_type": "markdown",
      "metadata": {
        "id": "-QeZzDC8HBEz"
      },
      "source": [
        "## Gathering all picture to one folder as their categories"
      ]
    },
    {
      "cell_type": "code",
      "source": [
        "checking_dir_qty(base_dir, train_dir, valid_dir, test_dir)"
      ],
      "metadata": {
        "colab": {
          "base_uri": "https://localhost:8080/"
        },
        "id": "ufYkBMJjyit8",
        "outputId": "5d106ebe-0339-4586-e60d-eb023e927bc1"
      },
      "execution_count": 7,
      "outputs": [
        {
          "output_type": "stream",
          "name": "stdout",
          "text": [
            "number of images: 3153\n",
            "-------------------\n",
            "\n",
            "train data length: 2756\n",
            "Num of train labels: 3\n",
            "percentage: 87.41 %\n",
            "\n",
            "valid data length: 262\n",
            "Num of train labels: 3\n",
            "percentage: 8.31 %\n",
            "\n",
            "test data length: 134\n",
            "Num of test labels: 3\n",
            "percentage: 4.25 %\n",
            "\n"
          ]
        }
      ]
    },
    {
      "cell_type": "code",
      "execution_count": 8,
      "metadata": {
        "id": "6CEJ8KS-Lj_u",
        "colab": {
          "base_uri": "https://localhost:8080/"
        },
        "outputId": "0d50394c-5cd9-4875-dc7a-e8bc3a762f48"
      },
      "outputs": [
        {
          "output_type": "execute_result",
          "data": {
            "text/plain": [
              "['oily', 'normal', 'dry']"
            ]
          },
          "metadata": {},
          "execution_count": 8
        }
      ],
      "source": [
        "# define class names as a label\n",
        "categories = [name for name in os.listdir(train_dir)]\n",
        "categories"
      ]
    },
    {
      "cell_type": "code",
      "execution_count": 9,
      "metadata": {
        "id": "jO6DSrqlFp5W",
        "colab": {
          "base_uri": "https://localhost:8080/"
        },
        "outputId": "c4b18115-c732-4c69-f3ea-abbfd48a4f75"
      },
      "outputs": [
        {
          "output_type": "stream",
          "name": "stdout",
          "text": [
            "Directory '/content/Oily-Dry-Skin-Types/all/oily' created successfully.\n",
            "Directory '/content/Oily-Dry-Skin-Types/all/normal' created successfully.\n",
            "Directory '/content/Oily-Dry-Skin-Types/all/dry' created successfully.\n",
            "successfully moved 1000 files from /content/Oily-Dry-Skin-Types/train/oily to /content/Oily-Dry-Skin-Types/all/oily\n",
            "successfully moved 1104 files from /content/Oily-Dry-Skin-Types/train/normal to /content/Oily-Dry-Skin-Types/all/normal\n",
            "successfully moved 652 files from /content/Oily-Dry-Skin-Types/train/dry to /content/Oily-Dry-Skin-Types/all/dry\n",
            "successfully moved 80 files from /content/Oily-Dry-Skin-Types/valid/oily to /content/Oily-Dry-Skin-Types/all/oily\n",
            "successfully moved 111 files from /content/Oily-Dry-Skin-Types/valid/normal to /content/Oily-Dry-Skin-Types/all/normal\n",
            "successfully moved 71 files from /content/Oily-Dry-Skin-Types/valid/dry to /content/Oily-Dry-Skin-Types/all/dry\n",
            "successfully moved 40 files from /content/Oily-Dry-Skin-Types/test/oily to /content/Oily-Dry-Skin-Types/all/oily\n",
            "successfully moved 59 files from /content/Oily-Dry-Skin-Types/test/normal to /content/Oily-Dry-Skin-Types/all/normal\n",
            "successfully moved 35 files from /content/Oily-Dry-Skin-Types/test/dry to /content/Oily-Dry-Skin-Types/all/dry\n"
          ]
        }
      ],
      "source": [
        "# create dicertories for all existing data\n",
        "all_dir = os.path.join(base_dir, 'all')\n",
        "\n",
        "for cat in categories:\n",
        "  create_directory(os.path.join(all_dir, cat))\n",
        "\n",
        "# move all images to the all directory as a default before splitted\n",
        "for dirname in [train_dir, valid_dir, test_dir]:\n",
        "  for cat in categories:\n",
        "    source_dir = os.path.join(dirname, cat)\n",
        "    destination_dir = os.path.join(all_dir, cat)\n",
        "    move_files(source_dir, destination_dir)\n"
      ]
    },
    {
      "cell_type": "markdown",
      "metadata": {
        "id": "iu0vxLKTLMJe"
      },
      "source": [
        "# EDA"
      ]
    },
    {
      "cell_type": "markdown",
      "metadata": {
        "id": "kvXsIMApMN5D"
      },
      "source": [
        "Checking All data in test, train, valid folder (should be empty)"
      ]
    },
    {
      "cell_type": "code",
      "execution_count": 10,
      "metadata": {
        "id": "k68nu21n-54F",
        "colab": {
          "base_uri": "https://localhost:8080/"
        },
        "outputId": "a1611b6b-b7ec-456a-dfd1-76e7b3b4bc28"
      },
      "outputs": [
        {
          "output_type": "stream",
          "name": "stdout",
          "text": [
            "number of images: 3153\n",
            "-------------------\n",
            "\n",
            "train data length: 0\n",
            "Num of train labels: 3\n",
            "percentage: 0.0 %\n",
            "\n",
            "valid data length: 0\n",
            "Num of train labels: 3\n",
            "percentage: 0.0 %\n",
            "\n",
            "test data length: 0\n",
            "Num of test labels: 3\n",
            "percentage: 0.0 %\n",
            "\n"
          ]
        }
      ],
      "source": [
        "checking_dir_qty(base_dir, train_dir, valid_dir, test_dir)"
      ]
    },
    {
      "cell_type": "markdown",
      "metadata": {
        "id": "ALq4ZXMCMVaj"
      },
      "source": [
        "## Look up the quantities of the category directory"
      ]
    },
    {
      "cell_type": "code",
      "execution_count": 11,
      "metadata": {
        "id": "6-A7QOS5C6lK",
        "colab": {
          "base_uri": "https://localhost:8080/",
          "height": 504
        },
        "outputId": "ca7c10ae-6e1d-49c7-c21e-af7ecd724abc"
      },
      "outputs": [
        {
          "output_type": "stream",
          "name": "stdout",
          "text": [
            "oily : 1120\n",
            "normal : 1274\n",
            "dry : 758\n"
          ]
        },
        {
          "output_type": "display_data",
          "data": {
            "text/plain": [
              "<Figure size 640x480 with 1 Axes>"
            ],
            "image/png": "[encoded data removed]"
          },
          "metadata": {}
        }
      ],
      "source": [
        "values = []\n",
        "for i, class_name in enumerate(categories):\n",
        "  class_length = len(os.listdir(os.path.join(all_dir, class_name)))\n",
        "  values.append(class_length)\n",
        "  print(f'{class_name} : {class_length}')\n",
        "\n",
        "plot_portion(values, categories)"
      ]
    },
    {
      "cell_type": "markdown",
      "metadata": {
        "id": "ZDR3MhCkcBKX"
      },
      "source": [
        "## Data Distribution"
      ]
    },
    {
      "cell_type": "code",
      "execution_count": 12,
      "metadata": {
        "id": "XOa6Y3MCc9jy",
        "colab": {
          "base_uri": "https://localhost:8080/",
          "height": 482
        },
        "outputId": "ceefbaf2-f888-4cdb-df48-990153278279"
      },
      "outputs": [
        {
          "output_type": "execute_result",
          "data": {
            "text/plain": [
              "(array([1., 0., 2.]),\n",
              " array([ 758.,  930., 1102., 1274.]),\n",
              " <BarContainer object of 3 artists>)"
            ]
          },
          "metadata": {},
          "execution_count": 12
        },
        {
          "output_type": "display_data",
          "data": {
            "text/plain": [
              "<Figure size 640x480 with 1 Axes>"
            ],
            "image/png": "[encoded data removed]"
          },
          "metadata": {}
        }
      ],
      "source": [
        "plt.hist(values, bins=3, alpha=0.7, edgecolor='black')"
      ]
    },
    {
      "cell_type": "markdown",
      "metadata": {
        "id": "hbljlTjALg76"
      },
      "source": [
        "# Data Preprocessing"
      ]
    },
    {
      "cell_type": "code",
      "execution_count": 13,
      "metadata": {
        "id": "WuYeeezxT-aD",
        "colab": {
          "base_uri": "https://localhost:8080/"
        },
        "outputId": "e16bdd1a-53a3-4f4c-f41c-399d3be243b5"
      },
      "outputs": [
        {
          "output_type": "execute_result",
          "data": {
            "text/plain": [
              "(0, 0)"
            ]
          },
          "metadata": {},
          "execution_count": 13
        }
      ],
      "source": [
        "count_files_and_directories('/content/oily-dry-and-normal-skin-types-dataset/Oily-Dry-Skin-Types/all')"
      ]
    },
    {
      "cell_type": "code",
      "execution_count": 14,
      "metadata": {
        "id": "85xXXpiBQKGy",
        "colab": {
          "base_uri": "https://localhost:8080/",
          "height": 35
        },
        "outputId": "004cc903-a4b9-48cf-a22b-f4718389e283"
      },
      "outputs": [
        {
          "output_type": "execute_result",
          "data": {
            "text/plain": [
              "'normal_2a654e6820c321c2cd61_jpg.rf.b7b825a9ed6002003a24d7adfd66b3bd.jpg'"
            ],
            "application/vnd.google.colaboratory.intrinsic+json": {
              "type": "string"
            }
          },
          "metadata": {},
          "execution_count": 14
        }
      ],
      "source": [
        "images, category = [], []\n",
        "for cat in categories:\n",
        "  path_cat = os.listdir(os.path.join(all_dir, cat))\n",
        "  for image in path_cat:\n",
        "    images.append(os.path.join(all_dir, cat, image))\n",
        "    category.append('dry' if cat == 'dry' else 'normal' if cat == 'normal' else 'oily')\n",
        "\n",
        "\n",
        "df = pd.DataFrame({'images':images, 'category':category})\n",
        "df = df.sample(frac=1, random_state=42).reset_index(drop=True)\n",
        "df.iloc[77]['images'].split('/')[-1]"
      ]
    },
    {
      "cell_type": "markdown",
      "metadata": {
        "id": "iR-ucRIPQN-Z"
      },
      "source": [
        "## Split data"
      ]
    },
    {
      "cell_type": "code",
      "execution_count": 15,
      "metadata": {
        "id": "O_C5me1vV35j"
      },
      "outputs": [],
      "source": [
        "# Split Train and validation set\n",
        "X_train, X_valid, y_train, y_valid = train_test_split(df['images'], df['category'],\n",
        "                                                      test_size=0.2, random_state=42,\n",
        "                                                      stratify=df['category'])\n",
        "\n",
        "# Split validation set for test set\n",
        "X_valid, X_test, y_valid, y_test = train_test_split(X_valid, y_valid, test_size=0.2,\n",
        "                                                    random_state=42, stratify=y_valid)"
      ]
    },
    {
      "cell_type": "code",
      "execution_count": 16,
      "metadata": {
        "id": "Bo8dx8OeCtVl",
        "colab": {
          "base_uri": "https://localhost:8080/",
          "height": 504
        },
        "outputId": "58343219-5dee-479d-812f-1a6165946de3"
      },
      "outputs": [
        {
          "output_type": "stream",
          "name": "stdout",
          "text": [
            "train: 2521\n",
            "valid: 504\n",
            "X_test : 127\n"
          ]
        },
        {
          "output_type": "display_data",
          "data": {
            "text/plain": [
              "<Figure size 640x480 with 1 Axes>"
            ],
            "image/png": "[encoded data removed]"
          },
          "metadata": {}
        }
      ],
      "source": [
        "# check qty of split\n",
        "print(f'train: {len(X_train)}\\nvalid: {len(X_valid)}\\nX_test : {len(X_test)}')\n",
        "plot_portion(values=[len(X_train), len(X_valid), len(X_test)], labels=['train', 'valid', 'test'])"
      ]
    },
    {
      "cell_type": "code",
      "execution_count": 17,
      "metadata": {
        "id": "U8rieuDguSO2",
        "colab": {
          "base_uri": "https://localhost:8080/"
        },
        "outputId": "4d40ff6d-7199-4298-b987-ec5141bd00f3"
      },
      "outputs": [
        {
          "output_type": "stream",
          "name": "stdout",
          "text": [
            "successfully moved 2521 files to /content/Oily-Dry-Skin-Types/train/dry/dry_93553a3d9e1ef7ee0f56_jpg.rf.877e3e953cc77b54ee75515f664e74aa.jpg\n",
            "successfully moved 504 files to /content/Oily-Dry-Skin-Types/valid/oily/oily_a2c8187d92132c9cb25e_jpg.rf.903cc46d7d12907d452f9f0181259c13.jpg\n",
            "successfully moved 127 files to /content/Oily-Dry-Skin-Types/test/dry/dry_b088908102ba6469f5cc_jpg.rf.0a034f84ade649b35abd61b96862731c.jpg\n"
          ]
        }
      ],
      "source": [
        "# Moving a train files to train directory\n",
        "move_files_after_split(X_train, y_train, train_dir)\n",
        "move_files_after_split(X_valid, y_valid, valid_dir)\n",
        "move_files_after_split(X_test, y_test, test_dir)"
      ]
    },
    {
      "cell_type": "code",
      "execution_count": 18,
      "metadata": {
        "id": "MgR1f7Euw3jn",
        "colab": {
          "base_uri": "https://localhost:8080/"
        },
        "outputId": "2dd06c04-635c-4767-fc4c-e6f934834de5"
      },
      "outputs": [
        {
          "output_type": "execute_result",
          "data": {
            "text/plain": [
              "(0, 3)"
            ]
          },
          "metadata": {},
          "execution_count": 18
        }
      ],
      "source": [
        "# Check if the images from (all) category is moved\n",
        "count_files_and_directories(os.path.join(base_dir, 'all'))"
      ]
    },
    {
      "cell_type": "code",
      "execution_count": 19,
      "metadata": {
        "id": "W7eluyu38rim",
        "colab": {
          "base_uri": "https://localhost:8080/"
        },
        "outputId": "469de9b8-d411-417f-81c8-f72937146cc5"
      },
      "outputs": [
        {
          "output_type": "stream",
          "name": "stdout",
          "text": [
            "(127, 3)\n",
            "(2521, 3)\n",
            "(504, 3)\n"
          ]
        }
      ],
      "source": [
        "# Check if the images is moved as a split portion\n",
        "print(count_files_and_directories(os.path.join(base_dir, 'test'))) # return len of (files, directories)\n",
        "print(count_files_and_directories(os.path.join(base_dir, 'train')))# return len of (files, directories\n",
        "print(count_files_and_directories(os.path.join(base_dir, 'valid')))# return len of (files, directories"
      ]
    },
    {
      "cell_type": "markdown",
      "source": [
        "# Download splitted dataset"
      ],
      "metadata": {
        "id": "PcEW2UQS5eGt"
      }
    },
    {
      "cell_type": "code",
      "execution_count": 20,
      "metadata": {
        "id": "tbiF7NdSDa6U"
      },
      "outputs": [],
      "source": [
        "# remove temp file -(all) category-\n",
        "shutil.rmtree(os.path.join(base_dir, 'all'))"
      ]
    },
    {
      "cell_type": "markdown",
      "source": [
        "## Zipping file for download"
      ],
      "metadata": {
        "id": "8K-rmcq976Cr"
      }
    },
    {
      "cell_type": "code",
      "execution_count": 21,
      "metadata": {
        "id": "-76lI9-mD5Yt",
        "colab": {
          "base_uri": "https://localhost:8080/"
        },
        "outputId": "6cd37964-ec4e-4879-9416-fe2ee5b11ce2"
      },
      "outputs": [
        {
          "output_type": "stream",
          "name": "stdout",
          "text": [
            "successfull zipping /content/Oily-Dry-Skin-Types/ to skin-type-dataset.zip\n",
            "Directory '/content/Oily-Dry-Skin-Types/' has been zipped as 'skin-type-dataset.zip'\n"
          ]
        }
      ],
      "source": [
        "directory_path = base_dir\n",
        "zip_path = 'skin-type-dataset.zip'\n",
        "zip_directory(directory_path, zip_path)\n",
        "print(f\"Directory '{directory_path}' has been zipped as '{zip_path}'\")"
      ]
    },
    {
      "cell_type": "markdown",
      "metadata": {
        "id": "XOyv_chETLTs"
      },
      "source": [
        "# Generate Data (after split 80/15/5)"
      ]
    },
    {
      "cell_type": "code",
      "execution_count": 22,
      "metadata": {
        "collapsed": true,
        "id": "ldHJrs9lWN75"
      },
      "outputs": [],
      "source": [
        "# Unzip dataset\n",
        "zip_path = '/content/skin-type-dataset.zip'\n",
        "dataset_path = '/content/skin-type-dataset'\n",
        "\n",
        "if os.path.isdir(dataset_path):\n",
        "  shutil.rmtree(dataset_path)\n",
        "\n",
        "unzip_file(zip_path, extract_to=dataset_path)"
      ]
    },
    {
      "cell_type": "code",
      "execution_count": 23,
      "metadata": {
        "id": "iN61MkGMTUMr",
        "colab": {
          "base_uri": "https://localhost:8080/"
        },
        "outputId": "05a67302-f712-4617-976c-e67931d928d8"
      },
      "outputs": [
        {
          "output_type": "execute_result",
          "data": {
            "text/plain": [
              "('/content/skin-type-dataset/train',\n",
              " '/content/skin-type-dataset/valid',\n",
              " '/content/skin-type-dataset/test')"
            ]
          },
          "metadata": {},
          "execution_count": 23
        }
      ],
      "source": [
        "# defined directories\n",
        "# -------------------\n",
        "\n",
        "# base working directory\n",
        "base_dir = '/content/skin-type-dataset'\n",
        "\n",
        "# remove readme file\n",
        "readme_file = os.path.join(base_dir, 'README.dataset.txt')\n",
        "if os.path.isfile(readme_file):\n",
        "  os.remove(readme_file)\n",
        "\n",
        "# training data directory\n",
        "train_dir = os.path.join(base_dir, 'train')\n",
        "\n",
        " # validation data directory\n",
        "valid_dir =os.path.join(base_dir, 'valid')\n",
        "\n",
        "# test data directory\n",
        "test_dir = os.path.join(base_dir, 'test')\n",
        "\n",
        "train_dir, valid_dir, test_dir"
      ]
    },
    {
      "cell_type": "markdown",
      "metadata": {
        "id": "oRYyUs2gS1x7"
      },
      "source": [
        "## Data generator"
      ]
    },
    {
      "cell_type": "code",
      "execution_count": 24,
      "metadata": {
        "id": "K3-3D5Gw5yQ9"
      },
      "outputs": [],
      "source": [
        "# create imageDataGenerator instance\n",
        "train_datagen = ImageDataGenerator(rescale=1./255,\n",
        "                                   rotation_range=40,\n",
        "                                   width_shift_range=0.2,\n",
        "                                   height_shift_range=0.2,\n",
        "                                   shear_range=0.2,\n",
        "                                   zoom_range=0.2,\n",
        "                                   horizontal_flip=True,\n",
        "                                   fill_mode='nearest'\n",
        "                                   )\n",
        "validation_datagen = ImageDataGenerator(rescale=1./255)\n",
        "test_datagen = ImageDataGenerator(rescale=1./255)"
      ]
    },
    {
      "cell_type": "code",
      "execution_count": 25,
      "metadata": {
        "id": "3-Q3nppf9_25",
        "colab": {
          "base_uri": "https://localhost:8080/"
        },
        "outputId": "94034d8d-d3b7-4265-9fe0-5dfc77380b53"
      },
      "outputs": [
        {
          "output_type": "stream",
          "name": "stdout",
          "text": [
            "Found 2521 images belonging to 3 classes.\n",
            "Found 504 images belonging to 3 classes.\n",
            "Found 127 images belonging to 3 classes.\n"
          ]
        }
      ],
      "source": [
        "# create Generator\n",
        "train_generator = train_datagen.flow_from_directory(train_dir,\n",
        "                                                    target_size=(224,224),\n",
        "                                                    batch_size=32,\n",
        "                                                    class_mode='categorical'\n",
        "                                                    )\n",
        "\n",
        "validation_generator = validation_datagen.flow_from_directory(valid_dir,\n",
        "                                                    target_size=(224,224),\n",
        "                                                    batch_size=32,\n",
        "                                                    class_mode='categorical'\n",
        "                                                    )\n",
        "\n",
        "test_generator = test_datagen.flow_from_directory(test_dir,\n",
        "                                                    target_size=(224,224),\n",
        "                                                    batch_size=32,\n",
        "                                                    class_mode='categorical'\n",
        "                                                    )"
      ]
    },
    {
      "cell_type": "code",
      "execution_count": 26,
      "metadata": {
        "id": "QKNg9qTkMZ2Q",
        "colab": {
          "base_uri": "https://localhost:8080/"
        },
        "outputId": "0b9e914d-00b9-4cf7-cc89-d6b732228cc0"
      },
      "outputs": [
        {
          "output_type": "execute_result",
          "data": {
            "text/plain": [
              "{'dry': 0, 'normal': 1, 'oily': 2}"
            ]
          },
          "metadata": {},
          "execution_count": 26
        }
      ],
      "source": [
        "train_generator.class_indices"
      ]
    },
    {
      "cell_type": "markdown",
      "metadata": {
        "id": "RkLfH1YfibHW"
      },
      "source": [
        "# Data Visualitaion"
      ]
    },
    {
      "cell_type": "code",
      "execution_count": 27,
      "metadata": {
        "id": "yu6RbLHdidI-"
      },
      "outputs": [],
      "source": [
        "split_names = ['train','valid', 'test']\n",
        "num_train, _ = count_files_and_directories(train_dir)\n",
        "num_valid, _ = count_files_and_directories(valid_dir)\n",
        "num_test, _ = count_files_and_directories(test_dir)\n",
        "values = [num_train, num_valid, num_test]"
      ]
    },
    {
      "cell_type": "code",
      "execution_count": 28,
      "metadata": {
        "id": "5uBgVc29idDO",
        "colab": {
          "base_uri": "https://localhost:8080/",
          "height": 452
        },
        "outputId": "953400db-9da9-46ad-e666-b63cea6597b1"
      },
      "outputs": [
        {
          "output_type": "display_data",
          "data": {
            "text/plain": [
              "<Figure size 640x480 with 1 Axes>"
            ],
            "image/png": "[encoded data removed]"
          },
          "metadata": {}
        }
      ],
      "source": [
        "plot_portion(values, split_names)"
      ]
    },
    {
      "cell_type": "markdown",
      "metadata": {
        "id": "_rnbBYOFMlf7"
      },
      "source": [
        "# Build model"
      ]
    },
    {
      "cell_type": "code",
      "execution_count": 29,
      "metadata": {
        "id": "4aUBs4dsUK-u",
        "colab": {
          "base_uri": "https://localhost:8080/"
        },
        "outputId": "95235973-a975-4509-bfc1-65def38453cc"
      },
      "outputs": [
        {
          "output_type": "stream",
          "name": "stdout",
          "text": [
            "Downloading data from https://storage.googleapis.com/tensorflow/keras-applications/resnet/resnet50v2_weights_tf_dim_ordering_tf_kernels_notop.h5\n",
            "94668760/94668760 [==============================] - 1s 0us/step\n"
          ]
        }
      ],
      "source": [
        "base_model = ResNet50V2(weights='imagenet', include_top=False, input_shape=(224, 224, 3))"
      ]
    },
    {
      "cell_type": "code",
      "execution_count": 30,
      "metadata": {
        "id": "NDfE94SlMkpR",
        "colab": {
          "base_uri": "https://localhost:8080/"
        },
        "outputId": "022bcb85-7fbc-44ee-e8cf-0b0a3e6e85c6"
      },
      "outputs": [
        {
          "output_type": "execute_result",
          "data": {
            "text/plain": [
              "<keras.src.engine.functional.Functional at 0x7976bef98ca0>"
            ]
          },
          "metadata": {},
          "execution_count": 30
        }
      ],
      "source": [
        "def build_model(hp):\n",
        "  x = base_model.output\n",
        "\n",
        "  if hp.Boolean(\"flatten\"):\n",
        "      x = Flatten()(x)\n",
        "  elif hp.Boolean(\"global_average_pooling\"):\n",
        "      x = GlobalAveragePooling2D()(x)\n",
        "\n",
        "  # Tune whether to use dropout.\n",
        "  if hp.Boolean(\"dropout\"):\n",
        "      x = Dropout(rate=0.25)(x)\n",
        "\n",
        "  x = Dense(\n",
        "        # Tune number of units.\n",
        "        units=hp.Int(\"units\", min_value=32, max_value=1024, step=32),\n",
        "        activation='relu')(x)\n",
        "\n",
        "  # Tune whether to use dropout.\n",
        "  if hp.Boolean(\"dropout\"):\n",
        "      x = Dropout(rate=0.25)(x)\n",
        "\n",
        "  x = Dense(\n",
        "        # Tune number of units.\n",
        "        units=hp.Int(\"units\", min_value=32, max_value=512, step=32),\n",
        "        activation='relu')(x)\n",
        "\n",
        "  if hp.Boolean(\"batch_normalization\"):\n",
        "    x = BatchNormalization()(x)\n",
        "\n",
        "  predictions = Dense(3, activation='softmax')(x)\n",
        "\n",
        "  # Create model\n",
        "  model = Model(inputs=base_model.input, outputs=predictions)\n",
        "\n",
        "  # Define the optimizer learning rate as a hyperparameter.\n",
        "  learning_rate = hp.Float(\"learning_rate\", min_value=1e-6, max_value=1e-2, sampling=\"log\")\n",
        "\n",
        "  # Define learning rate scheduler\n",
        "  lr_schedule = keras.optimizers.schedules.ExponentialDecay(\n",
        "    initial_learning_rate=learning_rate,\n",
        "    decay_steps=100000,\n",
        "    decay_rate=0.96,\n",
        "    staircase=True)\n",
        "\n",
        "  model.compile(optimizer=Adam(learning_rate=lr_schedule),\n",
        "                loss='categorical_crossentropy',\n",
        "                metrics=['accuracy'])\n",
        "  return model\n",
        "\n",
        "# create a model\n",
        "model = build_model(keras_tuner.HyperParameters())\n",
        "model"
      ]
    },
    {
      "cell_type": "code",
      "execution_count": 32,
      "metadata": {
        "id": "BuD5RtexaGe6",
        "colab": {
          "base_uri": "https://localhost:8080/"
        },
        "outputId": "f3e12403-a66f-453c-defb-86131c11a8f7"
      },
      "outputs": [
        {
          "output_type": "stream",
          "name": "stdout",
          "text": [
            "Search space summary\n",
            "Default search space size: 6\n",
            "flatten (Boolean)\n",
            "{'default': False, 'conditions': []}\n",
            "global_average_pooling (Boolean)\n",
            "{'default': False, 'conditions': []}\n",
            "dropout (Boolean)\n",
            "{'default': False, 'conditions': []}\n",
            "units (Int)\n",
            "{'default': None, 'conditions': [], 'min_value': 32, 'max_value': 1024, 'step': 32, 'sampling': 'linear'}\n",
            "batch_normalization (Boolean)\n",
            "{'default': False, 'conditions': []}\n",
            "learning_rate (Float)\n",
            "{'default': 1e-06, 'conditions': [], 'min_value': 1e-06, 'max_value': 0.01, 'step': None, 'sampling': 'log'}\n"
          ]
        }
      ],
      "source": [
        "# define tuner using RandomSearch\n",
        "tuner = keras_tuner.RandomSearch(\n",
        "    hypermodel=build_model,\n",
        "    objective=\"val_accuracy\",\n",
        "    max_trials=5,\n",
        "    executions_per_trial=2,\n",
        "    overwrite=True,\n",
        "    directory=\"/content/keras_tuner/\",\n",
        "    project_name=\"skin_type_model\",\n",
        ")\n",
        "\n",
        "# print search space summary\n",
        "tuner.search_space_summary()"
      ]
    },
    {
      "cell_type": "code",
      "execution_count": 33,
      "metadata": {
        "colab": {
          "base_uri": "https://localhost:8080/"
        },
        "id": "5R6EEY5kbzEM",
        "outputId": "0ae49d5f-27d9-4a95-ef14-1e663684555a"
      },
      "outputs": [
        {
          "output_type": "stream",
          "name": "stdout",
          "text": [
            "Trial 5 Complete [00h 00m 03s]\n",
            "\n",
            "Best val_accuracy So Far: 0.557539701461792\n",
            "Total elapsed time: 00h 16m 22s\n"
          ]
        }
      ],
      "source": [
        "# start search best parameters\n",
        "tuner.search(train_generator, epochs=2, validation_data=validation_generator)"
      ]
    },
    {
      "cell_type": "markdown",
      "source": [
        "## Query Result"
      ],
      "metadata": {
        "id": "qveL_x3SaEhi"
      }
    },
    {
      "cell_type": "code",
      "source": [
        "# Get the top 2 models.\n",
        "models = tuner.get_best_models(num_models=3)\n",
        "best_model = models[0]\n",
        "best_model.summary()"
      ],
      "metadata": {
        "id": "bz-5KlQ_aEJk",
        "colab": {
          "base_uri": "https://localhost:8080/"
        },
        "outputId": "3bf18842-0a81-464c-9fe2-ea84d1b17d55"
      },
      "execution_count": 34,
      "outputs": [
        {
          "output_type": "stream",
          "name": "stdout",
          "text": [
            "Model: \"model\"\n",
            "__________________________________________________________________________________________________\n",
            " Layer (type)                Output Shape                 Param #   Connected to                  \n",
            "==================================================================================================\n",
            " input_1 (InputLayer)        [(None, 224, 224, 3)]        0         []                            \n",
            "                                                                                                  \n",
            " conv1_pad (ZeroPadding2D)   (None, 230, 230, 3)          0         ['input_1[0][0]']             \n",
            "                                                                                                  \n",
            " conv1_conv (Conv2D)         (None, 112, 112, 64)         9472      ['conv1_pad[0][0]']           \n",
            "                                                                                                  \n",
            " pool1_pad (ZeroPadding2D)   (None, 114, 114, 64)         0         ['conv1_conv[0][0]']          \n",
            "                                                                                                  \n",
            " pool1_pool (MaxPooling2D)   (None, 56, 56, 64)           0         ['pool1_pad[0][0]']           \n",
            "                                                                                                  \n",
            " conv2_block1_preact_bn (Ba  (None, 56, 56, 64)           256       ['pool1_pool[0][0]']          \n",
            " tchNormalization)                                                                                \n",
            "                                                                                                  \n",
            " conv2_block1_preact_relu (  (None, 56, 56, 64)           0         ['conv2_block1_preact_bn[0][0]\n",
            " Activation)                                                        ']                            \n",
            "                                                                                                  \n",
            " conv2_block1_1_conv (Conv2  (None, 56, 56, 64)           4096      ['conv2_block1_preact_relu[0][\n",
            " D)                                                                 0]']                          \n",
            "                                                                                                  \n",
            " conv2_block1_1_bn (BatchNo  (None, 56, 56, 64)           256       ['conv2_block1_1_conv[0][0]'] \n",
            " rmalization)                                                                                     \n",
            "                                                                                                  \n",
            " conv2_block1_1_relu (Activ  (None, 56, 56, 64)           0         ['conv2_block1_1_bn[0][0]']   \n",
            " ation)                                                                                           \n",
            "                                                                                                  \n",
            " conv2_block1_2_pad (ZeroPa  (None, 58, 58, 64)           0         ['conv2_block1_1_relu[0][0]'] \n",
            " dding2D)                                                                                         \n",
            "                                                                                                  \n",
            " conv2_block1_2_conv (Conv2  (None, 56, 56, 64)           36864     ['conv2_block1_2_pad[0][0]']  \n",
            " D)                                                                                               \n",
            "                                                                                                  \n",
            " conv2_block1_2_bn (BatchNo  (None, 56, 56, 64)           256       ['conv2_block1_2_conv[0][0]'] \n",
            " rmalization)                                                                                     \n",
            "                                                                                                  \n",
            " conv2_block1_2_relu (Activ  (None, 56, 56, 64)           0         ['conv2_block1_2_bn[0][0]']   \n",
            " ation)                                                                                           \n",
            "                                                                                                  \n",
            " conv2_block1_0_conv (Conv2  (None, 56, 56, 256)          16640     ['conv2_block1_preact_relu[0][\n",
            " D)                                                                 0]']                          \n",
            "                                                                                                  \n",
            " conv2_block1_3_conv (Conv2  (None, 56, 56, 256)          16640     ['conv2_block1_2_relu[0][0]'] \n",
            " D)                                                                                               \n",
            "                                                                                                  \n",
            " conv2_block1_out (Add)      (None, 56, 56, 256)          0         ['conv2_block1_0_conv[0][0]', \n",
            "                                                                     'conv2_block1_3_conv[0][0]'] \n",
            "                                                                                                  \n",
            " conv2_block2_preact_bn (Ba  (None, 56, 56, 256)          1024      ['conv2_block1_out[0][0]']    \n",
            " tchNormalization)                                                                                \n",
            "                                                                                                  \n",
            " conv2_block2_preact_relu (  (None, 56, 56, 256)          0         ['conv2_block2_preact_bn[0][0]\n",
            " Activation)                                                        ']                            \n",
            "                                                                                                  \n",
            " conv2_block2_1_conv (Conv2  (None, 56, 56, 64)           16384     ['conv2_block2_preact_relu[0][\n",
            " D)                                                                 0]']                          \n",
            "                                                                                                  \n",
            " conv2_block2_1_bn (BatchNo  (None, 56, 56, 64)           256       ['conv2_block2_1_conv[0][0]'] \n",
            " rmalization)                                                                                     \n",
            "                                                                                                  \n",
            " conv2_block2_1_relu (Activ  (None, 56, 56, 64)           0         ['conv2_block2_1_bn[0][0]']   \n",
            " ation)                                                                                           \n",
            "                                                                                                  \n",
            " conv2_block2_2_pad (ZeroPa  (None, 58, 58, 64)           0         ['conv2_block2_1_relu[0][0]'] \n",
            " dding2D)                                                                                         \n",
            "                                                                                                  \n",
            " conv2_block2_2_conv (Conv2  (None, 56, 56, 64)           36864     ['conv2_block2_2_pad[0][0]']  \n",
            " D)                                                                                               \n",
            "                                                                                                  \n",
            " conv2_block2_2_bn (BatchNo  (None, 56, 56, 64)           256       ['conv2_block2_2_conv[0][0]'] \n",
            " rmalization)                                                                                     \n",
            "                                                                                                  \n",
            " conv2_block2_2_relu (Activ  (None, 56, 56, 64)           0         ['conv2_block2_2_bn[0][0]']   \n",
            " ation)                                                                                           \n",
            "                                                                                                  \n",
            " conv2_block2_3_conv (Conv2  (None, 56, 56, 256)          16640     ['conv2_block2_2_relu[0][0]'] \n",
            " D)                                                                                               \n",
            "                                                                                                  \n",
            " conv2_block2_out (Add)      (None, 56, 56, 256)          0         ['conv2_block1_out[0][0]',    \n",
            "                                                                     'conv2_block2_3_conv[0][0]'] \n",
            "                                                                                                  \n",
            " conv2_block3_preact_bn (Ba  (None, 56, 56, 256)          1024      ['conv2_block2_out[0][0]']    \n",
            " tchNormalization)                                                                                \n",
            "                                                                                                  \n",
            " conv2_block3_preact_relu (  (None, 56, 56, 256)          0         ['conv2_block3_preact_bn[0][0]\n",
            " Activation)                                                        ']                            \n",
            "                                                                                                  \n",
            " conv2_block3_1_conv (Conv2  (None, 56, 56, 64)           16384     ['conv2_block3_preact_relu[0][\n",
            " D)                                                                 0]']                          \n",
            "                                                                                                  \n",
            " conv2_block3_1_bn (BatchNo  (None, 56, 56, 64)           256       ['conv2_block3_1_conv[0][0]'] \n",
            " rmalization)                                                                                     \n",
            "                                                                                                  \n",
            " conv2_block3_1_relu (Activ  (None, 56, 56, 64)           0         ['conv2_block3_1_bn[0][0]']   \n",
            " ation)                                                                                           \n",
            "                                                                                                  \n",
            " conv2_block3_2_pad (ZeroPa  (None, 58, 58, 64)           0         ['conv2_block3_1_relu[0][0]'] \n",
            " dding2D)                                                                                         \n",
            "                                                                                                  \n",
            " conv2_block3_2_conv (Conv2  (None, 28, 28, 64)           36864     ['conv2_block3_2_pad[0][0]']  \n",
            " D)                                                                                               \n",
            "                                                                                                  \n",
            " conv2_block3_2_bn (BatchNo  (None, 28, 28, 64)           256       ['conv2_block3_2_conv[0][0]'] \n",
            " rmalization)                                                                                     \n",
            "                                                                                                  \n",
            " conv2_block3_2_relu (Activ  (None, 28, 28, 64)           0         ['conv2_block3_2_bn[0][0]']   \n",
            " ation)                                                                                           \n",
            "                                                                                                  \n",
            " max_pooling2d (MaxPooling2  (None, 28, 28, 256)          0         ['conv2_block2_out[0][0]']    \n",
            " D)                                                                                               \n",
            "                                                                                                  \n",
            " conv2_block3_3_conv (Conv2  (None, 28, 28, 256)          16640     ['conv2_block3_2_relu[0][0]'] \n",
            " D)                                                                                               \n",
            "                                                                                                  \n",
            " conv2_block3_out (Add)      (None, 28, 28, 256)          0         ['max_pooling2d[0][0]',       \n",
            "                                                                     'conv2_block3_3_conv[0][0]'] \n",
            "                                                                                                  \n",
            " conv3_block1_preact_bn (Ba  (None, 28, 28, 256)          1024      ['conv2_block3_out[0][0]']    \n",
            " tchNormalization)                                                                                \n",
            "                                                                                                  \n",
            " conv3_block1_preact_relu (  (None, 28, 28, 256)          0         ['conv3_block1_preact_bn[0][0]\n",
            " Activation)                                                        ']                            \n",
            "                                                                                                  \n",
            " conv3_block1_1_conv (Conv2  (None, 28, 28, 128)          32768     ['conv3_block1_preact_relu[0][\n",
            " D)                                                                 0]']                          \n",
            "                                                                                                  \n",
            " conv3_block1_1_bn (BatchNo  (None, 28, 28, 128)          512       ['conv3_block1_1_conv[0][0]'] \n",
            " rmalization)                                                                                     \n",
            "                                                                                                  \n",
            " conv3_block1_1_relu (Activ  (None, 28, 28, 128)          0         ['conv3_block1_1_bn[0][0]']   \n",
            " ation)                                                                                           \n",
            "                                                                                                  \n",
            " conv3_block1_2_pad (ZeroPa  (None, 30, 30, 128)          0         ['conv3_block1_1_relu[0][0]'] \n",
            " dding2D)                                                                                         \n",
            "                                                                                                  \n",
            " conv3_block1_2_conv (Conv2  (None, 28, 28, 128)          147456    ['conv3_block1_2_pad[0][0]']  \n",
            " D)                                                                                               \n",
            "                                                                                                  \n",
            " conv3_block1_2_bn (BatchNo  (None, 28, 28, 128)          512       ['conv3_block1_2_conv[0][0]'] \n",
            " rmalization)                                                                                     \n",
            "                                                                                                  \n",
            " conv3_block1_2_relu (Activ  (None, 28, 28, 128)          0         ['conv3_block1_2_bn[0][0]']   \n",
            " ation)                                                                                           \n",
            "                                                                                                  \n",
            " conv3_block1_0_conv (Conv2  (None, 28, 28, 512)          131584    ['conv3_block1_preact_relu[0][\n",
            " D)                                                                 0]']                          \n",
            "                                                                                                  \n",
            " conv3_block1_3_conv (Conv2  (None, 28, 28, 512)          66048     ['conv3_block1_2_relu[0][0]'] \n",
            " D)                                                                                               \n",
            "                                                                                                  \n",
            " conv3_block1_out (Add)      (None, 28, 28, 512)          0         ['conv3_block1_0_conv[0][0]', \n",
            "                                                                     'conv3_block1_3_conv[0][0]'] \n",
            "                                                                                                  \n",
            " conv3_block2_preact_bn (Ba  (None, 28, 28, 512)          2048      ['conv3_block1_out[0][0]']    \n",
            " tchNormalization)                                                                                \n",
            "                                                                                                  \n",
            " conv3_block2_preact_relu (  (None, 28, 28, 512)          0         ['conv3_block2_preact_bn[0][0]\n",
            " Activation)                                                        ']                            \n",
            "                                                                                                  \n",
            " conv3_block2_1_conv (Conv2  (None, 28, 28, 128)          65536     ['conv3_block2_preact_relu[0][\n",
            " D)                                                                 0]']                          \n",
            "                                                                                                  \n",
            " conv3_block2_1_bn (BatchNo  (None, 28, 28, 128)          512       ['conv3_block2_1_conv[0][0]'] \n",
            " rmalization)                                                                                     \n",
            "                                                                                                  \n",
            " conv3_block2_1_relu (Activ  (None, 28, 28, 128)          0         ['conv3_block2_1_bn[0][0]']   \n",
            " ation)                                                                                           \n",
            "                                                                                                  \n",
            " conv3_block2_2_pad (ZeroPa  (None, 30, 30, 128)          0         ['conv3_block2_1_relu[0][0]'] \n",
            " dding2D)                                                                                         \n",
            "                                                                                                  \n",
            " conv3_block2_2_conv (Conv2  (None, 28, 28, 128)          147456    ['conv3_block2_2_pad[0][0]']  \n",
            " D)                                                                                               \n",
            "                                                                                                  \n",
            " conv3_block2_2_bn (BatchNo  (None, 28, 28, 128)          512       ['conv3_block2_2_conv[0][0]'] \n",
            " rmalization)                                                                                     \n",
            "                                                                                                  \n",
            " conv3_block2_2_relu (Activ  (None, 28, 28, 128)          0         ['conv3_block2_2_bn[0][0]']   \n",
            " ation)                                                                                           \n",
            "                                                                                                  \n",
            " conv3_block2_3_conv (Conv2  (None, 28, 28, 512)          66048     ['conv3_block2_2_relu[0][0]'] \n",
            " D)                                                                                               \n",
            "                                                                                                  \n",
            " conv3_block2_out (Add)      (None, 28, 28, 512)          0         ['conv3_block1_out[0][0]',    \n",
            "                                                                     'conv3_block2_3_conv[0][0]'] \n",
            "                                                                                                  \n",
            " conv3_block3_preact_bn (Ba  (None, 28, 28, 512)          2048      ['conv3_block2_out[0][0]']    \n",
            " tchNormalization)                                                                                \n",
            "                                                                                                  \n",
            " conv3_block3_preact_relu (  (None, 28, 28, 512)          0         ['conv3_block3_preact_bn[0][0]\n",
            " Activation)                                                        ']                            \n",
            "                                                                                                  \n",
            " conv3_block3_1_conv (Conv2  (None, 28, 28, 128)          65536     ['conv3_block3_preact_relu[0][\n",
            " D)                                                                 0]']                          \n",
            "                                                                                                  \n",
            " conv3_block3_1_bn (BatchNo  (None, 28, 28, 128)          512       ['conv3_block3_1_conv[0][0]'] \n",
            " rmalization)                                                                                     \n",
            "                                                                                                  \n",
            " conv3_block3_1_relu (Activ  (None, 28, 28, 128)          0         ['conv3_block3_1_bn[0][0]']   \n",
            " ation)                                                                                           \n",
            "                                                                                                  \n",
            " conv3_block3_2_pad (ZeroPa  (None, 30, 30, 128)          0         ['conv3_block3_1_relu[0][0]'] \n",
            " dding2D)                                                                                         \n",
            "                                                                                                  \n",
            " conv3_block3_2_conv (Conv2  (None, 28, 28, 128)          147456    ['conv3_block3_2_pad[0][0]']  \n",
            " D)                                                                                               \n",
            "                                                                                                  \n",
            " conv3_block3_2_bn (BatchNo  (None, 28, 28, 128)          512       ['conv3_block3_2_conv[0][0]'] \n",
            " rmalization)                                                                                     \n",
            "                                                                                                  \n",
            " conv3_block3_2_relu (Activ  (None, 28, 28, 128)          0         ['conv3_block3_2_bn[0][0]']   \n",
            " ation)                                                                                           \n",
            "                                                                                                  \n",
            " conv3_block3_3_conv (Conv2  (None, 28, 28, 512)          66048     ['conv3_block3_2_relu[0][0]'] \n",
            " D)                                                                                               \n",
            "                                                                                                  \n",
            " conv3_block3_out (Add)      (None, 28, 28, 512)          0         ['conv3_block2_out[0][0]',    \n",
            "                                                                     'conv3_block3_3_conv[0][0]'] \n",
            "                                                                                                  \n",
            " conv3_block4_preact_bn (Ba  (None, 28, 28, 512)          2048      ['conv3_block3_out[0][0]']    \n",
            " tchNormalization)                                                                                \n",
            "                                                                                                  \n",
            " conv3_block4_preact_relu (  (None, 28, 28, 512)          0         ['conv3_block4_preact_bn[0][0]\n",
            " Activation)                                                        ']                            \n",
            "                                                                                                  \n",
            " conv3_block4_1_conv (Conv2  (None, 28, 28, 128)          65536     ['conv3_block4_preact_relu[0][\n",
            " D)                                                                 0]']                          \n",
            "                                                                                                  \n",
            " conv3_block4_1_bn (BatchNo  (None, 28, 28, 128)          512       ['conv3_block4_1_conv[0][0]'] \n",
            " rmalization)                                                                                     \n",
            "                                                                                                  \n",
            " conv3_block4_1_relu (Activ  (None, 28, 28, 128)          0         ['conv3_block4_1_bn[0][0]']   \n",
            " ation)                                                                                           \n",
            "                                                                                                  \n",
            " conv3_block4_2_pad (ZeroPa  (None, 30, 30, 128)          0         ['conv3_block4_1_relu[0][0]'] \n",
            " dding2D)                                                                                         \n",
            "                                                                                                  \n",
            " conv3_block4_2_conv (Conv2  (None, 14, 14, 128)          147456    ['conv3_block4_2_pad[0][0]']  \n",
            " D)                                                                                               \n",
            "                                                                                                  \n",
            " conv3_block4_2_bn (BatchNo  (None, 14, 14, 128)          512       ['conv3_block4_2_conv[0][0]'] \n",
            " rmalization)                                                                                     \n",
            "                                                                                                  \n",
            " conv3_block4_2_relu (Activ  (None, 14, 14, 128)          0         ['conv3_block4_2_bn[0][0]']   \n",
            " ation)                                                                                           \n",
            "                                                                                                  \n",
            " max_pooling2d_1 (MaxPoolin  (None, 14, 14, 512)          0         ['conv3_block3_out[0][0]']    \n",
            " g2D)                                                                                             \n",
            "                                                                                                  \n",
            " conv3_block4_3_conv (Conv2  (None, 14, 14, 512)          66048     ['conv3_block4_2_relu[0][0]'] \n",
            " D)                                                                                               \n",
            "                                                                                                  \n",
            " conv3_block4_out (Add)      (None, 14, 14, 512)          0         ['max_pooling2d_1[0][0]',     \n",
            "                                                                     'conv3_block4_3_conv[0][0]'] \n",
            "                                                                                                  \n",
            " conv4_block1_preact_bn (Ba  (None, 14, 14, 512)          2048      ['conv3_block4_out[0][0]']    \n",
            " tchNormalization)                                                                                \n",
            "                                                                                                  \n",
            " conv4_block1_preact_relu (  (None, 14, 14, 512)          0         ['conv4_block1_preact_bn[0][0]\n",
            " Activation)                                                        ']                            \n",
            "                                                                                                  \n",
            " conv4_block1_1_conv (Conv2  (None, 14, 14, 256)          131072    ['conv4_block1_preact_relu[0][\n",
            " D)                                                                 0]']                          \n",
            "                                                                                                  \n",
            " conv4_block1_1_bn (BatchNo  (None, 14, 14, 256)          1024      ['conv4_block1_1_conv[0][0]'] \n",
            " rmalization)                                                                                     \n",
            "                                                                                                  \n",
            " conv4_block1_1_relu (Activ  (None, 14, 14, 256)          0         ['conv4_block1_1_bn[0][0]']   \n",
            " ation)                                                                                           \n",
            "                                                                                                  \n",
            " conv4_block1_2_pad (ZeroPa  (None, 16, 16, 256)          0         ['conv4_block1_1_relu[0][0]'] \n",
            " dding2D)                                                                                         \n",
            "                                                                                                  \n",
            " conv4_block1_2_conv (Conv2  (None, 14, 14, 256)          589824    ['conv4_block1_2_pad[0][0]']  \n",
            " D)                                                                                               \n",
            "                                                                                                  \n",
            " conv4_block1_2_bn (BatchNo  (None, 14, 14, 256)          1024      ['conv4_block1_2_conv[0][0]'] \n",
            " rmalization)                                                                                     \n",
            "                                                                                                  \n",
            " conv4_block1_2_relu (Activ  (None, 14, 14, 256)          0         ['conv4_block1_2_bn[0][0]']   \n",
            " ation)                                                                                           \n",
            "                                                                                                  \n",
            " conv4_block1_0_conv (Conv2  (None, 14, 14, 1024)         525312    ['conv4_block1_preact_relu[0][\n",
            " D)                                                                 0]']                          \n",
            "                                                                                                  \n",
            " conv4_block1_3_conv (Conv2  (None, 14, 14, 1024)         263168    ['conv4_block1_2_relu[0][0]'] \n",
            " D)                                                                                               \n",
            "                                                                                                  \n",
            " conv4_block1_out (Add)      (None, 14, 14, 1024)         0         ['conv4_block1_0_conv[0][0]', \n",
            "                                                                     'conv4_block1_3_conv[0][0]'] \n",
            "                                                                                                  \n",
            " conv4_block2_preact_bn (Ba  (None, 14, 14, 1024)         4096      ['conv4_block1_out[0][0]']    \n",
            " tchNormalization)                                                                                \n",
            "                                                                                                  \n",
            " conv4_block2_preact_relu (  (None, 14, 14, 1024)         0         ['conv4_block2_preact_bn[0][0]\n",
            " Activation)                                                        ']                            \n",
            "                                                                                                  \n",
            " conv4_block2_1_conv (Conv2  (None, 14, 14, 256)          262144    ['conv4_block2_preact_relu[0][\n",
            " D)                                                                 0]']                          \n",
            "                                                                                                  \n",
            " conv4_block2_1_bn (BatchNo  (None, 14, 14, 256)          1024      ['conv4_block2_1_conv[0][0]'] \n",
            " rmalization)                                                                                     \n",
            "                                                                                                  \n",
            " conv4_block2_1_relu (Activ  (None, 14, 14, 256)          0         ['conv4_block2_1_bn[0][0]']   \n",
            " ation)                                                                                           \n",
            "                                                                                                  \n",
            " conv4_block2_2_pad (ZeroPa  (None, 16, 16, 256)          0         ['conv4_block2_1_relu[0][0]'] \n",
            " dding2D)                                                                                         \n",
            "                                                                                                  \n",
            " conv4_block2_2_conv (Conv2  (None, 14, 14, 256)          589824    ['conv4_block2_2_pad[0][0]']  \n",
            " D)                                                                                               \n",
            "                                                                                                  \n",
            " conv4_block2_2_bn (BatchNo  (None, 14, 14, 256)          1024      ['conv4_block2_2_conv[0][0]'] \n",
            " rmalization)                                                                                     \n",
            "                                                                                                  \n",
            " conv4_block2_2_relu (Activ  (None, 14, 14, 256)          0         ['conv4_block2_2_bn[0][0]']   \n",
            " ation)                                                                                           \n",
            "                                                                                                  \n",
            " conv4_block2_3_conv (Conv2  (None, 14, 14, 1024)         263168    ['conv4_block2_2_relu[0][0]'] \n",
            " D)                                                                                               \n",
            "                                                                                                  \n",
            " conv4_block2_out (Add)      (None, 14, 14, 1024)         0         ['conv4_block1_out[0][0]',    \n",
            "                                                                     'conv4_block2_3_conv[0][0]'] \n",
            "                                                                                                  \n",
            " conv4_block3_preact_bn (Ba  (None, 14, 14, 1024)         4096      ['conv4_block2_out[0][0]']    \n",
            " tchNormalization)                                                                                \n",
            "                                                                                                  \n",
            " conv4_block3_preact_relu (  (None, 14, 14, 1024)         0         ['conv4_block3_preact_bn[0][0]\n",
            " Activation)                                                        ']                            \n",
            "                                                                                                  \n",
            " conv4_block3_1_conv (Conv2  (None, 14, 14, 256)          262144    ['conv4_block3_preact_relu[0][\n",
            " D)                                                                 0]']                          \n",
            "                                                                                                  \n",
            " conv4_block3_1_bn (BatchNo  (None, 14, 14, 256)          1024      ['conv4_block3_1_conv[0][0]'] \n",
            " rmalization)                                                                                     \n",
            "                                                                                                  \n",
            " conv4_block3_1_relu (Activ  (None, 14, 14, 256)          0         ['conv4_block3_1_bn[0][0]']   \n",
            " ation)                                                                                           \n",
            "                                                                                                  \n",
            " conv4_block3_2_pad (ZeroPa  (None, 16, 16, 256)          0         ['conv4_block3_1_relu[0][0]'] \n",
            " dding2D)                                                                                         \n",
            "                                                                                                  \n",
            " conv4_block3_2_conv (Conv2  (None, 14, 14, 256)          589824    ['conv4_block3_2_pad[0][0]']  \n",
            " D)                                                                                               \n",
            "                                                                                                  \n",
            " conv4_block3_2_bn (BatchNo  (None, 14, 14, 256)          1024      ['conv4_block3_2_conv[0][0]'] \n",
            " rmalization)                                                                                     \n",
            "                                                                                                  \n",
            " conv4_block3_2_relu (Activ  (None, 14, 14, 256)          0         ['conv4_block3_2_bn[0][0]']   \n",
            " ation)                                                                                           \n",
            "                                                                                                  \n",
            " conv4_block3_3_conv (Conv2  (None, 14, 14, 1024)         263168    ['conv4_block3_2_relu[0][0]'] \n",
            " D)                                                                                               \n",
            "                                                                                                  \n",
            " conv4_block3_out (Add)      (None, 14, 14, 1024)         0         ['conv4_block2_out[0][0]',    \n",
            "                                                                     'conv4_block3_3_conv[0][0]'] \n",
            "                                                                                                  \n",
            " conv4_block4_preact_bn (Ba  (None, 14, 14, 1024)         4096      ['conv4_block3_out[0][0]']    \n",
            " tchNormalization)                                                                                \n",
            "                                                                                                  \n",
            " conv4_block4_preact_relu (  (None, 14, 14, 1024)         0         ['conv4_block4_preact_bn[0][0]\n",
            " Activation)                                                        ']                            \n",
            "                                                                                                  \n",
            " conv4_block4_1_conv (Conv2  (None, 14, 14, 256)          262144    ['conv4_block4_preact_relu[0][\n",
            " D)                                                                 0]']                          \n",
            "                                                                                                  \n",
            " conv4_block4_1_bn (BatchNo  (None, 14, 14, 256)          1024      ['conv4_block4_1_conv[0][0]'] \n",
            " rmalization)                                                                                     \n",
            "                                                                                                  \n",
            " conv4_block4_1_relu (Activ  (None, 14, 14, 256)          0         ['conv4_block4_1_bn[0][0]']   \n",
            " ation)                                                                                           \n",
            "                                                                                                  \n",
            " conv4_block4_2_pad (ZeroPa  (None, 16, 16, 256)          0         ['conv4_block4_1_relu[0][0]'] \n",
            " dding2D)                                                                                         \n",
            "                                                                                                  \n",
            " conv4_block4_2_conv (Conv2  (None, 14, 14, 256)          589824    ['conv4_block4_2_pad[0][0]']  \n",
            " D)                                                                                               \n",
            "                                                                                                  \n",
            " conv4_block4_2_bn (BatchNo  (None, 14, 14, 256)          1024      ['conv4_block4_2_conv[0][0]'] \n",
            " rmalization)                                                                                     \n",
            "                                                                                                  \n",
            " conv4_block4_2_relu (Activ  (None, 14, 14, 256)          0         ['conv4_block4_2_bn[0][0]']   \n",
            " ation)                                                                                           \n",
            "                                                                                                  \n",
            " conv4_block4_3_conv (Conv2  (None, 14, 14, 1024)         263168    ['conv4_block4_2_relu[0][0]'] \n",
            " D)                                                                                               \n",
            "                                                                                                  \n",
            " conv4_block4_out (Add)      (None, 14, 14, 1024)         0         ['conv4_block3_out[0][0]',    \n",
            "                                                                     'conv4_block4_3_conv[0][0]'] \n",
            "                                                                                                  \n",
            " conv4_block5_preact_bn (Ba  (None, 14, 14, 1024)         4096      ['conv4_block4_out[0][0]']    \n",
            " tchNormalization)                                                                                \n",
            "                                                                                                  \n",
            " conv4_block5_preact_relu (  (None, 14, 14, 1024)         0         ['conv4_block5_preact_bn[0][0]\n",
            " Activation)                                                        ']                            \n",
            "                                                                                                  \n",
            " conv4_block5_1_conv (Conv2  (None, 14, 14, 256)          262144    ['conv4_block5_preact_relu[0][\n",
            " D)                                                                 0]']                          \n",
            "                                                                                                  \n",
            " conv4_block5_1_bn (BatchNo  (None, 14, 14, 256)          1024      ['conv4_block5_1_conv[0][0]'] \n",
            " rmalization)                                                                                     \n",
            "                                                                                                  \n",
            " conv4_block5_1_relu (Activ  (None, 14, 14, 256)          0         ['conv4_block5_1_bn[0][0]']   \n",
            " ation)                                                                                           \n",
            "                                                                                                  \n",
            " conv4_block5_2_pad (ZeroPa  (None, 16, 16, 256)          0         ['conv4_block5_1_relu[0][0]'] \n",
            " dding2D)                                                                                         \n",
            "                                                                                                  \n",
            " conv4_block5_2_conv (Conv2  (None, 14, 14, 256)          589824    ['conv4_block5_2_pad[0][0]']  \n",
            " D)                                                                                               \n",
            "                                                                                                  \n",
            " conv4_block5_2_bn (BatchNo  (None, 14, 14, 256)          1024      ['conv4_block5_2_conv[0][0]'] \n",
            " rmalization)                                                                                     \n",
            "                                                                                                  \n",
            " conv4_block5_2_relu (Activ  (None, 14, 14, 256)          0         ['conv4_block5_2_bn[0][0]']   \n",
            " ation)                                                                                           \n",
            "                                                                                                  \n",
            " conv4_block5_3_conv (Conv2  (None, 14, 14, 1024)         263168    ['conv4_block5_2_relu[0][0]'] \n",
            " D)                                                                                               \n",
            "                                                                                                  \n",
            " conv4_block5_out (Add)      (None, 14, 14, 1024)         0         ['conv4_block4_out[0][0]',    \n",
            "                                                                     'conv4_block5_3_conv[0][0]'] \n",
            "                                                                                                  \n",
            " conv4_block6_preact_bn (Ba  (None, 14, 14, 1024)         4096      ['conv4_block5_out[0][0]']    \n",
            " tchNormalization)                                                                                \n",
            "                                                                                                  \n",
            " conv4_block6_preact_relu (  (None, 14, 14, 1024)         0         ['conv4_block6_preact_bn[0][0]\n",
            " Activation)                                                        ']                            \n",
            "                                                                                                  \n",
            " conv4_block6_1_conv (Conv2  (None, 14, 14, 256)          262144    ['conv4_block6_preact_relu[0][\n",
            " D)                                                                 0]']                          \n",
            "                                                                                                  \n",
            " conv4_block6_1_bn (BatchNo  (None, 14, 14, 256)          1024      ['conv4_block6_1_conv[0][0]'] \n",
            " rmalization)                                                                                     \n",
            "                                                                                                  \n",
            " conv4_block6_1_relu (Activ  (None, 14, 14, 256)          0         ['conv4_block6_1_bn[0][0]']   \n",
            " ation)                                                                                           \n",
            "                                                                                                  \n",
            " conv4_block6_2_pad (ZeroPa  (None, 16, 16, 256)          0         ['conv4_block6_1_relu[0][0]'] \n",
            " dding2D)                                                                                         \n",
            "                                                                                                  \n",
            " conv4_block6_2_conv (Conv2  (None, 7, 7, 256)            589824    ['conv4_block6_2_pad[0][0]']  \n",
            " D)                                                                                               \n",
            "                                                                                                  \n",
            " conv4_block6_2_bn (BatchNo  (None, 7, 7, 256)            1024      ['conv4_block6_2_conv[0][0]'] \n",
            " rmalization)                                                                                     \n",
            "                                                                                                  \n",
            " conv4_block6_2_relu (Activ  (None, 7, 7, 256)            0         ['conv4_block6_2_bn[0][0]']   \n",
            " ation)                                                                                           \n",
            "                                                                                                  \n",
            " max_pooling2d_2 (MaxPoolin  (None, 7, 7, 1024)           0         ['conv4_block5_out[0][0]']    \n",
            " g2D)                                                                                             \n",
            "                                                                                                  \n",
            " conv4_block6_3_conv (Conv2  (None, 7, 7, 1024)           263168    ['conv4_block6_2_relu[0][0]'] \n",
            " D)                                                                                               \n",
            "                                                                                                  \n",
            " conv4_block6_out (Add)      (None, 7, 7, 1024)           0         ['max_pooling2d_2[0][0]',     \n",
            "                                                                     'conv4_block6_3_conv[0][0]'] \n",
            "                                                                                                  \n",
            " conv5_block1_preact_bn (Ba  (None, 7, 7, 1024)           4096      ['conv4_block6_out[0][0]']    \n",
            " tchNormalization)                                                                                \n",
            "                                                                                                  \n",
            " conv5_block1_preact_relu (  (None, 7, 7, 1024)           0         ['conv5_block1_preact_bn[0][0]\n",
            " Activation)                                                        ']                            \n",
            "                                                                                                  \n",
            " conv5_block1_1_conv (Conv2  (None, 7, 7, 512)            524288    ['conv5_block1_preact_relu[0][\n",
            " D)                                                                 0]']                          \n",
            "                                                                                                  \n",
            " conv5_block1_1_bn (BatchNo  (None, 7, 7, 512)            2048      ['conv5_block1_1_conv[0][0]'] \n",
            " rmalization)                                                                                     \n",
            "                                                                                                  \n",
            " conv5_block1_1_relu (Activ  (None, 7, 7, 512)            0         ['conv5_block1_1_bn[0][0]']   \n",
            " ation)                                                                                           \n",
            "                                                                                                  \n",
            " conv5_block1_2_pad (ZeroPa  (None, 9, 9, 512)            0         ['conv5_block1_1_relu[0][0]'] \n",
            " dding2D)                                                                                         \n",
            "                                                                                                  \n",
            " conv5_block1_2_conv (Conv2  (None, 7, 7, 512)            2359296   ['conv5_block1_2_pad[0][0]']  \n",
            " D)                                                                                               \n",
            "                                                                                                  \n",
            " conv5_block1_2_bn (BatchNo  (None, 7, 7, 512)            2048      ['conv5_block1_2_conv[0][0]'] \n",
            " rmalization)                                                                                     \n",
            "                                                                                                  \n",
            " conv5_block1_2_relu (Activ  (None, 7, 7, 512)            0         ['conv5_block1_2_bn[0][0]']   \n",
            " ation)                                                                                           \n",
            "                                                                                                  \n",
            " conv5_block1_0_conv (Conv2  (None, 7, 7, 2048)           2099200   ['conv5_block1_preact_relu[0][\n",
            " D)                                                                 0]']                          \n",
            "                                                                                                  \n",
            " conv5_block1_3_conv (Conv2  (None, 7, 7, 2048)           1050624   ['conv5_block1_2_relu[0][0]'] \n",
            " D)                                                                                               \n",
            "                                                                                                  \n",
            " conv5_block1_out (Add)      (None, 7, 7, 2048)           0         ['conv5_block1_0_conv[0][0]', \n",
            "                                                                     'conv5_block1_3_conv[0][0]'] \n",
            "                                                                                                  \n",
            " conv5_block2_preact_bn (Ba  (None, 7, 7, 2048)           8192      ['conv5_block1_out[0][0]']    \n",
            " tchNormalization)                                                                                \n",
            "                                                                                                  \n",
            " conv5_block2_preact_relu (  (None, 7, 7, 2048)           0         ['conv5_block2_preact_bn[0][0]\n",
            " Activation)                                                        ']                            \n",
            "                                                                                                  \n",
            " conv5_block2_1_conv (Conv2  (None, 7, 7, 512)            1048576   ['conv5_block2_preact_relu[0][\n",
            " D)                                                                 0]']                          \n",
            "                                                                                                  \n",
            " conv5_block2_1_bn (BatchNo  (None, 7, 7, 512)            2048      ['conv5_block2_1_conv[0][0]'] \n",
            " rmalization)                                                                                     \n",
            "                                                                                                  \n",
            " conv5_block2_1_relu (Activ  (None, 7, 7, 512)            0         ['conv5_block2_1_bn[0][0]']   \n",
            " ation)                                                                                           \n",
            "                                                                                                  \n",
            " conv5_block2_2_pad (ZeroPa  (None, 9, 9, 512)            0         ['conv5_block2_1_relu[0][0]'] \n",
            " dding2D)                                                                                         \n",
            "                                                                                                  \n",
            " conv5_block2_2_conv (Conv2  (None, 7, 7, 512)            2359296   ['conv5_block2_2_pad[0][0]']  \n",
            " D)                                                                                               \n",
            "                                                                                                  \n",
            " conv5_block2_2_bn (BatchNo  (None, 7, 7, 512)            2048      ['conv5_block2_2_conv[0][0]'] \n",
            " rmalization)                                                                                     \n",
            "                                                                                                  \n",
            " conv5_block2_2_relu (Activ  (None, 7, 7, 512)            0         ['conv5_block2_2_bn[0][0]']   \n",
            " ation)                                                                                           \n",
            "                                                                                                  \n",
            " conv5_block2_3_conv (Conv2  (None, 7, 7, 2048)           1050624   ['conv5_block2_2_relu[0][0]'] \n",
            " D)                                                                                               \n",
            "                                                                                                  \n",
            " conv5_block2_out (Add)      (None, 7, 7, 2048)           0         ['conv5_block1_out[0][0]',    \n",
            "                                                                     'conv5_block2_3_conv[0][0]'] \n",
            "                                                                                                  \n",
            " conv5_block3_preact_bn (Ba  (None, 7, 7, 2048)           8192      ['conv5_block2_out[0][0]']    \n",
            " tchNormalization)                                                                                \n",
            "                                                                                                  \n",
            " conv5_block3_preact_relu (  (None, 7, 7, 2048)           0         ['conv5_block3_preact_bn[0][0]\n",
            " Activation)                                                        ']                            \n",
            "                                                                                                  \n",
            " conv5_block3_1_conv (Conv2  (None, 7, 7, 512)            1048576   ['conv5_block3_preact_relu[0][\n",
            " D)                                                                 0]']                          \n",
            "                                                                                                  \n",
            " conv5_block3_1_bn (BatchNo  (None, 7, 7, 512)            2048      ['conv5_block3_1_conv[0][0]'] \n",
            " rmalization)                                                                                     \n",
            "                                                                                                  \n",
            " conv5_block3_1_relu (Activ  (None, 7, 7, 512)            0         ['conv5_block3_1_bn[0][0]']   \n",
            " ation)                                                                                           \n",
            "                                                                                                  \n",
            " conv5_block3_2_pad (ZeroPa  (None, 9, 9, 512)            0         ['conv5_block3_1_relu[0][0]'] \n",
            " dding2D)                                                                                         \n",
            "                                                                                                  \n",
            " conv5_block3_2_conv (Conv2  (None, 7, 7, 512)            2359296   ['conv5_block3_2_pad[0][0]']  \n",
            " D)                                                                                               \n",
            "                                                                                                  \n",
            " conv5_block3_2_bn (BatchNo  (None, 7, 7, 512)            2048      ['conv5_block3_2_conv[0][0]'] \n",
            " rmalization)                                                                                     \n",
            "                                                                                                  \n",
            " conv5_block3_2_relu (Activ  (None, 7, 7, 512)            0         ['conv5_block3_2_bn[0][0]']   \n",
            " ation)                                                                                           \n",
            "                                                                                                  \n",
            " conv5_block3_3_conv (Conv2  (None, 7, 7, 2048)           1050624   ['conv5_block3_2_relu[0][0]'] \n",
            " D)                                                                                               \n",
            "                                                                                                  \n",
            " conv5_block3_out (Add)      (None, 7, 7, 2048)           0         ['conv5_block2_out[0][0]',    \n",
            "                                                                     'conv5_block3_3_conv[0][0]'] \n",
            "                                                                                                  \n",
            " post_bn (BatchNormalizatio  (None, 7, 7, 2048)           8192      ['conv5_block3_out[0][0]']    \n",
            " n)                                                                                               \n",
            "                                                                                                  \n",
            " post_relu (Activation)      (None, 7, 7, 2048)           0         ['post_bn[0][0]']             \n",
            "                                                                                                  \n",
            " flatten (Flatten)           (None, 100352)               0         ['post_relu[0][0]']           \n",
            "                                                                                                  \n",
            " dropout (Dropout)           (None, 100352)               0         ['flatten[0][0]']             \n",
            "                                                                                                  \n",
            " dense (Dense)               (None, 224)                  2247907   ['dropout[0][0]']             \n",
            "                                                          2                                       \n",
            "                                                                                                  \n",
            " dropout_1 (Dropout)         (None, 224)                  0         ['dense[0][0]']               \n",
            "                                                                                                  \n",
            " dense_1 (Dense)             (None, 224)                  50400     ['dropout_1[0][0]']           \n",
            "                                                                                                  \n",
            " batch_normalization (Batch  (None, 224)                  896       ['dense_1[0][0]']             \n",
            " Normalization)                                                                                   \n",
            "                                                                                                  \n",
            " dense_2 (Dense)             (None, 3)                    675       ['batch_normalization[0][0]'] \n",
            "                                                                                                  \n",
            "==================================================================================================\n",
            "Total params: 46095843 (175.84 MB)\n",
            "Trainable params: 46049955 (175.67 MB)\n",
            "Non-trainable params: 45888 (179.25 KB)\n",
            "__________________________________________________________________________________________________\n"
          ]
        }
      ]
    },
    {
      "cell_type": "code",
      "source": [
        "best_model.save('best_model.h5')"
      ],
      "metadata": {
        "colab": {
          "base_uri": "https://localhost:8080/"
        },
        "id": "T5k7KC84Fhdx",
        "outputId": "9c574e07-4d8e-43c2-c692-aad62c69a60a"
      },
      "execution_count": 35,
      "outputs": [
        {
          "output_type": "stream",
          "name": "stderr",
          "text": [
            "/usr/local/lib/python3.10/dist-packages/keras/src/engine/training.py:3103: UserWarning: You are saving your model as an HDF5 file via `model.save()`. This file format is considered legacy. We recommend using instead the native Keras format, e.g. `model.save('my_model.keras')`.\n",
            "  saving_api.save_model(\n"
          ]
        }
      ]
    },
    {
      "cell_type": "code",
      "source": [
        "tuner.results_summary()"
      ],
      "metadata": {
        "id": "YM5WOg--aHCB"
      },
      "execution_count": null,
      "outputs": []
    },
    {
      "cell_type": "code",
      "source": [
        "!zip -r /content/skin_type_model.zip /content/keras_tuner/skin_type_model"
      ],
      "metadata": {
        "id": "mfzysKtEONeG",
        "colab": {
          "base_uri": "https://localhost:8080/"
        },
        "outputId": "7635e2d8-64c8-40dd-a741-9456af650cd3"
      },
      "execution_count": 37,
      "outputs": [
        {
          "output_type": "stream",
          "name": "stdout",
          "text": [
            "  adding: content/keras_tuner/skin_type_model/ (stored 0%)\n",
            "  adding: content/keras_tuner/skin_type_model/tuner0.json (stored 0%)\n",
            "  adding: content/keras_tuner/skin_type_model/oracle.json (deflated 65%)\n",
            "  adding: content/keras_tuner/skin_type_model/trial_2/ (stored 0%)\n",
            "  adding: content/keras_tuner/skin_type_model/trial_2/checkpoint.data-00000-of-00001 (deflated 8%)\n",
            "  adding: content/keras_tuner/skin_type_model/trial_2/checkpoint (deflated 48%)\n",
            "  adding: content/keras_tuner/skin_type_model/trial_2/checkpoint.index (deflated 79%)\n",
            "  adding: content/keras_tuner/skin_type_model/trial_2/trial.json (deflated 67%)\n",
            "  adding: content/keras_tuner/skin_type_model/trial_4/ (stored 0%)\n",
            "  adding: content/keras_tuner/skin_type_model/trial_4/trial.json (deflated 72%)\n",
            "  adding: content/keras_tuner/skin_type_model/trial_1/ (stored 0%)\n",
            "  adding: content/keras_tuner/skin_type_model/trial_1/checkpoint.data-00000-of-00001 (deflated 9%)\n",
            "  adding: content/keras_tuner/skin_type_model/trial_1/checkpoint (deflated 48%)\n",
            "  adding: content/keras_tuner/skin_type_model/trial_1/checkpoint.index (deflated 79%)\n",
            "  adding: content/keras_tuner/skin_type_model/trial_1/trial.json (deflated 67%)\n",
            "  adding: content/keras_tuner/skin_type_model/trial_3/ (stored 0%)\n",
            "  adding: content/keras_tuner/skin_type_model/trial_3/checkpoint.data-00000-of-00001 (deflated 9%)\n",
            "  adding: content/keras_tuner/skin_type_model/trial_3/checkpoint (deflated 48%)\n",
            "  adding: content/keras_tuner/skin_type_model/trial_3/checkpoint.index (deflated 79%)\n",
            "  adding: content/keras_tuner/skin_type_model/trial_3/trial.json (deflated 67%)\n",
            "  adding: content/keras_tuner/skin_type_model/trial_0/ (stored 0%)\n",
            "  adding: content/keras_tuner/skin_type_model/trial_0/trial.json (deflated 72%)\n"
          ]
        }
      ]
    },
    {
      "cell_type": "code",
      "source": [
        "# files.download('/content/skin_type_model.zip')"
      ],
      "metadata": {
        "id": "IGB_6arwEy-l",
        "colab": {
          "base_uri": "https://localhost:8080/",
          "height": 34
        },
        "outputId": "242cd14a-0e6d-4823-88da-24bb3a5d3328"
      },
      "execution_count": null,
      "outputs": [
        {
          "output_type": "display_data",
          "data": {
            "text/plain": [
              "<IPython.core.display.Javascript object>"
            ],
            "application/javascript": [
              "\n",
              "    async function download(id, filename, size) {\n",
              "      if (!google.colab.kernel.accessAllowed) {\n",
              "        return;\n",
              "      }\n",
              "      const div = document.createElement('div');\n",
              "      const label = document.createElement('label');\n",
              "      label.textContent = `Downloading \"${filename}\": `;\n",
              "      div.appendChild(label);\n",
              "      const progress = document.createElement('progress');\n",
              "      progress.max = size;\n",
              "      div.appendChild(progress);\n",
              "      document.body.appendChild(div);\n",
              "\n",
              "      const buffers = [];\n",
              "      let downloaded = 0;\n",
              "\n",
              "      const channel = await google.colab.kernel.comms.open(id);\n",
              "      // Send a message to notify the kernel that we're ready.\n",
              "      channel.send({})\n",
              "\n",
              "      for await (const message of channel.messages) {\n",
              "        // Send a message to notify the kernel that we're ready.\n",
              "        channel.send({})\n",
              "        if (message.buffers) {\n",
              "          for (const buffer of message.buffers) {\n",
              "            buffers.push(buffer);\n",
              "            downloaded += buffer.byteLength;\n",
              "            progress.value = downloaded;\n",
              "          }\n",
              "        }\n",
              "      }\n",
              "      const blob = new Blob(buffers, {type: 'application/binary'});\n",
              "      const a = document.createElement('a');\n",
              "      a.href = window.URL.createObjectURL(blob);\n",
              "      a.download = filename;\n",
              "      div.appendChild(a);\n",
              "      a.click();\n",
              "      div.remove();\n",
              "    }\n",
              "  "
            ]
          },
          "metadata": {}
        },
        {
          "output_type": "display_data",
          "data": {
            "text/plain": [
              "<IPython.core.display.Javascript object>"
            ],
            "application/javascript": [
              "download(\"download_0f65b57a-1860-4d2f-b976-4383046a92d0\", \"skin_type_model.zip\", 1357900896)"
            ]
          },
          "metadata": {}
        }
      ]
    },
    {
      "cell_type": "markdown",
      "source": [
        "## Set Callbacks"
      ],
      "metadata": {
        "id": "eCi6nNqwbfmJ"
      }
    },
    {
      "cell_type": "code",
      "source": [
        "ckpt_callback = tf.keras.callbacks.ModelCheckpoint(\n",
        "    filepath='/content/ckpt/model_{epoch:02d}_{accuracy:.2f}_{val_accuracy:.2f}_v02',\n",
        "    verbose=1,\n",
        "    monitor='val_accuracy',\n",
        "    save_best_only=True\n",
        ")\n",
        "\n",
        "csv_logger = tf.keras.callbacks.CSVLogger(f'/content/csv_logger.csv')"
      ],
      "metadata": {
        "id": "1Z45kK4AbSZ6"
      },
      "execution_count": 38,
      "outputs": []
    },
    {
      "cell_type": "markdown",
      "source": [
        "## Retrain Models"
      ],
      "metadata": {
        "id": "Lc-el1xQaeiE"
      }
    },
    {
      "cell_type": "code",
      "source": [
        "def train_model(epochs, steps_per_epoch, tuner, unfreeze=None, callbacks=None):\n",
        "  # Get the top 2 hyperparameters.\n",
        "  best_hps = tuner.get_best_hyperparameters(5)\n",
        "\n",
        "  # Build the model with the best hp.\n",
        "  model = build_model(best_hps[0])\n",
        "\n",
        "  # # freeze some layers and\n",
        "  # for layer in base_model.layers:\n",
        "  #   layer.trainable = False\n",
        "\n",
        "  # if unfreeze is not None:\n",
        "  #   # unfreeze some layers\n",
        "  #   for layer in base_model.layers[-unfreeze:]:\n",
        "  #     layer.trainable = True\n",
        "\n",
        "  history = model.fit(train_generator, epochs=epochs,\n",
        "            batch_size=32,\n",
        "            verbose=2,\n",
        "            steps_per_epoch=steps_per_epoch,\n",
        "            validation_data=validation_generator,\n",
        "            validation_steps=validation_generator.samples // validation_generator.batch_size,\n",
        "            callbacks=[callbacks])\n",
        "\n",
        "  return history"
      ],
      "metadata": {
        "id": "TWGCJIu0FCpV"
      },
      "execution_count": 39,
      "outputs": []
    },
    {
      "cell_type": "code",
      "source": [
        "EPOCHS = 50\n",
        "steps_per_epoch = train_generator.samples // train_generator.batch_size\n",
        "callbacks = [ckpt_callback, csv_logger]"
      ],
      "metadata": {
        "id": "jYkcglv4aZYH"
      },
      "execution_count": 40,
      "outputs": []
    },
    {
      "cell_type": "code",
      "execution_count": null,
      "metadata": {
        "id": "sgFkCH3a9l4s",
        "colab": {
          "base_uri": "https://localhost:8080/"
        },
        "outputId": "9d696215-4913-4a8b-caad-747dd7e046d5"
      },
      "outputs": [
        {
          "output_type": "stream",
          "name": "stdout",
          "text": [
            "Epoch 1/50\n",
            "\n",
            "Epoch 1: val_accuracy improved from -inf to 0.51042, saving model to /content/ckpt/model_01_0.41_0.51_v02\n",
            "78/78 - 99s - loss: 1.3005 - accuracy: 0.4058 - val_loss: 1.1008 - val_accuracy: 0.5104 - 99s/epoch - 1s/step\n",
            "Epoch 2/50\n",
            "\n",
            "Epoch 2: val_accuracy improved from 0.51042 to 0.55625, saving model to /content/ckpt/model_02_0.46_0.56_v02\n",
            "78/78 - 72s - loss: 1.1235 - accuracy: 0.4620 - val_loss: 0.9917 - val_accuracy: 0.5562 - 72s/epoch - 927ms/step\n",
            "Epoch 3/50\n",
            "\n",
            "Epoch 3: val_accuracy improved from 0.55625 to 0.58125, saving model to /content/ckpt/model_03_0.48_0.58_v02\n",
            "78/78 - 84s - loss: 1.1080 - accuracy: 0.4793 - val_loss: 0.9272 - val_accuracy: 0.5813 - 84s/epoch - 1s/step\n",
            "Epoch 4/50\n",
            "\n",
            "Epoch 4: val_accuracy did not improve from 0.58125\n",
            "78/78 - 48s - loss: 1.0084 - accuracy: 0.5235 - val_loss: 1.0215 - val_accuracy: 0.5500 - 48s/epoch - 617ms/step\n",
            "Epoch 5/50\n",
            "\n",
            "Epoch 5: val_accuracy improved from 0.58125 to 0.63125, saving model to /content/ckpt/model_05_0.57_0.63_v02\n",
            "78/78 - 81s - loss: 0.9437 - accuracy: 0.5737 - val_loss: 0.8681 - val_accuracy: 0.6313 - 81s/epoch - 1s/step\n",
            "Epoch 6/50\n",
            "\n",
            "Epoch 6: val_accuracy did not improve from 0.63125\n",
            "78/78 - 47s - loss: 0.8815 - accuracy: 0.6059 - val_loss: 0.8947 - val_accuracy: 0.6187 - 47s/epoch - 599ms/step\n",
            "Epoch 7/50\n",
            "\n",
            "Epoch 7: val_accuracy improved from 0.63125 to 0.63750, saving model to /content/ckpt/model_07_0.65_0.64_v02\n",
            "78/78 - 89s - loss: 0.8274 - accuracy: 0.6452 - val_loss: 0.8348 - val_accuracy: 0.6375 - 89s/epoch - 1s/step\n",
            "Epoch 8/50\n",
            "\n",
            "Epoch 8: val_accuracy improved from 0.63750 to 0.64167, saving model to /content/ckpt/model_08_0.68_0.64_v02\n",
            "78/78 - 71s - loss: 0.7549 - accuracy: 0.6770 - val_loss: 0.9610 - val_accuracy: 0.6417 - 71s/epoch - 915ms/step\n",
            "Epoch 9/50\n",
            "\n",
            "Epoch 9: val_accuracy improved from 0.64167 to 0.72500, saving model to /content/ckpt/model_09_0.70_0.73_v02\n",
            "78/78 - 86s - loss: 0.6723 - accuracy: 0.7035 - val_loss: 0.7475 - val_accuracy: 0.7250 - 86s/epoch - 1s/step\n",
            "Epoch 10/50\n",
            "\n",
            "Epoch 10: val_accuracy improved from 0.72500 to 0.75417, saving model to /content/ckpt/model_10_0.74_0.75_v02\n",
            "78/78 - 86s - loss: 0.6328 - accuracy: 0.7376 - val_loss: 0.6741 - val_accuracy: 0.7542 - 86s/epoch - 1s/step\n",
            "Epoch 11/50\n",
            "\n",
            "Epoch 11: val_accuracy did not improve from 0.75417\n",
            "78/78 - 50s - loss: 0.5356 - accuracy: 0.7883 - val_loss: 0.7458 - val_accuracy: 0.7500 - 50s/epoch - 638ms/step\n",
            "Epoch 12/50\n",
            "\n",
            "Epoch 12: val_accuracy improved from 0.75417 to 0.78958, saving model to /content/ckpt/model_12_0.79_0.79_v02\n",
            "78/78 - 77s - loss: 0.5105 - accuracy: 0.7943 - val_loss: 0.6498 - val_accuracy: 0.7896 - 77s/epoch - 986ms/step\n",
            "Epoch 13/50\n",
            "\n",
            "Epoch 13: val_accuracy improved from 0.78958 to 0.80625, saving model to /content/ckpt/model_13_0.83_0.81_v02\n",
            "78/78 - 73s - loss: 0.4529 - accuracy: 0.8252 - val_loss: 0.6355 - val_accuracy: 0.8062 - 73s/epoch - 939ms/step\n",
            "Epoch 14/50\n",
            "\n",
            "Epoch 14: val_accuracy did not improve from 0.80625\n",
            "78/78 - 49s - loss: 0.4074 - accuracy: 0.8345 - val_loss: 0.7490 - val_accuracy: 0.7979 - 49s/epoch - 626ms/step\n",
            "Epoch 15/50\n",
            "\n",
            "Epoch 15: val_accuracy did not improve from 0.80625\n",
            "78/78 - 48s - loss: 0.3923 - accuracy: 0.8497 - val_loss: 0.8821 - val_accuracy: 0.7312 - 48s/epoch - 617ms/step\n",
            "Epoch 16/50\n",
            "\n",
            "Epoch 16: val_accuracy improved from 0.80625 to 0.82083, saving model to /content/ckpt/model_16_0.87_0.82_v02\n",
            "78/78 - 86s - loss: 0.3276 - accuracy: 0.8722 - val_loss: 0.6013 - val_accuracy: 0.8208 - 86s/epoch - 1s/step\n",
            "Epoch 17/50\n",
            "\n",
            "Epoch 17: val_accuracy did not improve from 0.82083\n",
            "78/78 - 48s - loss: 0.3256 - accuracy: 0.8819 - val_loss: 0.8276 - val_accuracy: 0.7833 - 48s/epoch - 615ms/step\n",
            "Epoch 18/50\n",
            "\n",
            "Epoch 18: val_accuracy did not improve from 0.82083\n",
            "78/78 - 49s - loss: 0.2908 - accuracy: 0.8927 - val_loss: 0.8650 - val_accuracy: 0.7937 - 49s/epoch - 625ms/step\n",
            "Epoch 19/50\n",
            "\n",
            "Epoch 19: val_accuracy did not improve from 0.82083\n",
            "78/78 - 48s - loss: 0.2673 - accuracy: 0.9044 - val_loss: 0.8072 - val_accuracy: 0.8042 - 48s/epoch - 621ms/step\n",
            "Epoch 20/50\n",
            "\n",
            "Epoch 20: val_accuracy did not improve from 0.82083\n",
            "78/78 - 48s - loss: 0.2961 - accuracy: 0.8927 - val_loss: 0.7808 - val_accuracy: 0.7812 - 48s/epoch - 615ms/step\n",
            "Epoch 21/50\n",
            "\n",
            "Epoch 21: val_accuracy improved from 0.82083 to 0.83542, saving model to /content/ckpt/model_21_0.92_0.84_v02\n",
            "78/78 - 91s - loss: 0.2170 - accuracy: 0.9156 - val_loss: 0.6178 - val_accuracy: 0.8354 - 91s/epoch - 1s/step\n",
            "Epoch 22/50\n",
            "\n",
            "Epoch 22: val_accuracy improved from 0.83542 to 0.84583, saving model to /content/ckpt/model_22_0.91_0.85_v02\n",
            "78/78 - 77s - loss: 0.2575 - accuracy: 0.9128 - val_loss: 0.5864 - val_accuracy: 0.8458 - 77s/epoch - 987ms/step\n",
            "Epoch 23/50\n",
            "\n",
            "Epoch 23: val_accuracy improved from 0.84583 to 0.84792, saving model to /content/ckpt/model_23_0.93_0.85_v02\n",
            "78/78 - 80s - loss: 0.1987 - accuracy: 0.9317 - val_loss: 0.6698 - val_accuracy: 0.8479 - 80s/epoch - 1s/step\n",
            "Epoch 24/50\n",
            "\n",
            "Epoch 24: val_accuracy did not improve from 0.84792\n",
            "78/78 - 48s - loss: 0.2007 - accuracy: 0.9285 - val_loss: 0.6092 - val_accuracy: 0.8313 - 48s/epoch - 609ms/step\n",
            "Epoch 25/50\n",
            "\n",
            "Epoch 25: val_accuracy did not improve from 0.84792\n",
            "78/78 - 48s - loss: 0.1942 - accuracy: 0.9273 - val_loss: 0.6557 - val_accuracy: 0.8271 - 48s/epoch - 617ms/step\n",
            "Epoch 26/50\n",
            "\n",
            "Epoch 26: val_accuracy improved from 0.84792 to 0.85625, saving model to /content/ckpt/model_26_0.94_0.86_v02\n",
            "78/78 - 85s - loss: 0.1786 - accuracy: 0.9361 - val_loss: 0.6012 - val_accuracy: 0.8562 - 85s/epoch - 1s/step\n",
            "Epoch 27/50\n",
            "\n",
            "Epoch 27: val_accuracy improved from 0.85625 to 0.87083, saving model to /content/ckpt/model_27_0.94_0.87_v02\n",
            "78/78 - 75s - loss: 0.1766 - accuracy: 0.9353 - val_loss: 0.6269 - val_accuracy: 0.8708 - 75s/epoch - 966ms/step\n",
            "Epoch 28/50\n",
            "\n",
            "Epoch 28: val_accuracy did not improve from 0.87083\n",
            "78/78 - 47s - loss: 0.2212 - accuracy: 0.9217 - val_loss: 0.5666 - val_accuracy: 0.8562 - 47s/epoch - 604ms/step\n",
            "Epoch 29/50\n",
            "\n",
            "Epoch 29: val_accuracy did not improve from 0.87083\n",
            "78/78 - 48s - loss: 0.1581 - accuracy: 0.9429 - val_loss: 0.6459 - val_accuracy: 0.8396 - 48s/epoch - 613ms/step\n",
            "Epoch 30/50\n",
            "\n",
            "Epoch 30: val_accuracy did not improve from 0.87083\n",
            "78/78 - 47s - loss: 0.1355 - accuracy: 0.9478 - val_loss: 0.6600 - val_accuracy: 0.8458 - 47s/epoch - 606ms/step\n",
            "Epoch 31/50\n",
            "\n",
            "Epoch 31: val_accuracy did not improve from 0.87083\n",
            "78/78 - 50s - loss: 0.1626 - accuracy: 0.9361 - val_loss: 0.7164 - val_accuracy: 0.8646 - 50s/epoch - 643ms/step\n",
            "Epoch 32/50\n",
            "\n",
            "Epoch 32: val_accuracy did not improve from 0.87083\n",
            "78/78 - 47s - loss: 0.1611 - accuracy: 0.9413 - val_loss: 0.6997 - val_accuracy: 0.8458 - 47s/epoch - 604ms/step\n",
            "Epoch 33/50\n",
            "\n",
            "Epoch 33: val_accuracy did not improve from 0.87083\n",
            "78/78 - 49s - loss: 0.1368 - accuracy: 0.9482 - val_loss: 0.6178 - val_accuracy: 0.8542 - 49s/epoch - 625ms/step\n",
            "Epoch 34/50\n",
            "\n",
            "Epoch 34: val_accuracy did not improve from 0.87083\n",
            "78/78 - 48s - loss: 0.1298 - accuracy: 0.9454 - val_loss: 0.5831 - val_accuracy: 0.8687 - 48s/epoch - 617ms/step\n",
            "Epoch 35/50\n",
            "\n",
            "Epoch 35: val_accuracy did not improve from 0.87083\n",
            "78/78 - 48s - loss: 0.1213 - accuracy: 0.9578 - val_loss: 0.6789 - val_accuracy: 0.8646 - 48s/epoch - 615ms/step\n"
          ]
        }
      ],
      "source": [
        "\n",
        "history = train_model(epochs=EPOCHS,\n",
        "                      steps_per_epoch=steps_per_epoch, tuner=tuner,\n",
        "                      callbacks=callbacks)"
      ]
    },
    {
      "cell_type": "markdown",
      "metadata": {
        "id": "HxB88UJwSvIU"
      },
      "source": [
        "# Evaluation"
      ]
    },
    {
      "cell_type": "code",
      "execution_count": null,
      "metadata": {
        "id": "Mj6PPQev2vSn"
      },
      "outputs": [],
      "source": [
        "# Evaluate the model\n",
        "val_loss, val_accuracy = best_model.evaluate(validation_generator, steps=validation_generator.samples // validation_generator.batch_size)\n",
        "print(f'Validation Loss: {val_loss}')\n",
        "print(f'Validation Accuracy: {val_accuracy}')"
      ]
    },
    {
      "cell_type": "code",
      "execution_count": null,
      "metadata": {
        "id": "VeQz5nZmRyFY"
      },
      "outputs": [],
      "source": [
        "# Plot training & validation accuracy values\n",
        "plot_acc_loss(history)"
      ]
    },
    {
      "cell_type": "code",
      "execution_count": null,
      "metadata": {
        "id": "vsaTnHXAHPbF"
      },
      "outputs": [],
      "source": [
        "best_model.save('model_retrain.h5')"
      ]
    },
    {
      "cell_type": "markdown",
      "source": [
        "## Visualize the correctly predicted"
      ],
      "metadata": {
        "id": "1Y61o1XUGH9a"
      }
    },
    {
      "cell_type": "code",
      "source": [
        "\n",
        "# Load the model\n",
        "model = tf.keras.models.load_model('best_model.h5')\n",
        "\n",
        "# Get the class indices\n",
        "class_indices = test_generator.class_indices\n",
        "class_labels = {v: k for k, v in class_indices.items()}\n",
        "\n",
        "# Get a batch of images and labels\n",
        "images, labels = next(test_generator)\n",
        "\n",
        "# Predict using the model\n",
        "predictions = model.predict(images)\n",
        "\n",
        "# Get the predicted class indices\n",
        "predicted_classes = np.argmax(predictions, axis=1)\n",
        "true_classes = np.argmax(labels, axis=1)\n",
        "\n",
        "# Find correctly predicted images\n",
        "correct_indices = np.where(predicted_classes == true_classes)[0]\n",
        "\n",
        "# Plot the first 10 correctly predicted images\n",
        "plt.figure(figsize=(20, 10))\n",
        "for i, idx in enumerate(correct_indices[:10]):\n",
        "    plt.subplot(2, 5, i + 1)\n",
        "    plt.imshow(images[idx])\n",
        "    plt.title(f\"Predicted: {class_labels[predicted_classes[idx]]}\\nTrue: {class_labels[true_classes[idx]]}\")\n",
        "    plt.axis('off')\n",
        "\n",
        "plt.show()"
      ],
      "metadata": {
        "id": "IxfFc0orGFeX"
      },
      "execution_count": null,
      "outputs": []
    },
    {
      "cell_type": "markdown",
      "metadata": {
        "id": "Rmu19_jU1t3N"
      },
      "source": [
        "# Download checkpoint file"
      ]
    },
    {
      "cell_type": "code",
      "execution_count": null,
      "metadata": {
        "id": "MZ__zAQL1bl6"
      },
      "outputs": [],
      "source": [
        "# !zip -r model.zip /content/ckpt\n",
        "# # tmp code for download csv log\n",
        "# files.download(f'/content/csv_logger.csv')\n",
        "# !unzip /content/model.zip -d /content/model\n",
        "# files.save(model)"
      ]
    },
    {
      "cell_type": "code",
      "execution_count": null,
      "metadata": {
        "id": "yYgbb_vzW18f"
      },
      "outputs": [],
      "source": [
        "# files.download('model.zip')"
      ]
    },
    {
      "cell_type": "markdown",
      "metadata": {
        "id": "qI1Z8qgVT5gV"
      },
      "source": [
        "# convert saved model pb to tflite"
      ]
    },
    {
      "cell_type": "code",
      "execution_count": null,
      "metadata": {
        "colab": {
          "base_uri": "https://localhost:8080/"
        },
        "id": "J-3vJAJTdtU-",
        "outputId": "98427498-b0b4-41e7-8cb0-cd1deea121f8"
      },
      "outputs": [
        {
          "name": "stdout",
          "output_type": "stream",
          "text": [
            "Archive:  /content/skin_type_model.zip\n",
            "   creating: /content/model-pb/model-03-055-053/\n",
            "  inflating: /content/model-pb/__MACOSX/._model-03-055-053  \n",
            "  inflating: /content/model-pb/model-03-055-053/.DS_Store  \n",
            "  inflating: /content/model-pb/__MACOSX/model-03-055-053/._.DS_Store  \n",
            "  inflating: /content/model-pb/model-03-055-053/fingerprint.pb  \n",
            "  inflating: /content/model-pb/__MACOSX/model-03-055-053/._fingerprint.pb  \n",
            "  inflating: /content/model-pb/model-03-055-053/keras_metadata.pb  \n",
            "  inflating: /content/model-pb/__MACOSX/model-03-055-053/._keras_metadata.pb  \n",
            "   creating: /content/model-pb/model-03-055-053/variables/\n",
            "  inflating: /content/model-pb/__MACOSX/model-03-055-053/._variables  \n",
            "  inflating: /content/model-pb/model-03-055-053/saved_model.pb  \n",
            "  inflating: /content/model-pb/__MACOSX/model-03-055-053/._saved_model.pb  \n",
            "   creating: /content/model-pb/model-03-055-053/assets/\n",
            "  inflating: /content/model-pb/__MACOSX/model-03-055-053/._assets  \n",
            "  inflating: /content/model-pb/model-03-055-053/variables/variables.data-00000-of-00001  \n",
            "  inflating: /content/model-pb/__MACOSX/model-03-055-053/variables/._variables.data-00000-of-00001  \n",
            "  inflating: /content/model-pb/model-03-055-053/variables/variables.index  \n",
            "  inflating: /content/model-pb/__MACOSX/model-03-055-053/variables/._variables.index  \n"
          ]
        }
      ],
      "source": [
        "!unzip \"/content/skin_type_model.zip\" -d \"/content/model-pb\""
      ]
    },
    {
      "cell_type": "code",
      "execution_count": null,
      "metadata": {
        "colab": {
          "base_uri": "https://localhost:8080/"
        },
        "id": "bLIOWBbvT5VF",
        "outputId": "e0e72b00-44d8-4bd7-f8ee-020117777087"
      },
      "outputs": [
        {
          "name": "stdout",
          "output_type": "stream",
          "text": [
            "Model converted and saved to /content/model.tflite\n"
          ]
        }
      ],
      "source": [
        "pb_model_path = '/content/model-pb/model-03-055-053'\n",
        "tflite_model_path = '/content/model.tflite'\n",
        "convert_pb_to_tflite(pb_model_path, tflite_model_path)"
      ]
    },
    {
      "cell_type": "markdown",
      "metadata": {
        "id": "wgwopVpnDB0R"
      },
      "source": [
        "# Predict new image"
      ]
    },
    {
      "cell_type": "code",
      "execution_count": null,
      "metadata": {
        "id": "1mm46fmzGzXd"
      },
      "outputs": [],
      "source": [
        "class_name = ['dry', 'normal', 'oily']"
      ]
    },
    {
      "cell_type": "code",
      "execution_count": null,
      "metadata": {
        "id": "1QECucNODDw2"
      },
      "outputs": [],
      "source": [
        "# Upload the image to Colab\n",
        "from google.colab import files\n",
        "uploaded = files.upload()\n",
        "\n",
        "# Load the model\n",
        "\n",
        "# Path to the directory containing the SavedModel\n",
        "saved_model_path = '/content/model-pb/model-03-055-053'\n",
        "\n",
        "# Load the SavedModel\n",
        "model = tf.saved_model.load(saved_model_path)\n",
        "\n",
        "# Access the default serving function\n",
        "infer = model.signatures['serving_default']\n",
        "print(infer.structured_outputs)\n",
        "\n",
        "# Preprocess the uploaded image\n",
        "\n",
        "# Assuming the uploaded file is in the current directory\n",
        "image_path = list(uploaded.keys())[0]\n",
        "\n",
        "# Load and preprocess the image\n",
        "def preprocess_image(image_path):\n",
        "    img = image.load_img(image_path, target_size=(150, 150))\n",
        "    img_array = image.img_to_array(img)\n",
        "    img_array = np.expand_dims(img_array, axis=0)\n",
        "    img_array /= 255.0\n",
        "    return img_array, img\n",
        "\n",
        "img_array, original_img = preprocess_image(image_path)\n",
        "\n",
        "\n",
        "# Convert the numpy array to a tensor\n",
        "img_tensor = tf.convert_to_tensor(img_array, dtype=tf.float32)\n",
        "\n",
        "# Make predictions\n",
        "predictions = infer(img_tensor)\n",
        "\n",
        "# Assuming the model outputs a dictionary with keys corresponding to the outputs\n",
        "output_key = 'dense_1' # Change this to the actual key used by your model\n",
        "predicted_classes = predictions[output_key].numpy()\n",
        "\n",
        "print(predicted_classes)\n",
        "\n",
        "# Step 5: Post-process and interpret results\n",
        "# Assuming it's a classification model and the result is a probability distribution over classes\n",
        "plt.imshow(original_img)\n",
        "plt.show()\n",
        "predicted_class = np.argmax(predicted_classes, axis=-1)\n",
        "print(f'Predicted class: {predicted_class[0]}')\n",
        "print(f'type: {class_name[predicted_class[0]]}')\n"
      ]
    },
    {
      "cell_type": "markdown",
      "source": [
        "#Convert savedModel to tfjs"
      ],
      "metadata": {
        "id": "bkEffEVjn4oD"
      }
    },
    {
      "cell_type": "code",
      "source": [
        " !pip install tensorflowjs"
      ],
      "metadata": {
        "id": "H_yeth8DoFRk",
        "outputId": "e7f7dab4-fc06-4964-df9a-2a1488ff7845",
        "colab": {
          "base_uri": "https://localhost:8080/",
          "height": 1000
        }
      },
      "execution_count": null,
      "outputs": [
        {
          "output_type": "stream",
          "name": "stdout",
          "text": [
            "Collecting tensorflowjs\n",
            "  Downloading tensorflowjs-4.20.0-py3-none-any.whl (89 kB)\n",
            "\u001b[?25l     \u001b[90m━━━━━━━━━━━━━━━━━━━━━━━━━━━━━━━━━━━━━━━━\u001b[0m \u001b[32m0.0/89.1 kB\u001b[0m \u001b[31m?\u001b[0m eta \u001b[36m-:--:--\u001b[0m\r\u001b[2K     \u001b[90m━━━━━━━━━━━━━━━━━━━━━━━━━━━━━━━━━━━━━━━━\u001b[0m \u001b[32m89.1/89.1 kB\u001b[0m \u001b[31m3.6 MB/s\u001b[0m eta \u001b[36m0:00:00\u001b[0m\n",
            "\u001b[?25hRequirement already satisfied: flax>=0.7.2 in /usr/local/lib/python3.10/dist-packages (from tensorflowjs) (0.8.4)\n",
            "Requirement already satisfied: importlib_resources>=5.9.0 in /usr/local/lib/python3.10/dist-packages (from tensorflowjs) (6.4.0)\n",
            "Requirement already satisfied: jax>=0.4.13 in /usr/local/lib/python3.10/dist-packages (from tensorflowjs) (0.4.26)\n",
            "Requirement already satisfied: jaxlib>=0.4.13 in /usr/local/lib/python3.10/dist-packages (from tensorflowjs) (0.4.26+cuda12.cudnn89)\n",
            "Requirement already satisfied: tensorflow<3,>=2.13.0 in /usr/local/lib/python3.10/dist-packages (from tensorflowjs) (2.15.0)\n",
            "Requirement already satisfied: tf-keras>=2.13.0 in /usr/local/lib/python3.10/dist-packages (from tensorflowjs) (2.15.1)\n",
            "Collecting tensorflow-decision-forests>=1.5.0 (from tensorflowjs)\n",
            "  Downloading tensorflow_decision_forests-1.9.1-cp310-cp310-manylinux_2_17_x86_64.manylinux2014_x86_64.whl (15.5 MB)\n",
            "\u001b[2K     \u001b[90m━━━━━━━━━━━━━━━━━━━━━━━━━━━━━━━━━━━━━━━━\u001b[0m \u001b[32m15.5/15.5 MB\u001b[0m \u001b[31m35.8 MB/s\u001b[0m eta \u001b[36m0:00:00\u001b[0m\n",
            "\u001b[?25hRequirement already satisfied: six<2,>=1.16.0 in /usr/local/lib/python3.10/dist-packages (from tensorflowjs) (1.16.0)\n",
            "Requirement already satisfied: tensorflow-hub>=0.16.1 in /usr/local/lib/python3.10/dist-packages (from tensorflowjs) (0.16.1)\n",
            "Collecting packaging~=23.1 (from tensorflowjs)\n",
            "  Downloading packaging-23.2-py3-none-any.whl (53 kB)\n",
            "\u001b[2K     \u001b[90m━━━━━━━━━━━━━━━━━━━━━━━━━━━━━━━━━━━━━━━━\u001b[0m \u001b[32m53.0/53.0 kB\u001b[0m \u001b[31m8.2 MB/s\u001b[0m eta \u001b[36m0:00:00\u001b[0m\n",
            "\u001b[?25hRequirement already satisfied: numpy>=1.22 in /usr/local/lib/python3.10/dist-packages (from flax>=0.7.2->tensorflowjs) (1.25.2)\n",
            "Requirement already satisfied: msgpack in /usr/local/lib/python3.10/dist-packages (from flax>=0.7.2->tensorflowjs) (1.0.8)\n",
            "Requirement already satisfied: optax in /usr/local/lib/python3.10/dist-packages (from flax>=0.7.2->tensorflowjs) (0.2.2)\n",
            "Requirement already satisfied: orbax-checkpoint in /usr/local/lib/python3.10/dist-packages (from flax>=0.7.2->tensorflowjs) (0.4.4)\n",
            "Requirement already satisfied: tensorstore in /usr/local/lib/python3.10/dist-packages (from flax>=0.7.2->tensorflowjs) (0.1.45)\n",
            "Requirement already satisfied: rich>=11.1 in /usr/local/lib/python3.10/dist-packages (from flax>=0.7.2->tensorflowjs) (13.7.1)\n",
            "Requirement already satisfied: typing-extensions>=4.2 in /usr/local/lib/python3.10/dist-packages (from flax>=0.7.2->tensorflowjs) (4.12.2)\n",
            "Requirement already satisfied: PyYAML>=5.4.1 in /usr/local/lib/python3.10/dist-packages (from flax>=0.7.2->tensorflowjs) (6.0.1)\n",
            "Requirement already satisfied: ml-dtypes>=0.2.0 in /usr/local/lib/python3.10/dist-packages (from jax>=0.4.13->tensorflowjs) (0.2.0)\n",
            "Requirement already satisfied: opt-einsum in /usr/local/lib/python3.10/dist-packages (from jax>=0.4.13->tensorflowjs) (3.3.0)\n",
            "Requirement already satisfied: scipy>=1.9 in /usr/local/lib/python3.10/dist-packages (from jax>=0.4.13->tensorflowjs) (1.11.4)\n",
            "Requirement already satisfied: absl-py>=1.0.0 in /usr/local/lib/python3.10/dist-packages (from tensorflow<3,>=2.13.0->tensorflowjs) (1.4.0)\n",
            "Requirement already satisfied: astunparse>=1.6.0 in /usr/local/lib/python3.10/dist-packages (from tensorflow<3,>=2.13.0->tensorflowjs) (1.6.3)\n",
            "Requirement already satisfied: flatbuffers>=23.5.26 in /usr/local/lib/python3.10/dist-packages (from tensorflow<3,>=2.13.0->tensorflowjs) (24.3.25)\n",
            "Requirement already satisfied: gast!=0.5.0,!=0.5.1,!=0.5.2,>=0.2.1 in /usr/local/lib/python3.10/dist-packages (from tensorflow<3,>=2.13.0->tensorflowjs) (0.5.4)\n",
            "Requirement already satisfied: google-pasta>=0.1.1 in /usr/local/lib/python3.10/dist-packages (from tensorflow<3,>=2.13.0->tensorflowjs) (0.2.0)\n",
            "Requirement already satisfied: h5py>=2.9.0 in /usr/local/lib/python3.10/dist-packages (from tensorflow<3,>=2.13.0->tensorflowjs) (3.9.0)\n",
            "Requirement already satisfied: libclang>=13.0.0 in /usr/local/lib/python3.10/dist-packages (from tensorflow<3,>=2.13.0->tensorflowjs) (18.1.1)\n",
            "Requirement already satisfied: protobuf!=4.21.0,!=4.21.1,!=4.21.2,!=4.21.3,!=4.21.4,!=4.21.5,<5.0.0dev,>=3.20.3 in /usr/local/lib/python3.10/dist-packages (from tensorflow<3,>=2.13.0->tensorflowjs) (3.20.3)\n",
            "Requirement already satisfied: setuptools in /usr/local/lib/python3.10/dist-packages (from tensorflow<3,>=2.13.0->tensorflowjs) (67.7.2)\n",
            "Requirement already satisfied: termcolor>=1.1.0 in /usr/local/lib/python3.10/dist-packages (from tensorflow<3,>=2.13.0->tensorflowjs) (2.4.0)\n",
            "Requirement already satisfied: wrapt<1.15,>=1.11.0 in /usr/local/lib/python3.10/dist-packages (from tensorflow<3,>=2.13.0->tensorflowjs) (1.14.1)\n",
            "Requirement already satisfied: tensorflow-io-gcs-filesystem>=0.23.1 in /usr/local/lib/python3.10/dist-packages (from tensorflow<3,>=2.13.0->tensorflowjs) (0.37.0)\n",
            "Requirement already satisfied: grpcio<2.0,>=1.24.3 in /usr/local/lib/python3.10/dist-packages (from tensorflow<3,>=2.13.0->tensorflowjs) (1.64.1)\n",
            "Requirement already satisfied: tensorboard<2.16,>=2.15 in /usr/local/lib/python3.10/dist-packages (from tensorflow<3,>=2.13.0->tensorflowjs) (2.15.2)\n",
            "Requirement already satisfied: tensorflow-estimator<2.16,>=2.15.0 in /usr/local/lib/python3.10/dist-packages (from tensorflow<3,>=2.13.0->tensorflowjs) (2.15.0)\n",
            "Requirement already satisfied: keras<2.16,>=2.15.0 in /usr/local/lib/python3.10/dist-packages (from tensorflow<3,>=2.13.0->tensorflowjs) (2.15.0)\n",
            "Requirement already satisfied: pandas in /usr/local/lib/python3.10/dist-packages (from tensorflow-decision-forests>=1.5.0->tensorflowjs) (2.0.3)\n",
            "Collecting tensorflow<3,>=2.13.0 (from tensorflowjs)\n",
            "  Downloading tensorflow-2.16.1-cp310-cp310-manylinux_2_17_x86_64.manylinux2014_x86_64.whl (589.8 MB)\n",
            "\u001b[2K     \u001b[90m━━━━━━━━━━━━━━━━━━━━━━━━━━━━━━━━━━━━━━━━\u001b[0m \u001b[32m589.8/589.8 MB\u001b[0m \u001b[31m?\u001b[0m eta \u001b[36m0:00:00\u001b[0m\n",
            "\u001b[?25hRequirement already satisfied: wheel in /usr/local/lib/python3.10/dist-packages (from tensorflow-decision-forests>=1.5.0->tensorflowjs) (0.43.0)\n",
            "Collecting wurlitzer (from tensorflow-decision-forests>=1.5.0->tensorflowjs)\n",
            "  Downloading wurlitzer-3.1.1-py3-none-any.whl (8.6 kB)\n",
            "Collecting tf-keras>=2.13.0 (from tensorflowjs)\n",
            "  Downloading tf_keras-2.16.0-py3-none-any.whl (1.7 MB)\n",
            "\u001b[2K     \u001b[90m━━━━━━━━━━━━━━━━━━━━━━━━━━━━━━━━━━━━━━━━\u001b[0m \u001b[32m1.7/1.7 MB\u001b[0m \u001b[31m81.4 MB/s\u001b[0m eta \u001b[36m0:00:00\u001b[0m\n",
            "\u001b[?25hCollecting ydf (from tensorflow-decision-forests>=1.5.0->tensorflowjs)\n",
            "  Downloading ydf-0.5.0-cp310-cp310-manylinux_2_17_x86_64.manylinux2014_x86_64.whl (9.3 MB)\n",
            "\u001b[2K     \u001b[90m━━━━━━━━━━━━━━━━━━━━━━━━━━━━━━━━━━━━━━━━\u001b[0m \u001b[32m9.3/9.3 MB\u001b[0m \u001b[31m73.5 MB/s\u001b[0m eta \u001b[36m0:00:00\u001b[0m\n",
            "\u001b[?25hCollecting h5py>=3.10.0 (from tensorflow<3,>=2.13.0->tensorflowjs)\n",
            "  Downloading h5py-3.11.0-cp310-cp310-manylinux_2_17_x86_64.manylinux2014_x86_64.whl (5.3 MB)\n",
            "\u001b[2K     \u001b[90m━━━━━━━━━━━━━━━━━━━━━━━━━━━━━━━━━━━━━━━━\u001b[0m \u001b[32m5.3/5.3 MB\u001b[0m \u001b[31m116.3 MB/s\u001b[0m eta \u001b[36m0:00:00\u001b[0m\n",
            "\u001b[?25hCollecting ml-dtypes>=0.2.0 (from jax>=0.4.13->tensorflowjs)\n",
            "  Downloading ml_dtypes-0.3.2-cp310-cp310-manylinux_2_17_x86_64.manylinux2014_x86_64.whl (2.2 MB)\n",
            "\u001b[2K     \u001b[90m━━━━━━━━━━━━━━━━━━━━━━━━━━━━━━━━━━━━━━━━\u001b[0m \u001b[32m2.2/2.2 MB\u001b[0m \u001b[31m93.8 MB/s\u001b[0m eta \u001b[36m0:00:00\u001b[0m\n",
            "\u001b[?25hRequirement already satisfied: requests<3,>=2.21.0 in /usr/local/lib/python3.10/dist-packages (from tensorflow<3,>=2.13.0->tensorflowjs) (2.31.0)\n",
            "Collecting tensorboard<2.17,>=2.16 (from tensorflow<3,>=2.13.0->tensorflowjs)\n",
            "  Downloading tensorboard-2.16.2-py3-none-any.whl (5.5 MB)\n",
            "\u001b[2K     \u001b[90m━━━━━━━━━━━━━━━━━━━━━━━━━━━━━━━━━━━━━━━━\u001b[0m \u001b[32m5.5/5.5 MB\u001b[0m \u001b[31m90.4 MB/s\u001b[0m eta \u001b[36m0:00:00\u001b[0m\n",
            "\u001b[?25hCollecting keras>=3.0.0 (from tensorflow<3,>=2.13.0->tensorflowjs)\n",
            "  Downloading keras-3.3.3-py3-none-any.whl (1.1 MB)\n",
            "\u001b[2K     \u001b[90m━━━━━━━━━━━━━━━━━━━━━━━━━━━━━━━━━━━━━━━━\u001b[0m \u001b[32m1.1/1.1 MB\u001b[0m \u001b[31m86.3 MB/s\u001b[0m eta \u001b[36m0:00:00\u001b[0m\n",
            "\u001b[?25hCollecting namex (from keras>=3.0.0->tensorflow<3,>=2.13.0->tensorflowjs)\n",
            "  Downloading namex-0.0.8-py3-none-any.whl (5.8 kB)\n",
            "Collecting optree (from keras>=3.0.0->tensorflow<3,>=2.13.0->tensorflowjs)\n",
            "  Downloading optree-0.11.0-cp310-cp310-manylinux_2_17_x86_64.manylinux2014_x86_64.whl (311 kB)\n",
            "\u001b[2K     \u001b[90m━━━━━━━━━━━━━━━━━━━━━━━━━━━━━━━━━━━━━━━━\u001b[0m \u001b[32m311.2/311.2 kB\u001b[0m \u001b[31m40.9 MB/s\u001b[0m eta \u001b[36m0:00:00\u001b[0m\n",
            "\u001b[?25hRequirement already satisfied: charset-normalizer<4,>=2 in /usr/local/lib/python3.10/dist-packages (from requests<3,>=2.21.0->tensorflow<3,>=2.13.0->tensorflowjs) (3.3.2)\n",
            "Requirement already satisfied: idna<4,>=2.5 in /usr/local/lib/python3.10/dist-packages (from requests<3,>=2.21.0->tensorflow<3,>=2.13.0->tensorflowjs) (3.7)\n",
            "Requirement already satisfied: urllib3<3,>=1.21.1 in /usr/local/lib/python3.10/dist-packages (from requests<3,>=2.21.0->tensorflow<3,>=2.13.0->tensorflowjs) (2.0.7)\n",
            "Requirement already satisfied: certifi>=2017.4.17 in /usr/local/lib/python3.10/dist-packages (from requests<3,>=2.21.0->tensorflow<3,>=2.13.0->tensorflowjs) (2024.6.2)\n",
            "Requirement already satisfied: markdown-it-py>=2.2.0 in /usr/local/lib/python3.10/dist-packages (from rich>=11.1->flax>=0.7.2->tensorflowjs) (3.0.0)\n",
            "Requirement already satisfied: pygments<3.0.0,>=2.13.0 in /usr/local/lib/python3.10/dist-packages (from rich>=11.1->flax>=0.7.2->tensorflowjs) (2.16.1)\n",
            "Requirement already satisfied: markdown>=2.6.8 in /usr/local/lib/python3.10/dist-packages (from tensorboard<2.17,>=2.16->tensorflow<3,>=2.13.0->tensorflowjs) (3.6)\n",
            "Requirement already satisfied: tensorboard-data-server<0.8.0,>=0.7.0 in /usr/local/lib/python3.10/dist-packages (from tensorboard<2.17,>=2.16->tensorflow<3,>=2.13.0->tensorflowjs) (0.7.2)\n",
            "Requirement already satisfied: werkzeug>=1.0.1 in /usr/local/lib/python3.10/dist-packages (from tensorboard<2.17,>=2.16->tensorflow<3,>=2.13.0->tensorflowjs) (3.0.3)\n",
            "Requirement already satisfied: chex>=0.1.86 in /usr/local/lib/python3.10/dist-packages (from optax->flax>=0.7.2->tensorflowjs) (0.1.86)\n",
            "Requirement already satisfied: etils[epath,epy] in /usr/local/lib/python3.10/dist-packages (from orbax-checkpoint->flax>=0.7.2->tensorflowjs) (1.7.0)\n",
            "Requirement already satisfied: nest_asyncio in /usr/local/lib/python3.10/dist-packages (from orbax-checkpoint->flax>=0.7.2->tensorflowjs) (1.6.0)\n",
            "Requirement already satisfied: python-dateutil>=2.8.2 in /usr/local/lib/python3.10/dist-packages (from pandas->tensorflow-decision-forests>=1.5.0->tensorflowjs) (2.8.2)\n",
            "Requirement already satisfied: pytz>=2020.1 in /usr/local/lib/python3.10/dist-packages (from pandas->tensorflow-decision-forests>=1.5.0->tensorflowjs) (2023.4)\n",
            "Requirement already satisfied: tzdata>=2022.1 in /usr/local/lib/python3.10/dist-packages (from pandas->tensorflow-decision-forests>=1.5.0->tensorflowjs) (2024.1)\n",
            "Requirement already satisfied: toolz>=0.9.0 in /usr/local/lib/python3.10/dist-packages (from chex>=0.1.86->optax->flax>=0.7.2->tensorflowjs) (0.12.1)\n",
            "Requirement already satisfied: mdurl~=0.1 in /usr/local/lib/python3.10/dist-packages (from markdown-it-py>=2.2.0->rich>=11.1->flax>=0.7.2->tensorflowjs) (0.1.2)\n",
            "Requirement already satisfied: MarkupSafe>=2.1.1 in /usr/local/lib/python3.10/dist-packages (from werkzeug>=1.0.1->tensorboard<2.17,>=2.16->tensorflow<3,>=2.13.0->tensorflowjs) (2.1.5)\n",
            "Requirement already satisfied: fsspec in /usr/local/lib/python3.10/dist-packages (from etils[epath,epy]->orbax-checkpoint->flax>=0.7.2->tensorflowjs) (2023.6.0)\n",
            "Requirement already satisfied: zipp in /usr/local/lib/python3.10/dist-packages (from etils[epath,epy]->orbax-checkpoint->flax>=0.7.2->tensorflowjs) (3.19.2)\n",
            "Installing collected packages: namex, ydf, wurlitzer, packaging, optree, ml-dtypes, h5py, tensorboard, keras, tensorflow, tf-keras, tensorflow-decision-forests, tensorflowjs\n",
            "  Attempting uninstall: packaging\n",
            "    Found existing installation: packaging 24.1\n",
            "    Uninstalling packaging-24.1:\n",
            "      Successfully uninstalled packaging-24.1\n",
            "  Attempting uninstall: ml-dtypes\n",
            "    Found existing installation: ml-dtypes 0.2.0\n",
            "    Uninstalling ml-dtypes-0.2.0:\n",
            "      Successfully uninstalled ml-dtypes-0.2.0\n",
            "  Attempting uninstall: h5py\n",
            "    Found existing installation: h5py 3.9.0\n",
            "    Uninstalling h5py-3.9.0:\n",
            "      Successfully uninstalled h5py-3.9.0\n",
            "  Attempting uninstall: tensorboard\n",
            "    Found existing installation: tensorboard 2.15.2\n",
            "    Uninstalling tensorboard-2.15.2:\n",
            "      Successfully uninstalled tensorboard-2.15.2\n",
            "  Attempting uninstall: keras\n",
            "    Found existing installation: keras 2.15.0\n",
            "    Uninstalling keras-2.15.0:\n",
            "      Successfully uninstalled keras-2.15.0\n",
            "  Attempting uninstall: tensorflow\n",
            "    Found existing installation: tensorflow 2.15.0\n",
            "    Uninstalling tensorflow-2.15.0:\n",
            "      Successfully uninstalled tensorflow-2.15.0\n",
            "  Attempting uninstall: tf-keras\n",
            "    Found existing installation: tf_keras 2.15.1\n",
            "    Uninstalling tf_keras-2.15.1:\n",
            "      Successfully uninstalled tf_keras-2.15.1\n",
            "Successfully installed h5py-3.11.0 keras-3.3.3 ml-dtypes-0.3.2 namex-0.0.8 optree-0.11.0 packaging-23.2 tensorboard-2.16.2 tensorflow-2.16.1 tensorflow-decision-forests-1.9.1 tensorflowjs-4.20.0 tf-keras-2.16.0 wurlitzer-3.1.1 ydf-0.5.0\n"
          ]
        },
        {
          "output_type": "display_data",
          "data": {
            "application/vnd.colab-display-data+json": {
              "pip_warning": {
                "packages": [
                  "h5py",
                  "keras",
                  "ml_dtypes",
                  "tensorboard",
                  "tensorflow"
                ]
              },
              "id": "fc25f798a17544f7bd4e3a7703ca94d2"
            }
          },
          "metadata": {}
        }
      ]
    },
    {
      "cell_type": "code",
      "source": [
        "!mkdir skin_type_model_tfjs\n",
        "!tensorflowjs_converter \\\n",
        "    --input_format=tf_saved_model \\\n",
        "    --output_format=tfjs_graph_model \\\n",
        "    --signature_name=serving_default \\\n",
        "    --saved_model_tags=serve \\\n",
        "    /content/ckpt/model_30_0.65_0.68_v02\\\n",
        "    /content/skin_type_model_64_68_resnet50v2_tfjs"
      ],
      "metadata": {
        "id": "c9vNUlPqoFLF",
        "outputId": "f3559dab-8170-40f5-ee08-722c532fefd6",
        "colab": {
          "base_uri": "https://localhost:8080/"
        }
      },
      "execution_count": null,
      "outputs": [
        {
          "output_type": "stream",
          "name": "stdout",
          "text": [
            "mkdir: cannot create directory ‘skin_type_model_tfjs’: File exists\n",
            "2024-06-20 06:14:37.344942: I tensorflow/core/platform/cpu_feature_guard.cc:210] This TensorFlow binary is optimized to use available CPU instructions in performance-critical operations.\n",
            "To enable the following instructions: AVX2 FMA, in other operations, rebuild TensorFlow with the appropriate compiler flags.\n",
            "2024-06-20 06:14:41.005082: W tensorflow/compiler/tf2tensorrt/utils/py_utils.cc:38] TF-TRT Warning: Could not find TensorRT\n",
            "2024-06-20 06:14:48.456094: I external/local_xla/xla/stream_executor/cuda/cuda_executor.cc:998] successful NUMA node read from SysFS had negative value (-1), but there must be at least one NUMA node, so returning NUMA node zero. See more at https://github.com/torvalds/linux/blob/v6.0/Documentation/ABI/testing/sysfs-bus-pci#L344-L355\n",
            "2024-06-20 06:14:48.947259: I external/local_xla/xla/stream_executor/cuda/cuda_executor.cc:998] successful NUMA node read from SysFS had negative value (-1), but there must be at least one NUMA node, so returning NUMA node zero. See more at https://github.com/torvalds/linux/blob/v6.0/Documentation/ABI/testing/sysfs-bus-pci#L344-L355\n",
            "2024-06-20 06:14:48.947685: I external/local_xla/xla/stream_executor/cuda/cuda_executor.cc:998] successful NUMA node read from SysFS had negative value (-1), but there must be at least one NUMA node, so returning NUMA node zero. See more at https://github.com/torvalds/linux/blob/v6.0/Documentation/ABI/testing/sysfs-bus-pci#L344-L355\n",
            "2024-06-20 06:14:48.948588: I external/local_xla/xla/stream_executor/cuda/cuda_executor.cc:998] successful NUMA node read from SysFS had negative value (-1), but there must be at least one NUMA node, so returning NUMA node zero. See more at https://github.com/torvalds/linux/blob/v6.0/Documentation/ABI/testing/sysfs-bus-pci#L344-L355\n",
            "2024-06-20 06:14:48.948896: I external/local_xla/xla/stream_executor/cuda/cuda_executor.cc:998] successful NUMA node read from SysFS had negative value (-1), but there must be at least one NUMA node, so returning NUMA node zero. See more at https://github.com/torvalds/linux/blob/v6.0/Documentation/ABI/testing/sysfs-bus-pci#L344-L355\n",
            "2024-06-20 06:14:48.949187: I external/local_xla/xla/stream_executor/cuda/cuda_executor.cc:998] successful NUMA node read from SysFS had negative value (-1), but there must be at least one NUMA node, so returning NUMA node zero. See more at https://github.com/torvalds/linux/blob/v6.0/Documentation/ABI/testing/sysfs-bus-pci#L344-L355\n",
            "2024-06-20 06:14:49.282773: I external/local_xla/xla/stream_executor/cuda/cuda_executor.cc:998] successful NUMA node read from SysFS had negative value (-1), but there must be at least one NUMA node, so returning NUMA node zero. See more at https://github.com/torvalds/linux/blob/v6.0/Documentation/ABI/testing/sysfs-bus-pci#L344-L355\n",
            "2024-06-20 06:14:49.285106: I external/local_xla/xla/stream_executor/cuda/cuda_executor.cc:998] successful NUMA node read from SysFS had negative value (-1), but there must be at least one NUMA node, so returning NUMA node zero. See more at https://github.com/torvalds/linux/blob/v6.0/Documentation/ABI/testing/sysfs-bus-pci#L344-L355\n",
            "2024-06-20 06:14:49.285316: W tensorflow/core/common_runtime/gpu/gpu_bfc_allocator.cc:47] Overriding orig_value setting because the TF_FORCE_GPU_ALLOW_GROWTH environment variable is set. Original config value was 0.\n",
            "2024-06-20 06:14:49.285445: I external/local_xla/xla/stream_executor/cuda/cuda_executor.cc:998] successful NUMA node read from SysFS had negative value (-1), but there must be at least one NUMA node, so returning NUMA node zero. See more at https://github.com/torvalds/linux/blob/v6.0/Documentation/ABI/testing/sysfs-bus-pci#L344-L355\n",
            "2024-06-20 06:14:49.287479: I tensorflow/core/common_runtime/gpu/gpu_device.cc:1928] Created device /job:localhost/replica:0/task:0/device:GPU:0 with 13949 MB memory:  -> device: 0, name: Tesla T4, pci bus id: 0000:00:04.0, compute capability: 7.5\n",
            "2024-06-20 06:15:09.169546: I external/local_xla/xla/stream_executor/cuda/cuda_executor.cc:998] successful NUMA node read from SysFS had negative value (-1), but there must be at least one NUMA node, so returning NUMA node zero. See more at https://github.com/torvalds/linux/blob/v6.0/Documentation/ABI/testing/sysfs-bus-pci#L344-L355\n",
            "2024-06-20 06:15:09.169743: I tensorflow/core/grappler/devices.cc:66] Number of eligible GPUs (core count >= 8, compute capability >= 0.0): 1\n",
            "2024-06-20 06:15:09.169853: I tensorflow/core/grappler/clusters/single_machine.cc:361] Starting new session\n",
            "2024-06-20 06:15:09.172420: I external/local_xla/xla/stream_executor/cuda/cuda_executor.cc:998] successful NUMA node read from SysFS had negative value (-1), but there must be at least one NUMA node, so returning NUMA node zero. See more at https://github.com/torvalds/linux/blob/v6.0/Documentation/ABI/testing/sysfs-bus-pci#L344-L355\n",
            "2024-06-20 06:15:09.172645: I external/local_xla/xla/stream_executor/cuda/cuda_executor.cc:998] successful NUMA node read from SysFS had negative value (-1), but there must be at least one NUMA node, so returning NUMA node zero. See more at https://github.com/torvalds/linux/blob/v6.0/Documentation/ABI/testing/sysfs-bus-pci#L344-L355\n",
            "2024-06-20 06:15:09.172824: I external/local_xla/xla/stream_executor/cuda/cuda_executor.cc:998] successful NUMA node read from SysFS had negative value (-1), but there must be at least one NUMA node, so returning NUMA node zero. See more at https://github.com/torvalds/linux/blob/v6.0/Documentation/ABI/testing/sysfs-bus-pci#L344-L355\n",
            "2024-06-20 06:15:09.173094: I external/local_xla/xla/stream_executor/cuda/cuda_executor.cc:998] successful NUMA node read from SysFS had negative value (-1), but there must be at least one NUMA node, so returning NUMA node zero. See more at https://github.com/torvalds/linux/blob/v6.0/Documentation/ABI/testing/sysfs-bus-pci#L344-L355\n",
            "2024-06-20 06:15:09.173286: I external/local_xla/xla/stream_executor/cuda/cuda_executor.cc:998] successful NUMA node read from SysFS had negative value (-1), but there must be at least one NUMA node, so returning NUMA node zero. See more at https://github.com/torvalds/linux/blob/v6.0/Documentation/ABI/testing/sysfs-bus-pci#L344-L355\n",
            "2024-06-20 06:15:09.173427: I tensorflow/core/common_runtime/gpu/gpu_device.cc:1928] Created device /job:localhost/replica:0/task:0/device:GPU:0 with 13949 MB memory:  -> device: 0, name: Tesla T4, pci bus id: 0000:00:04.0, compute capability: 7.5\n",
            "WARNING:tensorflow:Didn't find expected Conv2D or DepthwiseConv2dNative input to 'StatefulPartitionedCall/model_2/conv2_block1_preact_bn/FusedBatchNormV3'\n",
            "WARNING:tensorflow:The bias StatefulPartitionedCall/model_2/conv2_block1_0_conv/BiasAdd after the conv StatefulPartitionedCall/model_2/conv2_block1_3_conv/BiasAdd was not a constant. Maybe because freeze_graph wasn't run first?\n",
            "WARNING:tensorflow:The bias StatefulPartitionedCall/model_2/conv2_block1_out/add after the conv StatefulPartitionedCall/model_2/conv2_block2_3_conv/BiasAdd was not a constant. Maybe because freeze_graph wasn't run first?\n",
            "WARNING:tensorflow:The bias StatefulPartitionedCall/model_2/max_pooling2d/MaxPool after the conv StatefulPartitionedCall/model_2/conv2_block3_3_conv/BiasAdd was not a constant. Maybe because freeze_graph wasn't run first?\n",
            "WARNING:tensorflow:The bias StatefulPartitionedCall/model_2/conv3_block1_0_conv/BiasAdd after the conv StatefulPartitionedCall/model_2/conv3_block1_3_conv/BiasAdd was not a constant. Maybe because freeze_graph wasn't run first?\n",
            "WARNING:tensorflow:The bias StatefulPartitionedCall/model_2/conv3_block1_out/add after the conv StatefulPartitionedCall/model_2/conv3_block2_3_conv/BiasAdd was not a constant. Maybe because freeze_graph wasn't run first?\n",
            "WARNING:tensorflow:The bias StatefulPartitionedCall/model_2/conv3_block2_out/add after the conv StatefulPartitionedCall/model_2/conv3_block3_3_conv/BiasAdd was not a constant. Maybe because freeze_graph wasn't run first?\n",
            "WARNING:tensorflow:The bias StatefulPartitionedCall/model_2/max_pooling2d_1/MaxPool after the conv StatefulPartitionedCall/model_2/conv3_block4_3_conv/BiasAdd was not a constant. Maybe because freeze_graph wasn't run first?\n",
            "WARNING:tensorflow:The bias StatefulPartitionedCall/model_2/conv4_block1_0_conv/BiasAdd after the conv StatefulPartitionedCall/model_2/conv4_block1_3_conv/BiasAdd was not a constant. Maybe because freeze_graph wasn't run first?\n",
            "WARNING:tensorflow:The bias StatefulPartitionedCall/model_2/conv4_block1_out/add after the conv StatefulPartitionedCall/model_2/conv4_block2_3_conv/BiasAdd was not a constant. Maybe because freeze_graph wasn't run first?\n",
            "WARNING:tensorflow:The bias StatefulPartitionedCall/model_2/conv4_block2_out/add after the conv StatefulPartitionedCall/model_2/conv4_block3_3_conv/BiasAdd was not a constant. Maybe because freeze_graph wasn't run first?\n",
            "WARNING:tensorflow:The bias StatefulPartitionedCall/model_2/conv4_block3_out/add after the conv StatefulPartitionedCall/model_2/conv4_block4_3_conv/BiasAdd was not a constant. Maybe because freeze_graph wasn't run first?\n",
            "WARNING:tensorflow:The bias StatefulPartitionedCall/model_2/conv4_block4_out/add after the conv StatefulPartitionedCall/model_2/conv4_block5_3_conv/BiasAdd was not a constant. Maybe because freeze_graph wasn't run first?\n",
            "WARNING:tensorflow:The bias StatefulPartitionedCall/model_2/max_pooling2d_2/MaxPool after the conv StatefulPartitionedCall/model_2/conv4_block6_3_conv/BiasAdd was not a constant. Maybe because freeze_graph wasn't run first?\n",
            "WARNING:tensorflow:The bias StatefulPartitionedCall/model_2/conv5_block1_0_conv/BiasAdd after the conv StatefulPartitionedCall/model_2/conv5_block1_3_conv/BiasAdd was not a constant. Maybe because freeze_graph wasn't run first?\n",
            "WARNING:tensorflow:The bias StatefulPartitionedCall/model_2/conv5_block1_out/add after the conv StatefulPartitionedCall/model_2/conv5_block2_3_conv/BiasAdd was not a constant. Maybe because freeze_graph wasn't run first?\n",
            "WARNING:tensorflow:The bias StatefulPartitionedCall/model_2/conv5_block2_out/add after the conv StatefulPartitionedCall/model_2/conv5_block3_3_conv/BiasAdd was not a constant. Maybe because freeze_graph wasn't run first?\n"
          ]
        }
      ]
    },
    {
      "cell_type": "code",
      "source": [
        "zip_directory(directory_path='/content/skin_type_model_64_68_resnet50v2_tfjs', zip_path='/content/skin_type_model_64_68_resnet50v2_tfjs.zip')"
      ],
      "metadata": {
        "id": "ng0HGv8DTxvW",
        "outputId": "0c1bfab7-4bc6-4394-dd0b-f8b3cc78eb48",
        "colab": {
          "base_uri": "https://localhost:8080/"
        }
      },
      "execution_count": null,
      "outputs": [
        {
          "output_type": "stream",
          "name": "stdout",
          "text": [
            "successfull zipping /content/skin_type_model_64_68_resnet50v2_tfjs to /content/skin_type_model_64_68_resnet50v2_tfjs.zip\n"
          ]
        }
      ]
    },
    {
      "cell_type": "code",
      "source": [],
      "metadata": {
        "id": "xMG7ZNyoUQ-0"
      },
      "execution_count": null,
      "outputs": []
    }
  ],
  "metadata": {
    "colab": {
      "provenance": [],
      "gpuType": "T4",
      "include_colab_link": true
    },
    "kernelspec": {
      "display_name": "Python 3",
      "name": "python3"
    },
    "language_info": {
      "name": "python"
    },
    "accelerator": "GPU"
  },
  "nbformat": 4,
  "nbformat_minor": 0
}