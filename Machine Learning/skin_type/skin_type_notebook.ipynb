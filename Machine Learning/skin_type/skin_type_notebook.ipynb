{
  "cells": [
    {
      "cell_type": "markdown",
      "metadata": {
        "id": "view-in-github",
        "colab_type": "text"
      },
      "source": [
        "<a href=\"https://colab.research.google.com/github/sayid-alt/kulitku-bangkit2024/blob/main/Machine%20Learning/skin_type/skin_type_notebook.ipynb\" target=\"_parent\"><img src=\"https://colab.research.google.com/assets/colab-badge.svg\" alt=\"Open In Colab\"/></a>"
      ]
    },
    {
      "cell_type": "code",
      "execution_count": 1,
      "metadata": {
        "colab": {
          "base_uri": "https://localhost:8080/"
        },
        "id": "jSoDJFcwzlR5",
        "outputId": "0f181d90-08d3-4202-d027-40d1b1d3eb54"
      },
      "outputs": [
        {
          "output_type": "stream",
          "name": "stdout",
          "text": [
            "Collecting keras-tuner\n",
            "  Downloading keras_tuner-1.4.7-py3-none-any.whl (129 kB)\n",
            "\u001b[2K     \u001b[90m━━━━━━━━━━━━━━━━━━━━━━━━━━━━━━━━━━━━━━━━\u001b[0m \u001b[32m129.1/129.1 kB\u001b[0m \u001b[31m1.7 MB/s\u001b[0m eta \u001b[36m0:00:00\u001b[0m\n",
            "\u001b[?25hRequirement already satisfied: keras in /usr/local/lib/python3.10/dist-packages (from keras-tuner) (2.15.0)\n",
            "Requirement already satisfied: packaging in /usr/local/lib/python3.10/dist-packages (from keras-tuner) (24.1)\n",
            "Requirement already satisfied: requests in /usr/local/lib/python3.10/dist-packages (from keras-tuner) (2.31.0)\n",
            "Collecting kt-legacy (from keras-tuner)\n",
            "  Downloading kt_legacy-1.0.5-py3-none-any.whl (9.6 kB)\n",
            "Requirement already satisfied: charset-normalizer<4,>=2 in /usr/local/lib/python3.10/dist-packages (from requests->keras-tuner) (3.3.2)\n",
            "Requirement already satisfied: idna<4,>=2.5 in /usr/local/lib/python3.10/dist-packages (from requests->keras-tuner) (3.7)\n",
            "Requirement already satisfied: urllib3<3,>=1.21.1 in /usr/local/lib/python3.10/dist-packages (from requests->keras-tuner) (2.0.7)\n",
            "Requirement already satisfied: certifi>=2017.4.17 in /usr/local/lib/python3.10/dist-packages (from requests->keras-tuner) (2024.6.2)\n",
            "Installing collected packages: kt-legacy, keras-tuner\n",
            "Successfully installed keras-tuner-1.4.7 kt-legacy-1.0.5\n"
          ]
        }
      ],
      "source": [
        "!pip install keras-tuner --upgrade\n",
        "\n",
        "import zipfile\n",
        "import os\n",
        "import shutil\n",
        "import numpy as np\n",
        "import tensorflow as tf\n",
        "import matplotlib.pyplot as plt\n",
        "import pandas as pd\n",
        "import keras_tuner\n",
        "import keras\n",
        "\n",
        "from sklearn.model_selection import train_test_split\n",
        "from tensorflow.keras.models import Model\n",
        "from tensorflow.keras.applications import ResNet50\n",
        "from tensorflow.keras.layers import Dense, GlobalAveragePooling2D, Dropout, Flatten, BatchNormalization\n",
        "from tensorflow.keras.regularizers import l2\n",
        "from tensorflow.keras.optimizers import Adam, SGD, RMSprop\n",
        "from tensorflow.keras.preprocessing.image import ImageDataGenerator\n",
        "from tensorflow.keras.preprocessing import image\n",
        "\n",
        "import datetime"
      ]
    },
    {
      "cell_type": "markdown",
      "metadata": {
        "id": "mWLdO6Dm0ily"
      },
      "source": [
        "# Download data from kaggle"
      ]
    },
    {
      "cell_type": "code",
      "execution_count": 2,
      "metadata": {
        "colab": {
          "base_uri": "https://localhost:8080/",
          "height": 316
        },
        "id": "7wJbGZF9ytJP",
        "outputId": "d2821473-f422-4478-c47c-e0391e52692f"
      },
      "outputs": [
        {
          "output_type": "stream",
          "name": "stdout",
          "text": [
            "Requirement already satisfied: kaggle in /usr/local/lib/python3.10/dist-packages (1.6.14)\n",
            "Requirement already satisfied: six>=1.10 in /usr/local/lib/python3.10/dist-packages (from kaggle) (1.16.0)\n",
            "Requirement already satisfied: certifi>=2023.7.22 in /usr/local/lib/python3.10/dist-packages (from kaggle) (2024.6.2)\n",
            "Requirement already satisfied: python-dateutil in /usr/local/lib/python3.10/dist-packages (from kaggle) (2.8.2)\n",
            "Requirement already satisfied: requests in /usr/local/lib/python3.10/dist-packages (from kaggle) (2.31.0)\n",
            "Requirement already satisfied: tqdm in /usr/local/lib/python3.10/dist-packages (from kaggle) (4.66.4)\n",
            "Requirement already satisfied: python-slugify in /usr/local/lib/python3.10/dist-packages (from kaggle) (8.0.4)\n",
            "Requirement already satisfied: urllib3 in /usr/local/lib/python3.10/dist-packages (from kaggle) (2.0.7)\n",
            "Requirement already satisfied: bleach in /usr/local/lib/python3.10/dist-packages (from kaggle) (6.1.0)\n",
            "Requirement already satisfied: webencodings in /usr/local/lib/python3.10/dist-packages (from bleach->kaggle) (0.5.1)\n",
            "Requirement already satisfied: text-unidecode>=1.3 in /usr/local/lib/python3.10/dist-packages (from python-slugify->kaggle) (1.3)\n",
            "Requirement already satisfied: charset-normalizer<4,>=2 in /usr/local/lib/python3.10/dist-packages (from requests->kaggle) (3.3.2)\n",
            "Requirement already satisfied: idna<4,>=2.5 in /usr/local/lib/python3.10/dist-packages (from requests->kaggle) (3.7)\n"
          ]
        },
        {
          "output_type": "display_data",
          "data": {
            "text/plain": [
              "<IPython.core.display.HTML object>"
            ],
            "text/html": [
              "\n",
              "     <input type=\"file\" id=\"files-693e2341-3e66-4a6b-b126-14d3c7e71d66\" name=\"files[]\" multiple disabled\n",
              "        style=\"border:none\" />\n",
              "     <output id=\"result-693e2341-3e66-4a6b-b126-14d3c7e71d66\">\n",
              "      Upload widget is only available when the cell has been executed in the\n",
              "      current browser session. Please rerun this cell to enable.\n",
              "      </output>\n",
              "      <script>// Copyright 2017 Google LLC\n",
              "//\n",
              "// Licensed under the Apache License, Version 2.0 (the \"License\");\n",
              "// you may not use this file except in compliance with the License.\n",
              "// You may obtain a copy of the License at\n",
              "//\n",
              "//      http://www.apache.org/licenses/LICENSE-2.0\n",
              "//\n",
              "// Unless required by applicable law or agreed to in writing, software\n",
              "// distributed under the License is distributed on an \"AS IS\" BASIS,\n",
              "// WITHOUT WARRANTIES OR CONDITIONS OF ANY KIND, either express or implied.\n",
              "// See the License for the specific language governing permissions and\n",
              "// limitations under the License.\n",
              "\n",
              "/**\n",
              " * @fileoverview Helpers for google.colab Python module.\n",
              " */\n",
              "(function(scope) {\n",
              "function span(text, styleAttributes = {}) {\n",
              "  const element = document.createElement('span');\n",
              "  element.textContent = text;\n",
              "  for (const key of Object.keys(styleAttributes)) {\n",
              "    element.style[key] = styleAttributes[key];\n",
              "  }\n",
              "  return element;\n",
              "}\n",
              "\n",
              "// Max number of bytes which will be uploaded at a time.\n",
              "const MAX_PAYLOAD_SIZE = 100 * 1024;\n",
              "\n",
              "function _uploadFiles(inputId, outputId) {\n",
              "  const steps = uploadFilesStep(inputId, outputId);\n",
              "  const outputElement = document.getElementById(outputId);\n",
              "  // Cache steps on the outputElement to make it available for the next call\n",
              "  // to uploadFilesContinue from Python.\n",
              "  outputElement.steps = steps;\n",
              "\n",
              "  return _uploadFilesContinue(outputId);\n",
              "}\n",
              "\n",
              "// This is roughly an async generator (not supported in the browser yet),\n",
              "// where there are multiple asynchronous steps and the Python side is going\n",
              "// to poll for completion of each step.\n",
              "// This uses a Promise to block the python side on completion of each step,\n",
              "// then passes the result of the previous step as the input to the next step.\n",
              "function _uploadFilesContinue(outputId) {\n",
              "  const outputElement = document.getElementById(outputId);\n",
              "  const steps = outputElement.steps;\n",
              "\n",
              "  const next = steps.next(outputElement.lastPromiseValue);\n",
              "  return Promise.resolve(next.value.promise).then((value) => {\n",
              "    // Cache the last promise value to make it available to the next\n",
              "    // step of the generator.\n",
              "    outputElement.lastPromiseValue = value;\n",
              "    return next.value.response;\n",
              "  });\n",
              "}\n",
              "\n",
              "/**\n",
              " * Generator function which is called between each async step of the upload\n",
              " * process.\n",
              " * @param {string} inputId Element ID of the input file picker element.\n",
              " * @param {string} outputId Element ID of the output display.\n",
              " * @return {!Iterable<!Object>} Iterable of next steps.\n",
              " */\n",
              "function* uploadFilesStep(inputId, outputId) {\n",
              "  const inputElement = document.getElementById(inputId);\n",
              "  inputElement.disabled = false;\n",
              "\n",
              "  const outputElement = document.getElementById(outputId);\n",
              "  outputElement.innerHTML = '';\n",
              "\n",
              "  const pickedPromise = new Promise((resolve) => {\n",
              "    inputElement.addEventListener('change', (e) => {\n",
              "      resolve(e.target.files);\n",
              "    });\n",
              "  });\n",
              "\n",
              "  const cancel = document.createElement('button');\n",
              "  inputElement.parentElement.appendChild(cancel);\n",
              "  cancel.textContent = 'Cancel upload';\n",
              "  const cancelPromise = new Promise((resolve) => {\n",
              "    cancel.onclick = () => {\n",
              "      resolve(null);\n",
              "    };\n",
              "  });\n",
              "\n",
              "  // Wait for the user to pick the files.\n",
              "  const files = yield {\n",
              "    promise: Promise.race([pickedPromise, cancelPromise]),\n",
              "    response: {\n",
              "      action: 'starting',\n",
              "    }\n",
              "  };\n",
              "\n",
              "  cancel.remove();\n",
              "\n",
              "  // Disable the input element since further picks are not allowed.\n",
              "  inputElement.disabled = true;\n",
              "\n",
              "  if (!files) {\n",
              "    return {\n",
              "      response: {\n",
              "        action: 'complete',\n",
              "      }\n",
              "    };\n",
              "  }\n",
              "\n",
              "  for (const file of files) {\n",
              "    const li = document.createElement('li');\n",
              "    li.append(span(file.name, {fontWeight: 'bold'}));\n",
              "    li.append(span(\n",
              "        `(${file.type || 'n/a'}) - ${file.size} bytes, ` +\n",
              "        `last modified: ${\n",
              "            file.lastModifiedDate ? file.lastModifiedDate.toLocaleDateString() :\n",
              "                                    'n/a'} - `));\n",
              "    const percent = span('0% done');\n",
              "    li.appendChild(percent);\n",
              "\n",
              "    outputElement.appendChild(li);\n",
              "\n",
              "    const fileDataPromise = new Promise((resolve) => {\n",
              "      const reader = new FileReader();\n",
              "      reader.onload = (e) => {\n",
              "        resolve(e.target.result);\n",
              "      };\n",
              "      reader.readAsArrayBuffer(file);\n",
              "    });\n",
              "    // Wait for the data to be ready.\n",
              "    let fileData = yield {\n",
              "      promise: fileDataPromise,\n",
              "      response: {\n",
              "        action: 'continue',\n",
              "      }\n",
              "    };\n",
              "\n",
              "    // Use a chunked sending to avoid message size limits. See b/62115660.\n",
              "    let position = 0;\n",
              "    do {\n",
              "      const length = Math.min(fileData.byteLength - position, MAX_PAYLOAD_SIZE);\n",
              "      const chunk = new Uint8Array(fileData, position, length);\n",
              "      position += length;\n",
              "\n",
              "      const base64 = btoa(String.fromCharCode.apply(null, chunk));\n",
              "      yield {\n",
              "        response: {\n",
              "          action: 'append',\n",
              "          file: file.name,\n",
              "          data: base64,\n",
              "        },\n",
              "      };\n",
              "\n",
              "      let percentDone = fileData.byteLength === 0 ?\n",
              "          100 :\n",
              "          Math.round((position / fileData.byteLength) * 100);\n",
              "      percent.textContent = `${percentDone}% done`;\n",
              "\n",
              "    } while (position < fileData.byteLength);\n",
              "  }\n",
              "\n",
              "  // All done.\n",
              "  yield {\n",
              "    response: {\n",
              "      action: 'complete',\n",
              "    }\n",
              "  };\n",
              "}\n",
              "\n",
              "scope.google = scope.google || {};\n",
              "scope.google.colab = scope.google.colab || {};\n",
              "scope.google.colab._files = {\n",
              "  _uploadFiles,\n",
              "  _uploadFilesContinue,\n",
              "};\n",
              "})(self);\n",
              "</script> "
            ]
          },
          "metadata": {}
        },
        {
          "output_type": "stream",
          "name": "stdout",
          "text": [
            "Saving kaggle.json to kaggle.json\n"
          ]
        },
        {
          "output_type": "execute_result",
          "data": {
            "text/plain": [
              "{'kaggle.json': b'{\"username\":\"sayidheykal\",\"key\":\"e6e9a20922c6182e48e1cbac69a56342\"}'}"
            ]
          },
          "metadata": {},
          "execution_count": 2
        }
      ],
      "source": [
        "!pip install kaggle\n",
        "\n",
        "\n",
        "from google.colab import files\n",
        "files.upload()"
      ]
    },
    {
      "cell_type": "code",
      "execution_count": 3,
      "metadata": {
        "id": "Z19Ukds9yymu",
        "colab": {
          "base_uri": "https://localhost:8080/"
        },
        "outputId": "8912bb75-ae61-4f79-e1d5-e22efc656492"
      },
      "outputs": [
        {
          "output_type": "stream",
          "name": "stdout",
          "text": [
            "Dataset URL: https://www.kaggle.com/datasets/shakyadissanayake/oily-dry-and-normal-skin-types-dataset\n",
            "License(s): Apache 2.0\n",
            "Downloading oily-dry-and-normal-skin-types-dataset.zip to /content\n",
            "100% 124M/124M [00:07<00:00, 22.1MB/s]\n",
            "100% 124M/124M [00:07<00:00, 18.4MB/s]\n"
          ]
        }
      ],
      "source": [
        "!mkdir -p ~/.kaggle\n",
        "!mv kaggle.json ~/.kaggle/\n",
        "!chmod 600 ~/.kaggle/kaggle.json\n",
        "\n",
        "!kaggle datasets download -d shakyadissanayake/oily-dry-and-normal-skin-types-dataset"
      ]
    },
    {
      "cell_type": "markdown",
      "metadata": {
        "id": "VvP1-xeYFGM8"
      },
      "source": [
        "# Utilities"
      ]
    },
    {
      "cell_type": "code",
      "execution_count": 4,
      "metadata": {
        "id": "2uoz4tncFFr3"
      },
      "outputs": [],
      "source": [
        "def move_files(source_dir, destination_dir):\n",
        "    # Ensure the source and destination directories exist\n",
        "    if not os.path.exists(source_dir):\n",
        "        print(f\"The source directory '{source_dir}' does not exist.\")\n",
        "        return\n",
        "\n",
        "    if not os.path.exists(destination_dir):\n",
        "        os.makedirs(destination_dir)\n",
        "        print(f\"Created the destination directory '{destination_dir}'.\")\n",
        "\n",
        "    # List all files in the source directory\n",
        "    files = os.listdir(source_dir)\n",
        "\n",
        "    # Loop through all files and move them to the destination directory\n",
        "    sum = 0\n",
        "    for file_name in files:\n",
        "        # Construct full file path\n",
        "        source_file = os.path.join(source_dir, file_name)\n",
        "        destination_file = os.path.join(destination_dir, file_name)\n",
        "\n",
        "        # Move the file\n",
        "        shutil.move(source_file, destination_file)\n",
        "        sum+=1\n",
        "\n",
        "    print(f'successfully moved {sum} files from {source_dir} to {destination_dir}')\n",
        "\n",
        "\n",
        "\n",
        "def unzip_file(zip_path, extract_to='.'):\n",
        "    with zipfile.ZipFile(zip_path, 'r') as zip_ref:\n",
        "        zip_ref.extractall(extract_to)\n",
        "\n",
        "def create_directory(path):\n",
        "    try:\n",
        "        os.makedirs(path, exist_ok=True)\n",
        "        print(f\"Directory '{path}' created successfully.\")\n",
        "    except Exception as e:\n",
        "        print(f\"Error creating directory '{path}': {e}\")\n",
        "\n",
        "\n",
        "\n",
        "def count_files_and_directories(path):\n",
        "    file_count = 0\n",
        "    directory_count = 0\n",
        "\n",
        "    for dirpath, dirnames, filenames in os.walk(path):\n",
        "        # Count the number of files in the current directory\n",
        "        file_count += len(filenames)\n",
        "        # Count the number of subdirectories in the current directory\n",
        "        directory_count += len(dirnames)\n",
        "\n",
        "    return file_count, directory_count\n",
        "\n",
        "\n",
        "def convert_pb_to_tflite(pb_model_path, tflite_model_path):\n",
        "    # Load the TensorFlow model\n",
        "    converter = tf.lite.TFLiteConverter.from_saved_model(pb_model_path)\n",
        "\n",
        "    # Convert the model to TFLite format\n",
        "    tflite_model = converter.convert()\n",
        "\n",
        "    # Save the converted model to a file\n",
        "    with open(tflite_model_path, 'wb') as f:\n",
        "        f.write(tflite_model)\n",
        "\n",
        "    print(f\"Model converted and saved to {tflite_model_path}\")\n",
        "\n",
        "\n",
        "def plot_portion(values, labels, title='Portion of values'):\n",
        "  fig, ax = plt.subplots()\n",
        "\n",
        "  sum_values = sum(values)\n",
        "  percentages = [value / sum_values for value in values]\n",
        "\n",
        "  bar_colors = ['tab:red', 'tab:blue', 'tab:orange']\n",
        "\n",
        "  # Create horizontal bar chart\n",
        "  bars = ax.bar(labels, values, color=bar_colors, label=labels)\n",
        "\n",
        "  # Add labels to bars with customizations\n",
        "  ax.bar_label(bars, labels=[f'{round(v * 100, 2)} %' for v in percentages], padding=3, fontsize=10, label_type='center')\n",
        "\n",
        "  # Set labels\n",
        "  ax.set_ylabel('values')\n",
        "  ax.set_title(title)\n",
        "  ax.legend(title='Fruit color')\n",
        "\n",
        "  # Show the plot\n",
        "  plt.show()\n",
        "\n",
        "def plot_acc_loss(history):\n",
        "  plt.figure(figsize=(12, 4))\n",
        "\n",
        "  plt.subplot(1, 2, 1)\n",
        "  plt.plot(history.history['accuracy'])\n",
        "  plt.plot(history.history['val_accuracy'])\n",
        "  plt.title('Model Accuracy')\n",
        "  plt.ylabel('Accuracy')\n",
        "  plt.xlabel('Epoch')\n",
        "  plt.legend(['Train', 'Validation'], loc='upper left')\n",
        "\n",
        "  # Plot training & validation loss values\n",
        "  plt.subplot(1, 2, 2)\n",
        "  plt.plot(history.history['loss'])\n",
        "  plt.plot(history.history['val_loss'])\n",
        "  plt.title('Model Loss')\n",
        "  plt.ylabel('Loss')\n",
        "  plt.xlabel('Epoch')\n",
        "  plt.legend(['Train', 'Validation'], loc='upper left')\n",
        "\n",
        "  # save graph to png\n",
        "  pngfile = 'acc_loss.png'\n",
        "  if os.path.isfile(pngfile):\n",
        "    plt.savefig('acc_loss(1).png')\n",
        "  plt.savefig(f'acc_loss.png')\n",
        "\n",
        "  acc = history.history['accuracy']\n",
        "  val_acc = history.history['val_accuracy']\n",
        "\n",
        "  loss = history.history['loss']\n",
        "  val_loss = history.history['val_loss']\n",
        "\n",
        "  print(f'accuracy\\t: {acc[len(acc)-1]}, val_accuracy\\t: {val_acc[len(val_acc)-1]}')\n",
        "\n",
        "  print(f'loss\\t\\t: {loss[len(loss)-1]}, val_loss\\t: {val_loss[len(val_loss)-1]}')\n",
        "\n",
        "\n",
        "def move_files_after_split(X, y, base_dir):\n",
        "  sum = 0\n",
        "  for source_dir, category in zip(X, y):\n",
        "    filename = source_dir.split('/')[-1]\n",
        "    destination_dir = os.path.join(base_dir, category, filename)\n",
        "    shutil.move(source_dir, destination_dir)\n",
        "    sum+= 1\n",
        "  print(f'successfully moved {sum} files to {destination_dir}')\n",
        "\n",
        "def checking_dir_qty(base_dir, train_dir, valid_dir, test_dir):\n",
        "  num_train, num_train_labels = count_files_and_directories(train_dir)\n",
        "  num_valid, num_valid_labels = count_files_and_directories(valid_dir)\n",
        "  num_test, num_test_labels = count_files_and_directories(test_dir)\n",
        "\n",
        "  all, _ = count_files_and_directories(base_dir)\n",
        "\n",
        "  print(f'number of images: {all}\\n-------------------\\n')\n",
        "  print(f'train data length: {num_train}\\nNum of train labels: {num_train_labels}\\npercentage: {round(num_train/all*100,2)} %\\n')\n",
        "  print(f'valid data length: {num_valid}\\nNum of train labels: {num_valid_labels}\\npercentage: {round(num_valid/all*100,2)} %\\n')\n",
        "  print(f'test data length: {num_test}\\nNum of test labels: {num_test_labels}\\npercentage: {round(num_test/all*100,2)} %\\n')\n",
        "\n",
        "def zip_directory(directory_path, zip_path):\n",
        "    with zipfile.ZipFile(zip_path, 'w', zipfile.ZIP_DEFLATED) as zipf:\n",
        "        for root, dirs, files in os.walk(directory_path):\n",
        "            for file in files:\n",
        "                file_path = os.path.join(root, file)\n",
        "                arcname = os.path.relpath(file_path, start=directory_path)\n",
        "                zipf.write(file_path, arcname=arcname)\n",
        "\n",
        "\n",
        "\n"
      ]
    },
    {
      "cell_type": "code",
      "execution_count": 5,
      "metadata": {
        "collapsed": true,
        "id": "auwADd1H25VA"
      },
      "outputs": [],
      "source": [
        "dataset_dir = '/content/oily-dry-and-normal-skin-types-dataset'\n",
        "if os.path.isdir(dataset_dir):\n",
        "  shutil.rmtree(dataset_dir)\n",
        "\n",
        "# Unzip dataset\n",
        "zip_path = dataset_dir + '.zip'\n",
        "unzip_file(zip_path)"
      ]
    },
    {
      "cell_type": "markdown",
      "metadata": {
        "id": "RBxO9qC54JZx"
      },
      "source": [
        "# Generate data"
      ]
    },
    {
      "cell_type": "code",
      "execution_count": 6,
      "metadata": {
        "id": "FEs1KSBv3WKe",
        "colab": {
          "base_uri": "https://localhost:8080/"
        },
        "outputId": "a5e925ff-49f4-47fa-ab08-00d5933c0d8d"
      },
      "outputs": [
        {
          "output_type": "execute_result",
          "data": {
            "text/plain": [
              "('/content/Oily-Dry-Skin-Types/train',\n",
              " '/content/Oily-Dry-Skin-Types/valid',\n",
              " '/content/Oily-Dry-Skin-Types/test')"
            ]
          },
          "metadata": {},
          "execution_count": 6
        }
      ],
      "source": [
        "# defined directories\n",
        "# -------------------\n",
        "\n",
        "# base working directory\n",
        "base_dir = '/content/Oily-Dry-Skin-Types/'\n",
        "\n",
        "# training data directory\n",
        "train_dir = base_dir + 'train'\n",
        "\n",
        " # validation data directory\n",
        "valid_dir = base_dir + 'valid'\n",
        "\n",
        "# test data directory\n",
        "test_dir = base_dir + 'test'\n",
        "\n",
        "train_dir, valid_dir, test_dir"
      ]
    },
    {
      "cell_type": "markdown",
      "metadata": {
        "id": "-QeZzDC8HBEz"
      },
      "source": [
        "## Gathering all picture to one folder as their categories"
      ]
    },
    {
      "cell_type": "code",
      "source": [
        "checking_dir_qty(base_dir, train_dir, valid_dir, test_dir)"
      ],
      "metadata": {
        "colab": {
          "base_uri": "https://localhost:8080/"
        },
        "id": "ufYkBMJjyit8",
        "outputId": "394dd198-4828-4bc7-ecc1-6ef8d9139a10"
      },
      "execution_count": 7,
      "outputs": [
        {
          "output_type": "stream",
          "name": "stdout",
          "text": [
            "number of images: 3153\n",
            "-------------------\n",
            "\n",
            "train data length: 2756\n",
            "Num of train labels: 3\n",
            "percentage: 87.41 %\n",
            "\n",
            "valid data length: 262\n",
            "Num of train labels: 3\n",
            "percentage: 8.31 %\n",
            "\n",
            "test data length: 134\n",
            "Num of test labels: 3\n",
            "percentage: 4.25 %\n",
            "\n"
          ]
        }
      ]
    },
    {
      "cell_type": "code",
      "execution_count": 8,
      "metadata": {
        "id": "6CEJ8KS-Lj_u",
        "colab": {
          "base_uri": "https://localhost:8080/"
        },
        "outputId": "49ca0809-b18b-4afe-973f-c81e99b9dc96"
      },
      "outputs": [
        {
          "output_type": "execute_result",
          "data": {
            "text/plain": [
              "['normal', 'oily', 'dry']"
            ]
          },
          "metadata": {},
          "execution_count": 8
        }
      ],
      "source": [
        "# define class names as a label\n",
        "categories = [name for name in os.listdir(train_dir)]\n",
        "categories"
      ]
    },
    {
      "cell_type": "code",
      "execution_count": 9,
      "metadata": {
        "id": "jO6DSrqlFp5W",
        "colab": {
          "base_uri": "https://localhost:8080/"
        },
        "outputId": "14111132-28fd-422b-d65f-a93544659a18"
      },
      "outputs": [
        {
          "output_type": "stream",
          "name": "stdout",
          "text": [
            "Directory '/content/Oily-Dry-Skin-Types/all/normal' created successfully.\n",
            "Directory '/content/Oily-Dry-Skin-Types/all/oily' created successfully.\n",
            "Directory '/content/Oily-Dry-Skin-Types/all/dry' created successfully.\n",
            "successfully moved 1104 files from /content/Oily-Dry-Skin-Types/train/normal to /content/Oily-Dry-Skin-Types/all/normal\n",
            "successfully moved 1000 files from /content/Oily-Dry-Skin-Types/train/oily to /content/Oily-Dry-Skin-Types/all/oily\n",
            "successfully moved 652 files from /content/Oily-Dry-Skin-Types/train/dry to /content/Oily-Dry-Skin-Types/all/dry\n",
            "successfully moved 111 files from /content/Oily-Dry-Skin-Types/valid/normal to /content/Oily-Dry-Skin-Types/all/normal\n",
            "successfully moved 80 files from /content/Oily-Dry-Skin-Types/valid/oily to /content/Oily-Dry-Skin-Types/all/oily\n",
            "successfully moved 71 files from /content/Oily-Dry-Skin-Types/valid/dry to /content/Oily-Dry-Skin-Types/all/dry\n",
            "successfully moved 59 files from /content/Oily-Dry-Skin-Types/test/normal to /content/Oily-Dry-Skin-Types/all/normal\n",
            "successfully moved 40 files from /content/Oily-Dry-Skin-Types/test/oily to /content/Oily-Dry-Skin-Types/all/oily\n",
            "successfully moved 35 files from /content/Oily-Dry-Skin-Types/test/dry to /content/Oily-Dry-Skin-Types/all/dry\n"
          ]
        }
      ],
      "source": [
        "# create dicertories for all existing data\n",
        "all_dir = os.path.join(base_dir, 'all')\n",
        "\n",
        "for cat in categories:\n",
        "  create_directory(os.path.join(all_dir, cat))\n",
        "\n",
        "# move all images to the all directory as a default before splitted\n",
        "for dirname in [train_dir, valid_dir, test_dir]:\n",
        "  for cat in categories:\n",
        "    source_dir = os.path.join(dirname, cat)\n",
        "    destination_dir = os.path.join(all_dir, cat)\n",
        "    move_files(source_dir, destination_dir)\n"
      ]
    },
    {
      "cell_type": "markdown",
      "metadata": {
        "id": "iu0vxLKTLMJe"
      },
      "source": [
        "# EDA"
      ]
    },
    {
      "cell_type": "markdown",
      "metadata": {
        "id": "kvXsIMApMN5D"
      },
      "source": [
        "Checking All data in test, train, valid folder (should be empty)"
      ]
    },
    {
      "cell_type": "code",
      "execution_count": 10,
      "metadata": {
        "id": "k68nu21n-54F",
        "colab": {
          "base_uri": "https://localhost:8080/"
        },
        "outputId": "f9504eae-f130-4535-dcfa-bbf3ef7d4fb2"
      },
      "outputs": [
        {
          "output_type": "stream",
          "name": "stdout",
          "text": [
            "number of images: 3153\n",
            "-------------------\n",
            "\n",
            "train data length: 0\n",
            "Num of train labels: 3\n",
            "percentage: 0.0 %\n",
            "\n",
            "valid data length: 0\n",
            "Num of train labels: 3\n",
            "percentage: 0.0 %\n",
            "\n",
            "test data length: 0\n",
            "Num of test labels: 3\n",
            "percentage: 0.0 %\n",
            "\n"
          ]
        }
      ],
      "source": [
        "checking_dir_qty(base_dir, train_dir, valid_dir, test_dir)"
      ]
    },
    {
      "cell_type": "markdown",
      "metadata": {
        "id": "ALq4ZXMCMVaj"
      },
      "source": [
        "## Look up the quantities of the category directory"
      ]
    },
    {
      "cell_type": "code",
      "execution_count": 11,
      "metadata": {
        "id": "6-A7QOS5C6lK",
        "colab": {
          "base_uri": "https://localhost:8080/",
          "height": 504
        },
        "outputId": "caff4bea-642c-4c8c-b8c0-8b4d9cadc813"
      },
      "outputs": [
        {
          "output_type": "stream",
          "name": "stdout",
          "text": [
            "normal : 1274\n",
            "oily : 1120\n",
            "dry : 758\n"
          ]
        },
        {
          "output_type": "display_data",
          "data": {
            "text/plain": [
              "<Figure size 640x480 with 1 Axes>"
            ],
            "image/png": "[encoded data removed]"
          },
          "metadata": {}
        }
      ],
      "source": [
        "values = []\n",
        "for i, class_name in enumerate(categories):\n",
        "  class_length = len(os.listdir(os.path.join(all_dir, class_name)))\n",
        "  values.append(class_length)\n",
        "  print(f'{class_name} : {class_length}')\n",
        "\n",
        "plot_portion(values, categories)"
      ]
    },
    {
      "cell_type": "markdown",
      "metadata": {
        "id": "ZDR3MhCkcBKX"
      },
      "source": [
        "## Data Distribution"
      ]
    },
    {
      "cell_type": "code",
      "execution_count": 12,
      "metadata": {
        "id": "XOa6Y3MCc9jy",
        "colab": {
          "base_uri": "https://localhost:8080/",
          "height": 482
        },
        "outputId": "72d8e4d8-8e4e-4504-9222-dead3712a615"
      },
      "outputs": [
        {
          "output_type": "execute_result",
          "data": {
            "text/plain": [
              "(array([1., 0., 2.]),\n",
              " array([ 758.,  930., 1102., 1274.]),\n",
              " <BarContainer object of 3 artists>)"
            ]
          },
          "metadata": {},
          "execution_count": 12
        },
        {
          "output_type": "display_data",
          "data": {
            "text/plain": [
              "<Figure size 640x480 with 1 Axes>"
            ],
            "image/png": "[encoded data removed]"
          },
          "metadata": {}
        }
      ],
      "source": [
        "plt.hist(values, bins=3, alpha=0.7, edgecolor='black')"
      ]
    },
    {
      "cell_type": "markdown",
      "metadata": {
        "id": "hbljlTjALg76"
      },
      "source": [
        "# Data Preprocessing"
      ]
    },
    {
      "cell_type": "code",
      "execution_count": 13,
      "metadata": {
        "id": "WuYeeezxT-aD",
        "colab": {
          "base_uri": "https://localhost:8080/"
        },
        "outputId": "29ae21a7-0552-4170-bba2-65cd2eb66993"
      },
      "outputs": [
        {
          "output_type": "execute_result",
          "data": {
            "text/plain": [
              "(0, 0)"
            ]
          },
          "metadata": {},
          "execution_count": 13
        }
      ],
      "source": [
        "count_files_and_directories('/content/oily-dry-and-normal-skin-types-dataset/Oily-Dry-Skin-Types/all')"
      ]
    },
    {
      "cell_type": "code",
      "execution_count": 14,
      "metadata": {
        "id": "85xXXpiBQKGy",
        "colab": {
          "base_uri": "https://localhost:8080/",
          "height": 35
        },
        "outputId": "c769ea14-8693-41dd-e47a-a203a060dc1c"
      },
      "outputs": [
        {
          "output_type": "execute_result",
          "data": {
            "text/plain": [
              "'oily_6c43ed2461d82f37ec4f_jpg.rf.70d0e2e6758fa4f3c9bda96455700127.jpg'"
            ],
            "application/vnd.google.colaboratory.intrinsic+json": {
              "type": "string"
            }
          },
          "metadata": {},
          "execution_count": 14
        }
      ],
      "source": [
        "images, category = [], []\n",
        "for cat in categories:\n",
        "  path_cat = os.listdir(os.path.join(all_dir, cat))\n",
        "  for image in path_cat:\n",
        "    images.append(os.path.join(all_dir, cat, image))\n",
        "    category.append('dry' if cat == 'dry' else 'normal' if cat == 'normal' else 'oily')\n",
        "\n",
        "\n",
        "df = pd.DataFrame({'images':images, 'category':category})\n",
        "df = df.sample(frac=1, random_state=42).reset_index(drop=True)\n",
        "df.iloc[77]['images'].split('/')[-1]"
      ]
    },
    {
      "cell_type": "markdown",
      "metadata": {
        "id": "iR-ucRIPQN-Z"
      },
      "source": [
        "## Split data"
      ]
    },
    {
      "cell_type": "code",
      "execution_count": 15,
      "metadata": {
        "id": "O_C5me1vV35j"
      },
      "outputs": [],
      "source": [
        "# Split Train and validation set\n",
        "X_train, X_valid, y_train, y_valid = train_test_split(df['images'], df['category'],\n",
        "                                                      test_size=0.2, random_state=42,\n",
        "                                                      stratify=df['category'])\n",
        "\n",
        "# Split validation set for test set\n",
        "X_valid, X_test, y_valid, y_test = train_test_split(X_valid, y_valid, test_size=0.2,\n",
        "                                                    random_state=42, stratify=y_valid)"
      ]
    },
    {
      "cell_type": "code",
      "execution_count": 16,
      "metadata": {
        "id": "Bo8dx8OeCtVl",
        "colab": {
          "base_uri": "https://localhost:8080/",
          "height": 504
        },
        "outputId": "796e5d56-b042-4f49-b14c-ceb79f2b0308"
      },
      "outputs": [
        {
          "output_type": "stream",
          "name": "stdout",
          "text": [
            "train: 2521\n",
            "valid: 504\n",
            "X_test : 127\n"
          ]
        },
        {
          "output_type": "display_data",
          "data": {
            "text/plain": [
              "<Figure size 640x480 with 1 Axes>"
            ],
            "image/png": "[encoded data removed]"
          },
          "metadata": {}
        }
      ],
      "source": [
        "# check qty of split\n",
        "print(f'train: {len(X_train)}\\nvalid: {len(X_valid)}\\nX_test : {len(X_test)}')\n",
        "plot_portion(values=[len(X_train), len(X_valid), len(X_test)], labels=['train', 'valid', 'test'])"
      ]
    },
    {
      "cell_type": "code",
      "execution_count": 17,
      "metadata": {
        "id": "U8rieuDguSO2",
        "colab": {
          "base_uri": "https://localhost:8080/"
        },
        "outputId": "63b49ae3-427a-4608-f660-bc7909b308fc"
      },
      "outputs": [
        {
          "output_type": "stream",
          "name": "stdout",
          "text": [
            "successfully moved 2521 files to /content/Oily-Dry-Skin-Types/train/dry/dry_cf1281585bc0cf972c34_jpg.rf.7af7e4f3b760c81e9c155251497b30e0.jpg\n",
            "successfully moved 504 files to /content/Oily-Dry-Skin-Types/valid/oily/oily_d27ce03205d94f0dcab1_jpg.rf.dc8554e374197d48f388c0d7967badcf.jpg\n",
            "successfully moved 127 files to /content/Oily-Dry-Skin-Types/test/dry/dry_3e272674d4fc2521b882_jpg.rf.49e420eef0e3f4651ab22b50b97667d2.jpg\n"
          ]
        }
      ],
      "source": [
        "# Moving a train files to train directory\n",
        "move_files_after_split(X_train, y_train, train_dir)\n",
        "move_files_after_split(X_valid, y_valid, valid_dir)\n",
        "move_files_after_split(X_test, y_test, test_dir)"
      ]
    },
    {
      "cell_type": "code",
      "execution_count": 18,
      "metadata": {
        "id": "MgR1f7Euw3jn",
        "colab": {
          "base_uri": "https://localhost:8080/"
        },
        "outputId": "a771221f-57a5-434d-e8ba-1a9d90873489"
      },
      "outputs": [
        {
          "output_type": "execute_result",
          "data": {
            "text/plain": [
              "(0, 3)"
            ]
          },
          "metadata": {},
          "execution_count": 18
        }
      ],
      "source": [
        "# Check if the images from (all) category is moved\n",
        "count_files_and_directories(os.path.join(base_dir, 'all'))"
      ]
    },
    {
      "cell_type": "code",
      "execution_count": 19,
      "metadata": {
        "id": "W7eluyu38rim",
        "colab": {
          "base_uri": "https://localhost:8080/"
        },
        "outputId": "62bb171a-301a-4362-f12d-1dce82928174"
      },
      "outputs": [
        {
          "output_type": "stream",
          "name": "stdout",
          "text": [
            "(127, 3)\n",
            "(2521, 3)\n",
            "(504, 3)\n"
          ]
        }
      ],
      "source": [
        "# Check if the images is moved as a split portion\n",
        "print(count_files_and_directories(os.path.join(base_dir, 'test'))) # return len of (files, directories)\n",
        "print(count_files_and_directories(os.path.join(base_dir, 'train')))# return len of (files, directories\n",
        "print(count_files_and_directories(os.path.join(base_dir, 'valid')))# return len of (files, directories"
      ]
    },
    {
      "cell_type": "markdown",
      "source": [
        "# Download splitted dataset"
      ],
      "metadata": {
        "id": "PcEW2UQS5eGt"
      }
    },
    {
      "cell_type": "code",
      "execution_count": 20,
      "metadata": {
        "id": "tbiF7NdSDa6U"
      },
      "outputs": [],
      "source": [
        "# remove temp file -(all) category-\n",
        "shutil.rmtree(os.path.join(base_dir, 'all'))"
      ]
    },
    {
      "cell_type": "markdown",
      "source": [
        "## Zipping file for download"
      ],
      "metadata": {
        "id": "8K-rmcq976Cr"
      }
    },
    {
      "cell_type": "code",
      "execution_count": 21,
      "metadata": {
        "id": "-76lI9-mD5Yt",
        "colab": {
          "base_uri": "https://localhost:8080/"
        },
        "outputId": "64809923-b4c6-4978-8a75-d57e0f72e088"
      },
      "outputs": [
        {
          "output_type": "stream",
          "name": "stdout",
          "text": [
            "Directory '/content/Oily-Dry-Skin-Types/' has been zipped as 'skin-type-dataset.zip'\n"
          ]
        }
      ],
      "source": [
        "directory_path = base_dir\n",
        "zip_path = 'skin-type-dataset.zip'\n",
        "zip_directory(directory_path, zip_path)\n",
        "print(f\"Directory '{directory_path}' has been zipped as '{zip_path}'\")"
      ]
    },
    {
      "cell_type": "markdown",
      "metadata": {
        "id": "XOyv_chETLTs"
      },
      "source": [
        "# Generate Data (after split 80/15/5)"
      ]
    },
    {
      "cell_type": "code",
      "execution_count": 22,
      "metadata": {
        "collapsed": true,
        "id": "ldHJrs9lWN75"
      },
      "outputs": [],
      "source": [
        "# Unzip dataset\n",
        "zip_path = '/content/skin-type-dataset.zip'\n",
        "dataset_path = '/content/skin-type-dataset'\n",
        "\n",
        "if os.path.isdir(dataset_path):\n",
        "  shutil.rmtree(dataset_path)\n",
        "\n",
        "unzip_file(zip_path, extract_to=dataset_path)"
      ]
    },
    {
      "cell_type": "code",
      "execution_count": 23,
      "metadata": {
        "id": "iN61MkGMTUMr",
        "colab": {
          "base_uri": "https://localhost:8080/"
        },
        "outputId": "83fd02f5-d24e-4890-8f6c-d3690b148457"
      },
      "outputs": [
        {
          "output_type": "execute_result",
          "data": {
            "text/plain": [
              "('/content/skin-type-dataset/train',\n",
              " '/content/skin-type-dataset/valid',\n",
              " '/content/skin-type-dataset/test')"
            ]
          },
          "metadata": {},
          "execution_count": 23
        }
      ],
      "source": [
        "# defined directories\n",
        "# -------------------\n",
        "\n",
        "# base working directory\n",
        "base_dir = '/content/skin-type-dataset'\n",
        "\n",
        "# remove readme file\n",
        "readme_file = os.path.join(base_dir, 'README.dataset.txt')\n",
        "if os.path.isfile(readme_file):\n",
        "  os.remove(readme_file)\n",
        "\n",
        "# training data directory\n",
        "train_dir = os.path.join(base_dir, 'train')\n",
        "\n",
        " # validation data directory\n",
        "valid_dir =os.path.join(base_dir, 'valid')\n",
        "\n",
        "# test data directory\n",
        "test_dir = os.path.join(base_dir, 'test')\n",
        "\n",
        "train_dir, valid_dir, test_dir"
      ]
    },
    {
      "cell_type": "markdown",
      "metadata": {
        "id": "oRYyUs2gS1x7"
      },
      "source": [
        "## Data generator"
      ]
    },
    {
      "cell_type": "code",
      "execution_count": 26,
      "metadata": {
        "id": "K3-3D5Gw5yQ9"
      },
      "outputs": [],
      "source": [
        "# create imageDataGenerator instance\n",
        "train_datagen = ImageDataGenerator(rescale=1./255,\n",
        "                                   rotation_range=40,\n",
        "                                   width_shift_range=0.2,\n",
        "                                   height_shift_range=0.2,\n",
        "                                   shear_range=0.2,\n",
        "                                   zoom_range=0.2,\n",
        "                                   horizontal_flip=True,\n",
        "                                   fill_mode='nearest'\n",
        "                                   )\n",
        "validation_datagen = ImageDataGenerator(rescale=1./255)\n",
        "test_datagen = ImageDataGenerator(rescale=1./255)"
      ]
    },
    {
      "cell_type": "code",
      "execution_count": 25,
      "metadata": {
        "id": "3-Q3nppf9_25",
        "colab": {
          "base_uri": "https://localhost:8080/"
        },
        "outputId": "b4673f28-2ab0-4145-ce97-3f47004ca91f"
      },
      "outputs": [
        {
          "output_type": "stream",
          "name": "stdout",
          "text": [
            "Found 2521 images belonging to 3 classes.\n",
            "Found 504 images belonging to 3 classes.\n",
            "Found 127 images belonging to 3 classes.\n"
          ]
        }
      ],
      "source": [
        "# create Generator\n",
        "train_generator = train_datagen.flow_from_directory(train_dir,\n",
        "                                                    target_size=(224,224),\n",
        "                                                    batch_size=32,\n",
        "                                                    class_mode='categorical'\n",
        "                                                    )\n",
        "\n",
        "validation_generator = validation_datagen.flow_from_directory(valid_dir,\n",
        "                                                    target_size=(224,224),\n",
        "                                                    batch_size=32,\n",
        "                                                    class_mode='categorical'\n",
        "                                                    )\n",
        "\n",
        "test_generator = test_datagen.flow_from_directory(test_dir,\n",
        "                                                    target_size=(224,224),\n",
        "                                                    batch_size=32,\n",
        "                                                    class_mode='categorical'\n",
        "                                                    )"
      ]
    },
    {
      "cell_type": "code",
      "execution_count": 27,
      "metadata": {
        "id": "QKNg9qTkMZ2Q",
        "colab": {
          "base_uri": "https://localhost:8080/"
        },
        "outputId": "2445d72d-24de-46fe-8cfb-3b51c5f7e667"
      },
      "outputs": [
        {
          "output_type": "execute_result",
          "data": {
            "text/plain": [
              "{'dry': 0, 'normal': 1, 'oily': 2}"
            ]
          },
          "metadata": {},
          "execution_count": 27
        }
      ],
      "source": [
        "train_generator.class_indices"
      ]
    },
    {
      "cell_type": "markdown",
      "metadata": {
        "id": "RkLfH1YfibHW"
      },
      "source": [
        "# Data Visualitaion"
      ]
    },
    {
      "cell_type": "code",
      "execution_count": 28,
      "metadata": {
        "id": "yu6RbLHdidI-"
      },
      "outputs": [],
      "source": [
        "split_names = ['train','valid', 'test']\n",
        "num_train, _ = count_files_and_directories(train_dir)\n",
        "num_valid, _ = count_files_and_directories(valid_dir)\n",
        "num_test, _ = count_files_and_directories(test_dir)\n",
        "values = [num_train, num_valid, num_test]"
      ]
    },
    {
      "cell_type": "code",
      "execution_count": 29,
      "metadata": {
        "id": "5uBgVc29idDO",
        "colab": {
          "base_uri": "https://localhost:8080/",
          "height": 452
        },
        "outputId": "a613c6cb-527f-4670-c1d5-ee2dfdd99850"
      },
      "outputs": [
        {
          "output_type": "display_data",
          "data": {
            "text/plain": [
              "<Figure size 640x480 with 1 Axes>"
            ],
            "image/png": "[encoded data removed]"
          },
          "metadata": {}
        }
      ],
      "source": [
        "plot_portion(values, split_names)"
      ]
    },
    {
      "cell_type": "markdown",
      "metadata": {
        "id": "_rnbBYOFMlf7"
      },
      "source": [
        "# Build model"
      ]
    },
    {
      "cell_type": "code",
      "execution_count": 30,
      "metadata": {
        "id": "4aUBs4dsUK-u",
        "colab": {
          "base_uri": "https://localhost:8080/"
        },
        "outputId": "7c16f6e4-16e6-4283-eaee-cf64a185c638"
      },
      "outputs": [
        {
          "output_type": "stream",
          "name": "stdout",
          "text": [
            "Downloading data from https://storage.googleapis.com/tensorflow/keras-applications/resnet/resnet50_weights_tf_dim_ordering_tf_kernels_notop.h5\n",
            "94765736/94765736 [==============================] - 4s 0us/step\n"
          ]
        }
      ],
      "source": [
        "base_model = ResNet50(weights='imagenet', include_top=False, input_shape=(224, 224, 3))"
      ]
    },
    {
      "cell_type": "code",
      "execution_count": 31,
      "metadata": {
        "id": "NDfE94SlMkpR",
        "colab": {
          "base_uri": "https://localhost:8080/"
        },
        "outputId": "3524d768-a178-49a5-a3c0-789d636fcbfb"
      },
      "outputs": [
        {
          "output_type": "execute_result",
          "data": {
            "text/plain": [
              "<keras.src.engine.functional.Functional at 0x7cd3e049a710>"
            ]
          },
          "metadata": {},
          "execution_count": 31
        }
      ],
      "source": [
        "def build_model(hp):\n",
        "  x = base_model.output\n",
        "\n",
        "  if hp.Boolean(\"flatten\"):\n",
        "      x = Flatten()(x)\n",
        "  elif hp.Boolean(\"global_average_pooling\"):\n",
        "      x = GlobalAveragePooling2D()(x)\n",
        "\n",
        "  # Tune whether to use dropout.\n",
        "  if hp.Boolean(\"dropout\"):\n",
        "      x = Dropout(rate=0.25)(x)\n",
        "\n",
        "  x = Dense(\n",
        "        # Tune number of units.\n",
        "        units=hp.Int(\"units\", min_value=32, max_value=1024, step=32),\n",
        "        activation='relu')(x)\n",
        "\n",
        "  # Tune whether to use dropout.\n",
        "  if hp.Boolean(\"dropout\"):\n",
        "      x = Dropout(rate=0.25)(x)\n",
        "\n",
        "  x = Dense(\n",
        "        # Tune number of units.\n",
        "        units=hp.Int(\"units\", min_value=32, max_value=512, step=32),\n",
        "        activation='relu')(x)\n",
        "\n",
        "  if hp.Boolean(\"batch_normalization\"):\n",
        "    x = BatchNormalization()(x)\n",
        "\n",
        "  predictions = Dense(3, activation='softmax')(x)\n",
        "\n",
        "  # Create model\n",
        "  model = Model(inputs=base_model.input, outputs=predictions)\n",
        "\n",
        "  # Define the optimizer learning rate as a hyperparameter.\n",
        "  learning_rate = hp.Float(\"learning_rate\", min_value=1e-6, max_value=1e-2, sampling=\"log\")\n",
        "\n",
        "  # Define learning rate scheduler\n",
        "  lr_schedule = keras.optimizers.schedules.ExponentialDecay(\n",
        "    initial_learning_rate=learning_rate,\n",
        "    decay_steps=100000,\n",
        "    decay_rate=0.96,\n",
        "    staircase=True)\n",
        "\n",
        "  model.compile(optimizer=Adam(learning_rate=lr_schedule),\n",
        "                loss='categorical_crossentropy',\n",
        "                metrics=['accuracy'])\n",
        "  return model\n",
        "\n",
        "# create a model\n",
        "model = build_model(keras_tuner.HyperParameters())\n",
        "model"
      ]
    },
    {
      "cell_type": "code",
      "execution_count": 32,
      "metadata": {
        "id": "BuD5RtexaGe6",
        "colab": {
          "base_uri": "https://localhost:8080/"
        },
        "outputId": "bf64d5e4-a243-499c-8997-0e31c4c75244"
      },
      "outputs": [
        {
          "output_type": "stream",
          "name": "stdout",
          "text": [
            "Search space summary\n",
            "Default search space size: 6\n",
            "flatten (Boolean)\n",
            "{'default': False, 'conditions': []}\n",
            "global_average_pooling (Boolean)\n",
            "{'default': False, 'conditions': []}\n",
            "dropout (Boolean)\n",
            "{'default': False, 'conditions': []}\n",
            "units (Int)\n",
            "{'default': None, 'conditions': [], 'min_value': 32, 'max_value': 1024, 'step': 32, 'sampling': 'linear'}\n",
            "batch_normalization (Boolean)\n",
            "{'default': False, 'conditions': []}\n",
            "learning_rate (Float)\n",
            "{'default': 1e-06, 'conditions': [], 'min_value': 1e-06, 'max_value': 0.01, 'step': None, 'sampling': 'log'}\n"
          ]
        }
      ],
      "source": [
        "# define tuner using RandomSearch\n",
        "tuner = keras_tuner.RandomSearch(\n",
        "    hypermodel=build_model,\n",
        "    objective=\"val_accuracy\",\n",
        "    max_trials=5,\n",
        "    executions_per_trial=2,\n",
        "    overwrite=True,\n",
        "    directory=\"/content/keras_tuner/\",\n",
        "    project_name=\"skin_type_model\",\n",
        ")\n",
        "\n",
        "# print search space summary\n",
        "tuner.search_space_summary()"
      ]
    },
    {
      "cell_type": "code",
      "execution_count": 33,
      "metadata": {
        "colab": {
          "base_uri": "https://localhost:8080/"
        },
        "id": "5R6EEY5kbzEM",
        "outputId": "1502f912-4659-48a2-e7fe-7bdbf8ede502"
      },
      "outputs": [
        {
          "output_type": "stream",
          "name": "stdout",
          "text": [
            "Trial 5 Complete [00h 00m 02s]\n",
            "\n",
            "Best val_accuracy So Far: 0.4533730149269104\n",
            "Total elapsed time: 00h 16m 32s\n"
          ]
        }
      ],
      "source": [
        "# start search best parameters\n",
        "tuner.search(train_generator, epochs=2, validation_data=validation_generator)"
      ]
    },
    {
      "cell_type": "markdown",
      "source": [
        "## Query Result"
      ],
      "metadata": {
        "id": "qveL_x3SaEhi"
      }
    },
    {
      "cell_type": "code",
      "source": [
        "# Get the top 2 models.\n",
        "models = tuner.get_best_models(num_models=3)\n",
        "best_model = models[0]\n",
        "best_model.summary()"
      ],
      "metadata": {
        "id": "bz-5KlQ_aEJk",
        "colab": {
          "base_uri": "https://localhost:8080/"
        },
        "outputId": "d7764a8d-c1f6-4f65-c891-fac05b687888"
      },
      "execution_count": 34,
      "outputs": [
        {
          "output_type": "stream",
          "name": "stdout",
          "text": [
            "Model: \"model\"\n",
            "__________________________________________________________________________________________________\n",
            " Layer (type)                Output Shape                 Param #   Connected to                  \n",
            "==================================================================================================\n",
            " input_1 (InputLayer)        [(None, 224, 224, 3)]        0         []                            \n",
            "                                                                                                  \n",
            " conv1_pad (ZeroPadding2D)   (None, 230, 230, 3)          0         ['input_1[0][0]']             \n",
            "                                                                                                  \n",
            " conv1_conv (Conv2D)         (None, 112, 112, 64)         9472      ['conv1_pad[0][0]']           \n",
            "                                                                                                  \n",
            " conv1_bn (BatchNormalizati  (None, 112, 112, 64)         256       ['conv1_conv[0][0]']          \n",
            " on)                                                                                              \n",
            "                                                                                                  \n",
            " conv1_relu (Activation)     (None, 112, 112, 64)         0         ['conv1_bn[0][0]']            \n",
            "                                                                                                  \n",
            " pool1_pad (ZeroPadding2D)   (None, 114, 114, 64)         0         ['conv1_relu[0][0]']          \n",
            "                                                                                                  \n",
            " pool1_pool (MaxPooling2D)   (None, 56, 56, 64)           0         ['pool1_pad[0][0]']           \n",
            "                                                                                                  \n",
            " conv2_block1_1_conv (Conv2  (None, 56, 56, 64)           4160      ['pool1_pool[0][0]']          \n",
            " D)                                                                                               \n",
            "                                                                                                  \n",
            " conv2_block1_1_bn (BatchNo  (None, 56, 56, 64)           256       ['conv2_block1_1_conv[0][0]'] \n",
            " rmalization)                                                                                     \n",
            "                                                                                                  \n",
            " conv2_block1_1_relu (Activ  (None, 56, 56, 64)           0         ['conv2_block1_1_bn[0][0]']   \n",
            " ation)                                                                                           \n",
            "                                                                                                  \n",
            " conv2_block1_2_conv (Conv2  (None, 56, 56, 64)           36928     ['conv2_block1_1_relu[0][0]'] \n",
            " D)                                                                                               \n",
            "                                                                                                  \n",
            " conv2_block1_2_bn (BatchNo  (None, 56, 56, 64)           256       ['conv2_block1_2_conv[0][0]'] \n",
            " rmalization)                                                                                     \n",
            "                                                                                                  \n",
            " conv2_block1_2_relu (Activ  (None, 56, 56, 64)           0         ['conv2_block1_2_bn[0][0]']   \n",
            " ation)                                                                                           \n",
            "                                                                                                  \n",
            " conv2_block1_0_conv (Conv2  (None, 56, 56, 256)          16640     ['pool1_pool[0][0]']          \n",
            " D)                                                                                               \n",
            "                                                                                                  \n",
            " conv2_block1_3_conv (Conv2  (None, 56, 56, 256)          16640     ['conv2_block1_2_relu[0][0]'] \n",
            " D)                                                                                               \n",
            "                                                                                                  \n",
            " conv2_block1_0_bn (BatchNo  (None, 56, 56, 256)          1024      ['conv2_block1_0_conv[0][0]'] \n",
            " rmalization)                                                                                     \n",
            "                                                                                                  \n",
            " conv2_block1_3_bn (BatchNo  (None, 56, 56, 256)          1024      ['conv2_block1_3_conv[0][0]'] \n",
            " rmalization)                                                                                     \n",
            "                                                                                                  \n",
            " conv2_block1_add (Add)      (None, 56, 56, 256)          0         ['conv2_block1_0_bn[0][0]',   \n",
            "                                                                     'conv2_block1_3_bn[0][0]']   \n",
            "                                                                                                  \n",
            " conv2_block1_out (Activati  (None, 56, 56, 256)          0         ['conv2_block1_add[0][0]']    \n",
            " on)                                                                                              \n",
            "                                                                                                  \n",
            " conv2_block2_1_conv (Conv2  (None, 56, 56, 64)           16448     ['conv2_block1_out[0][0]']    \n",
            " D)                                                                                               \n",
            "                                                                                                  \n",
            " conv2_block2_1_bn (BatchNo  (None, 56, 56, 64)           256       ['conv2_block2_1_conv[0][0]'] \n",
            " rmalization)                                                                                     \n",
            "                                                                                                  \n",
            " conv2_block2_1_relu (Activ  (None, 56, 56, 64)           0         ['conv2_block2_1_bn[0][0]']   \n",
            " ation)                                                                                           \n",
            "                                                                                                  \n",
            " conv2_block2_2_conv (Conv2  (None, 56, 56, 64)           36928     ['conv2_block2_1_relu[0][0]'] \n",
            " D)                                                                                               \n",
            "                                                                                                  \n",
            " conv2_block2_2_bn (BatchNo  (None, 56, 56, 64)           256       ['conv2_block2_2_conv[0][0]'] \n",
            " rmalization)                                                                                     \n",
            "                                                                                                  \n",
            " conv2_block2_2_relu (Activ  (None, 56, 56, 64)           0         ['conv2_block2_2_bn[0][0]']   \n",
            " ation)                                                                                           \n",
            "                                                                                                  \n",
            " conv2_block2_3_conv (Conv2  (None, 56, 56, 256)          16640     ['conv2_block2_2_relu[0][0]'] \n",
            " D)                                                                                               \n",
            "                                                                                                  \n",
            " conv2_block2_3_bn (BatchNo  (None, 56, 56, 256)          1024      ['conv2_block2_3_conv[0][0]'] \n",
            " rmalization)                                                                                     \n",
            "                                                                                                  \n",
            " conv2_block2_add (Add)      (None, 56, 56, 256)          0         ['conv2_block1_out[0][0]',    \n",
            "                                                                     'conv2_block2_3_bn[0][0]']   \n",
            "                                                                                                  \n",
            " conv2_block2_out (Activati  (None, 56, 56, 256)          0         ['conv2_block2_add[0][0]']    \n",
            " on)                                                                                              \n",
            "                                                                                                  \n",
            " conv2_block3_1_conv (Conv2  (None, 56, 56, 64)           16448     ['conv2_block2_out[0][0]']    \n",
            " D)                                                                                               \n",
            "                                                                                                  \n",
            " conv2_block3_1_bn (BatchNo  (None, 56, 56, 64)           256       ['conv2_block3_1_conv[0][0]'] \n",
            " rmalization)                                                                                     \n",
            "                                                                                                  \n",
            " conv2_block3_1_relu (Activ  (None, 56, 56, 64)           0         ['conv2_block3_1_bn[0][0]']   \n",
            " ation)                                                                                           \n",
            "                                                                                                  \n",
            " conv2_block3_2_conv (Conv2  (None, 56, 56, 64)           36928     ['conv2_block3_1_relu[0][0]'] \n",
            " D)                                                                                               \n",
            "                                                                                                  \n",
            " conv2_block3_2_bn (BatchNo  (None, 56, 56, 64)           256       ['conv2_block3_2_conv[0][0]'] \n",
            " rmalization)                                                                                     \n",
            "                                                                                                  \n",
            " conv2_block3_2_relu (Activ  (None, 56, 56, 64)           0         ['conv2_block3_2_bn[0][0]']   \n",
            " ation)                                                                                           \n",
            "                                                                                                  \n",
            " conv2_block3_3_conv (Conv2  (None, 56, 56, 256)          16640     ['conv2_block3_2_relu[0][0]'] \n",
            " D)                                                                                               \n",
            "                                                                                                  \n",
            " conv2_block3_3_bn (BatchNo  (None, 56, 56, 256)          1024      ['conv2_block3_3_conv[0][0]'] \n",
            " rmalization)                                                                                     \n",
            "                                                                                                  \n",
            " conv2_block3_add (Add)      (None, 56, 56, 256)          0         ['conv2_block2_out[0][0]',    \n",
            "                                                                     'conv2_block3_3_bn[0][0]']   \n",
            "                                                                                                  \n",
            " conv2_block3_out (Activati  (None, 56, 56, 256)          0         ['conv2_block3_add[0][0]']    \n",
            " on)                                                                                              \n",
            "                                                                                                  \n",
            " conv3_block1_1_conv (Conv2  (None, 28, 28, 128)          32896     ['conv2_block3_out[0][0]']    \n",
            " D)                                                                                               \n",
            "                                                                                                  \n",
            " conv3_block1_1_bn (BatchNo  (None, 28, 28, 128)          512       ['conv3_block1_1_conv[0][0]'] \n",
            " rmalization)                                                                                     \n",
            "                                                                                                  \n",
            " conv3_block1_1_relu (Activ  (None, 28, 28, 128)          0         ['conv3_block1_1_bn[0][0]']   \n",
            " ation)                                                                                           \n",
            "                                                                                                  \n",
            " conv3_block1_2_conv (Conv2  (None, 28, 28, 128)          147584    ['conv3_block1_1_relu[0][0]'] \n",
            " D)                                                                                               \n",
            "                                                                                                  \n",
            " conv3_block1_2_bn (BatchNo  (None, 28, 28, 128)          512       ['conv3_block1_2_conv[0][0]'] \n",
            " rmalization)                                                                                     \n",
            "                                                                                                  \n",
            " conv3_block1_2_relu (Activ  (None, 28, 28, 128)          0         ['conv3_block1_2_bn[0][0]']   \n",
            " ation)                                                                                           \n",
            "                                                                                                  \n",
            " conv3_block1_0_conv (Conv2  (None, 28, 28, 512)          131584    ['conv2_block3_out[0][0]']    \n",
            " D)                                                                                               \n",
            "                                                                                                  \n",
            " conv3_block1_3_conv (Conv2  (None, 28, 28, 512)          66048     ['conv3_block1_2_relu[0][0]'] \n",
            " D)                                                                                               \n",
            "                                                                                                  \n",
            " conv3_block1_0_bn (BatchNo  (None, 28, 28, 512)          2048      ['conv3_block1_0_conv[0][0]'] \n",
            " rmalization)                                                                                     \n",
            "                                                                                                  \n",
            " conv3_block1_3_bn (BatchNo  (None, 28, 28, 512)          2048      ['conv3_block1_3_conv[0][0]'] \n",
            " rmalization)                                                                                     \n",
            "                                                                                                  \n",
            " conv3_block1_add (Add)      (None, 28, 28, 512)          0         ['conv3_block1_0_bn[0][0]',   \n",
            "                                                                     'conv3_block1_3_bn[0][0]']   \n",
            "                                                                                                  \n",
            " conv3_block1_out (Activati  (None, 28, 28, 512)          0         ['conv3_block1_add[0][0]']    \n",
            " on)                                                                                              \n",
            "                                                                                                  \n",
            " conv3_block2_1_conv (Conv2  (None, 28, 28, 128)          65664     ['conv3_block1_out[0][0]']    \n",
            " D)                                                                                               \n",
            "                                                                                                  \n",
            " conv3_block2_1_bn (BatchNo  (None, 28, 28, 128)          512       ['conv3_block2_1_conv[0][0]'] \n",
            " rmalization)                                                                                     \n",
            "                                                                                                  \n",
            " conv3_block2_1_relu (Activ  (None, 28, 28, 128)          0         ['conv3_block2_1_bn[0][0]']   \n",
            " ation)                                                                                           \n",
            "                                                                                                  \n",
            " conv3_block2_2_conv (Conv2  (None, 28, 28, 128)          147584    ['conv3_block2_1_relu[0][0]'] \n",
            " D)                                                                                               \n",
            "                                                                                                  \n",
            " conv3_block2_2_bn (BatchNo  (None, 28, 28, 128)          512       ['conv3_block2_2_conv[0][0]'] \n",
            " rmalization)                                                                                     \n",
            "                                                                                                  \n",
            " conv3_block2_2_relu (Activ  (None, 28, 28, 128)          0         ['conv3_block2_2_bn[0][0]']   \n",
            " ation)                                                                                           \n",
            "                                                                                                  \n",
            " conv3_block2_3_conv (Conv2  (None, 28, 28, 512)          66048     ['conv3_block2_2_relu[0][0]'] \n",
            " D)                                                                                               \n",
            "                                                                                                  \n",
            " conv3_block2_3_bn (BatchNo  (None, 28, 28, 512)          2048      ['conv3_block2_3_conv[0][0]'] \n",
            " rmalization)                                                                                     \n",
            "                                                                                                  \n",
            " conv3_block2_add (Add)      (None, 28, 28, 512)          0         ['conv3_block1_out[0][0]',    \n",
            "                                                                     'conv3_block2_3_bn[0][0]']   \n",
            "                                                                                                  \n",
            " conv3_block2_out (Activati  (None, 28, 28, 512)          0         ['conv3_block2_add[0][0]']    \n",
            " on)                                                                                              \n",
            "                                                                                                  \n",
            " conv3_block3_1_conv (Conv2  (None, 28, 28, 128)          65664     ['conv3_block2_out[0][0]']    \n",
            " D)                                                                                               \n",
            "                                                                                                  \n",
            " conv3_block3_1_bn (BatchNo  (None, 28, 28, 128)          512       ['conv3_block3_1_conv[0][0]'] \n",
            " rmalization)                                                                                     \n",
            "                                                                                                  \n",
            " conv3_block3_1_relu (Activ  (None, 28, 28, 128)          0         ['conv3_block3_1_bn[0][0]']   \n",
            " ation)                                                                                           \n",
            "                                                                                                  \n",
            " conv3_block3_2_conv (Conv2  (None, 28, 28, 128)          147584    ['conv3_block3_1_relu[0][0]'] \n",
            " D)                                                                                               \n",
            "                                                                                                  \n",
            " conv3_block3_2_bn (BatchNo  (None, 28, 28, 128)          512       ['conv3_block3_2_conv[0][0]'] \n",
            " rmalization)                                                                                     \n",
            "                                                                                                  \n",
            " conv3_block3_2_relu (Activ  (None, 28, 28, 128)          0         ['conv3_block3_2_bn[0][0]']   \n",
            " ation)                                                                                           \n",
            "                                                                                                  \n",
            " conv3_block3_3_conv (Conv2  (None, 28, 28, 512)          66048     ['conv3_block3_2_relu[0][0]'] \n",
            " D)                                                                                               \n",
            "                                                                                                  \n",
            " conv3_block3_3_bn (BatchNo  (None, 28, 28, 512)          2048      ['conv3_block3_3_conv[0][0]'] \n",
            " rmalization)                                                                                     \n",
            "                                                                                                  \n",
            " conv3_block3_add (Add)      (None, 28, 28, 512)          0         ['conv3_block2_out[0][0]',    \n",
            "                                                                     'conv3_block3_3_bn[0][0]']   \n",
            "                                                                                                  \n",
            " conv3_block3_out (Activati  (None, 28, 28, 512)          0         ['conv3_block3_add[0][0]']    \n",
            " on)                                                                                              \n",
            "                                                                                                  \n",
            " conv3_block4_1_conv (Conv2  (None, 28, 28, 128)          65664     ['conv3_block3_out[0][0]']    \n",
            " D)                                                                                               \n",
            "                                                                                                  \n",
            " conv3_block4_1_bn (BatchNo  (None, 28, 28, 128)          512       ['conv3_block4_1_conv[0][0]'] \n",
            " rmalization)                                                                                     \n",
            "                                                                                                  \n",
            " conv3_block4_1_relu (Activ  (None, 28, 28, 128)          0         ['conv3_block4_1_bn[0][0]']   \n",
            " ation)                                                                                           \n",
            "                                                                                                  \n",
            " conv3_block4_2_conv (Conv2  (None, 28, 28, 128)          147584    ['conv3_block4_1_relu[0][0]'] \n",
            " D)                                                                                               \n",
            "                                                                                                  \n",
            " conv3_block4_2_bn (BatchNo  (None, 28, 28, 128)          512       ['conv3_block4_2_conv[0][0]'] \n",
            " rmalization)                                                                                     \n",
            "                                                                                                  \n",
            " conv3_block4_2_relu (Activ  (None, 28, 28, 128)          0         ['conv3_block4_2_bn[0][0]']   \n",
            " ation)                                                                                           \n",
            "                                                                                                  \n",
            " conv3_block4_3_conv (Conv2  (None, 28, 28, 512)          66048     ['conv3_block4_2_relu[0][0]'] \n",
            " D)                                                                                               \n",
            "                                                                                                  \n",
            " conv3_block4_3_bn (BatchNo  (None, 28, 28, 512)          2048      ['conv3_block4_3_conv[0][0]'] \n",
            " rmalization)                                                                                     \n",
            "                                                                                                  \n",
            " conv3_block4_add (Add)      (None, 28, 28, 512)          0         ['conv3_block3_out[0][0]',    \n",
            "                                                                     'conv3_block4_3_bn[0][0]']   \n",
            "                                                                                                  \n",
            " conv3_block4_out (Activati  (None, 28, 28, 512)          0         ['conv3_block4_add[0][0]']    \n",
            " on)                                                                                              \n",
            "                                                                                                  \n",
            " conv4_block1_1_conv (Conv2  (None, 14, 14, 256)          131328    ['conv3_block4_out[0][0]']    \n",
            " D)                                                                                               \n",
            "                                                                                                  \n",
            " conv4_block1_1_bn (BatchNo  (None, 14, 14, 256)          1024      ['conv4_block1_1_conv[0][0]'] \n",
            " rmalization)                                                                                     \n",
            "                                                                                                  \n",
            " conv4_block1_1_relu (Activ  (None, 14, 14, 256)          0         ['conv4_block1_1_bn[0][0]']   \n",
            " ation)                                                                                           \n",
            "                                                                                                  \n",
            " conv4_block1_2_conv (Conv2  (None, 14, 14, 256)          590080    ['conv4_block1_1_relu[0][0]'] \n",
            " D)                                                                                               \n",
            "                                                                                                  \n",
            " conv4_block1_2_bn (BatchNo  (None, 14, 14, 256)          1024      ['conv4_block1_2_conv[0][0]'] \n",
            " rmalization)                                                                                     \n",
            "                                                                                                  \n",
            " conv4_block1_2_relu (Activ  (None, 14, 14, 256)          0         ['conv4_block1_2_bn[0][0]']   \n",
            " ation)                                                                                           \n",
            "                                                                                                  \n",
            " conv4_block1_0_conv (Conv2  (None, 14, 14, 1024)         525312    ['conv3_block4_out[0][0]']    \n",
            " D)                                                                                               \n",
            "                                                                                                  \n",
            " conv4_block1_3_conv (Conv2  (None, 14, 14, 1024)         263168    ['conv4_block1_2_relu[0][0]'] \n",
            " D)                                                                                               \n",
            "                                                                                                  \n",
            " conv4_block1_0_bn (BatchNo  (None, 14, 14, 1024)         4096      ['conv4_block1_0_conv[0][0]'] \n",
            " rmalization)                                                                                     \n",
            "                                                                                                  \n",
            " conv4_block1_3_bn (BatchNo  (None, 14, 14, 1024)         4096      ['conv4_block1_3_conv[0][0]'] \n",
            " rmalization)                                                                                     \n",
            "                                                                                                  \n",
            " conv4_block1_add (Add)      (None, 14, 14, 1024)         0         ['conv4_block1_0_bn[0][0]',   \n",
            "                                                                     'conv4_block1_3_bn[0][0]']   \n",
            "                                                                                                  \n",
            " conv4_block1_out (Activati  (None, 14, 14, 1024)         0         ['conv4_block1_add[0][0]']    \n",
            " on)                                                                                              \n",
            "                                                                                                  \n",
            " conv4_block2_1_conv (Conv2  (None, 14, 14, 256)          262400    ['conv4_block1_out[0][0]']    \n",
            " D)                                                                                               \n",
            "                                                                                                  \n",
            " conv4_block2_1_bn (BatchNo  (None, 14, 14, 256)          1024      ['conv4_block2_1_conv[0][0]'] \n",
            " rmalization)                                                                                     \n",
            "                                                                                                  \n",
            " conv4_block2_1_relu (Activ  (None, 14, 14, 256)          0         ['conv4_block2_1_bn[0][0]']   \n",
            " ation)                                                                                           \n",
            "                                                                                                  \n",
            " conv4_block2_2_conv (Conv2  (None, 14, 14, 256)          590080    ['conv4_block2_1_relu[0][0]'] \n",
            " D)                                                                                               \n",
            "                                                                                                  \n",
            " conv4_block2_2_bn (BatchNo  (None, 14, 14, 256)          1024      ['conv4_block2_2_conv[0][0]'] \n",
            " rmalization)                                                                                     \n",
            "                                                                                                  \n",
            " conv4_block2_2_relu (Activ  (None, 14, 14, 256)          0         ['conv4_block2_2_bn[0][0]']   \n",
            " ation)                                                                                           \n",
            "                                                                                                  \n",
            " conv4_block2_3_conv (Conv2  (None, 14, 14, 1024)         263168    ['conv4_block2_2_relu[0][0]'] \n",
            " D)                                                                                               \n",
            "                                                                                                  \n",
            " conv4_block2_3_bn (BatchNo  (None, 14, 14, 1024)         4096      ['conv4_block2_3_conv[0][0]'] \n",
            " rmalization)                                                                                     \n",
            "                                                                                                  \n",
            " conv4_block2_add (Add)      (None, 14, 14, 1024)         0         ['conv4_block1_out[0][0]',    \n",
            "                                                                     'conv4_block2_3_bn[0][0]']   \n",
            "                                                                                                  \n",
            " conv4_block2_out (Activati  (None, 14, 14, 1024)         0         ['conv4_block2_add[0][0]']    \n",
            " on)                                                                                              \n",
            "                                                                                                  \n",
            " conv4_block3_1_conv (Conv2  (None, 14, 14, 256)          262400    ['conv4_block2_out[0][0]']    \n",
            " D)                                                                                               \n",
            "                                                                                                  \n",
            " conv4_block3_1_bn (BatchNo  (None, 14, 14, 256)          1024      ['conv4_block3_1_conv[0][0]'] \n",
            " rmalization)                                                                                     \n",
            "                                                                                                  \n",
            " conv4_block3_1_relu (Activ  (None, 14, 14, 256)          0         ['conv4_block3_1_bn[0][0]']   \n",
            " ation)                                                                                           \n",
            "                                                                                                  \n",
            " conv4_block3_2_conv (Conv2  (None, 14, 14, 256)          590080    ['conv4_block3_1_relu[0][0]'] \n",
            " D)                                                                                               \n",
            "                                                                                                  \n",
            " conv4_block3_2_bn (BatchNo  (None, 14, 14, 256)          1024      ['conv4_block3_2_conv[0][0]'] \n",
            " rmalization)                                                                                     \n",
            "                                                                                                  \n",
            " conv4_block3_2_relu (Activ  (None, 14, 14, 256)          0         ['conv4_block3_2_bn[0][0]']   \n",
            " ation)                                                                                           \n",
            "                                                                                                  \n",
            " conv4_block3_3_conv (Conv2  (None, 14, 14, 1024)         263168    ['conv4_block3_2_relu[0][0]'] \n",
            " D)                                                                                               \n",
            "                                                                                                  \n",
            " conv4_block3_3_bn (BatchNo  (None, 14, 14, 1024)         4096      ['conv4_block3_3_conv[0][0]'] \n",
            " rmalization)                                                                                     \n",
            "                                                                                                  \n",
            " conv4_block3_add (Add)      (None, 14, 14, 1024)         0         ['conv4_block2_out[0][0]',    \n",
            "                                                                     'conv4_block3_3_bn[0][0]']   \n",
            "                                                                                                  \n",
            " conv4_block3_out (Activati  (None, 14, 14, 1024)         0         ['conv4_block3_add[0][0]']    \n",
            " on)                                                                                              \n",
            "                                                                                                  \n",
            " conv4_block4_1_conv (Conv2  (None, 14, 14, 256)          262400    ['conv4_block3_out[0][0]']    \n",
            " D)                                                                                               \n",
            "                                                                                                  \n",
            " conv4_block4_1_bn (BatchNo  (None, 14, 14, 256)          1024      ['conv4_block4_1_conv[0][0]'] \n",
            " rmalization)                                                                                     \n",
            "                                                                                                  \n",
            " conv4_block4_1_relu (Activ  (None, 14, 14, 256)          0         ['conv4_block4_1_bn[0][0]']   \n",
            " ation)                                                                                           \n",
            "                                                                                                  \n",
            " conv4_block4_2_conv (Conv2  (None, 14, 14, 256)          590080    ['conv4_block4_1_relu[0][0]'] \n",
            " D)                                                                                               \n",
            "                                                                                                  \n",
            " conv4_block4_2_bn (BatchNo  (None, 14, 14, 256)          1024      ['conv4_block4_2_conv[0][0]'] \n",
            " rmalization)                                                                                     \n",
            "                                                                                                  \n",
            " conv4_block4_2_relu (Activ  (None, 14, 14, 256)          0         ['conv4_block4_2_bn[0][0]']   \n",
            " ation)                                                                                           \n",
            "                                                                                                  \n",
            " conv4_block4_3_conv (Conv2  (None, 14, 14, 1024)         263168    ['conv4_block4_2_relu[0][0]'] \n",
            " D)                                                                                               \n",
            "                                                                                                  \n",
            " conv4_block4_3_bn (BatchNo  (None, 14, 14, 1024)         4096      ['conv4_block4_3_conv[0][0]'] \n",
            " rmalization)                                                                                     \n",
            "                                                                                                  \n",
            " conv4_block4_add (Add)      (None, 14, 14, 1024)         0         ['conv4_block3_out[0][0]',    \n",
            "                                                                     'conv4_block4_3_bn[0][0]']   \n",
            "                                                                                                  \n",
            " conv4_block4_out (Activati  (None, 14, 14, 1024)         0         ['conv4_block4_add[0][0]']    \n",
            " on)                                                                                              \n",
            "                                                                                                  \n",
            " conv4_block5_1_conv (Conv2  (None, 14, 14, 256)          262400    ['conv4_block4_out[0][0]']    \n",
            " D)                                                                                               \n",
            "                                                                                                  \n",
            " conv4_block5_1_bn (BatchNo  (None, 14, 14, 256)          1024      ['conv4_block5_1_conv[0][0]'] \n",
            " rmalization)                                                                                     \n",
            "                                                                                                  \n",
            " conv4_block5_1_relu (Activ  (None, 14, 14, 256)          0         ['conv4_block5_1_bn[0][0]']   \n",
            " ation)                                                                                           \n",
            "                                                                                                  \n",
            " conv4_block5_2_conv (Conv2  (None, 14, 14, 256)          590080    ['conv4_block5_1_relu[0][0]'] \n",
            " D)                                                                                               \n",
            "                                                                                                  \n",
            " conv4_block5_2_bn (BatchNo  (None, 14, 14, 256)          1024      ['conv4_block5_2_conv[0][0]'] \n",
            " rmalization)                                                                                     \n",
            "                                                                                                  \n",
            " conv4_block5_2_relu (Activ  (None, 14, 14, 256)          0         ['conv4_block5_2_bn[0][0]']   \n",
            " ation)                                                                                           \n",
            "                                                                                                  \n",
            " conv4_block5_3_conv (Conv2  (None, 14, 14, 1024)         263168    ['conv4_block5_2_relu[0][0]'] \n",
            " D)                                                                                               \n",
            "                                                                                                  \n",
            " conv4_block5_3_bn (BatchNo  (None, 14, 14, 1024)         4096      ['conv4_block5_3_conv[0][0]'] \n",
            " rmalization)                                                                                     \n",
            "                                                                                                  \n",
            " conv4_block5_add (Add)      (None, 14, 14, 1024)         0         ['conv4_block4_out[0][0]',    \n",
            "                                                                     'conv4_block5_3_bn[0][0]']   \n",
            "                                                                                                  \n",
            " conv4_block5_out (Activati  (None, 14, 14, 1024)         0         ['conv4_block5_add[0][0]']    \n",
            " on)                                                                                              \n",
            "                                                                                                  \n",
            " conv4_block6_1_conv (Conv2  (None, 14, 14, 256)          262400    ['conv4_block5_out[0][0]']    \n",
            " D)                                                                                               \n",
            "                                                                                                  \n",
            " conv4_block6_1_bn (BatchNo  (None, 14, 14, 256)          1024      ['conv4_block6_1_conv[0][0]'] \n",
            " rmalization)                                                                                     \n",
            "                                                                                                  \n",
            " conv4_block6_1_relu (Activ  (None, 14, 14, 256)          0         ['conv4_block6_1_bn[0][0]']   \n",
            " ation)                                                                                           \n",
            "                                                                                                  \n",
            " conv4_block6_2_conv (Conv2  (None, 14, 14, 256)          590080    ['conv4_block6_1_relu[0][0]'] \n",
            " D)                                                                                               \n",
            "                                                                                                  \n",
            " conv4_block6_2_bn (BatchNo  (None, 14, 14, 256)          1024      ['conv4_block6_2_conv[0][0]'] \n",
            " rmalization)                                                                                     \n",
            "                                                                                                  \n",
            " conv4_block6_2_relu (Activ  (None, 14, 14, 256)          0         ['conv4_block6_2_bn[0][0]']   \n",
            " ation)                                                                                           \n",
            "                                                                                                  \n",
            " conv4_block6_3_conv (Conv2  (None, 14, 14, 1024)         263168    ['conv4_block6_2_relu[0][0]'] \n",
            " D)                                                                                               \n",
            "                                                                                                  \n",
            " conv4_block6_3_bn (BatchNo  (None, 14, 14, 1024)         4096      ['conv4_block6_3_conv[0][0]'] \n",
            " rmalization)                                                                                     \n",
            "                                                                                                  \n",
            " conv4_block6_add (Add)      (None, 14, 14, 1024)         0         ['conv4_block5_out[0][0]',    \n",
            "                                                                     'conv4_block6_3_bn[0][0]']   \n",
            "                                                                                                  \n",
            " conv4_block6_out (Activati  (None, 14, 14, 1024)         0         ['conv4_block6_add[0][0]']    \n",
            " on)                                                                                              \n",
            "                                                                                                  \n",
            " conv5_block1_1_conv (Conv2  (None, 7, 7, 512)            524800    ['conv4_block6_out[0][0]']    \n",
            " D)                                                                                               \n",
            "                                                                                                  \n",
            " conv5_block1_1_bn (BatchNo  (None, 7, 7, 512)            2048      ['conv5_block1_1_conv[0][0]'] \n",
            " rmalization)                                                                                     \n",
            "                                                                                                  \n",
            " conv5_block1_1_relu (Activ  (None, 7, 7, 512)            0         ['conv5_block1_1_bn[0][0]']   \n",
            " ation)                                                                                           \n",
            "                                                                                                  \n",
            " conv5_block1_2_conv (Conv2  (None, 7, 7, 512)            2359808   ['conv5_block1_1_relu[0][0]'] \n",
            " D)                                                                                               \n",
            "                                                                                                  \n",
            " conv5_block1_2_bn (BatchNo  (None, 7, 7, 512)            2048      ['conv5_block1_2_conv[0][0]'] \n",
            " rmalization)                                                                                     \n",
            "                                                                                                  \n",
            " conv5_block1_2_relu (Activ  (None, 7, 7, 512)            0         ['conv5_block1_2_bn[0][0]']   \n",
            " ation)                                                                                           \n",
            "                                                                                                  \n",
            " conv5_block1_0_conv (Conv2  (None, 7, 7, 2048)           2099200   ['conv4_block6_out[0][0]']    \n",
            " D)                                                                                               \n",
            "                                                                                                  \n",
            " conv5_block1_3_conv (Conv2  (None, 7, 7, 2048)           1050624   ['conv5_block1_2_relu[0][0]'] \n",
            " D)                                                                                               \n",
            "                                                                                                  \n",
            " conv5_block1_0_bn (BatchNo  (None, 7, 7, 2048)           8192      ['conv5_block1_0_conv[0][0]'] \n",
            " rmalization)                                                                                     \n",
            "                                                                                                  \n",
            " conv5_block1_3_bn (BatchNo  (None, 7, 7, 2048)           8192      ['conv5_block1_3_conv[0][0]'] \n",
            " rmalization)                                                                                     \n",
            "                                                                                                  \n",
            " conv5_block1_add (Add)      (None, 7, 7, 2048)           0         ['conv5_block1_0_bn[0][0]',   \n",
            "                                                                     'conv5_block1_3_bn[0][0]']   \n",
            "                                                                                                  \n",
            " conv5_block1_out (Activati  (None, 7, 7, 2048)           0         ['conv5_block1_add[0][0]']    \n",
            " on)                                                                                              \n",
            "                                                                                                  \n",
            " conv5_block2_1_conv (Conv2  (None, 7, 7, 512)            1049088   ['conv5_block1_out[0][0]']    \n",
            " D)                                                                                               \n",
            "                                                                                                  \n",
            " conv5_block2_1_bn (BatchNo  (None, 7, 7, 512)            2048      ['conv5_block2_1_conv[0][0]'] \n",
            " rmalization)                                                                                     \n",
            "                                                                                                  \n",
            " conv5_block2_1_relu (Activ  (None, 7, 7, 512)            0         ['conv5_block2_1_bn[0][0]']   \n",
            " ation)                                                                                           \n",
            "                                                                                                  \n",
            " conv5_block2_2_conv (Conv2  (None, 7, 7, 512)            2359808   ['conv5_block2_1_relu[0][0]'] \n",
            " D)                                                                                               \n",
            "                                                                                                  \n",
            " conv5_block2_2_bn (BatchNo  (None, 7, 7, 512)            2048      ['conv5_block2_2_conv[0][0]'] \n",
            " rmalization)                                                                                     \n",
            "                                                                                                  \n",
            " conv5_block2_2_relu (Activ  (None, 7, 7, 512)            0         ['conv5_block2_2_bn[0][0]']   \n",
            " ation)                                                                                           \n",
            "                                                                                                  \n",
            " conv5_block2_3_conv (Conv2  (None, 7, 7, 2048)           1050624   ['conv5_block2_2_relu[0][0]'] \n",
            " D)                                                                                               \n",
            "                                                                                                  \n",
            " conv5_block2_3_bn (BatchNo  (None, 7, 7, 2048)           8192      ['conv5_block2_3_conv[0][0]'] \n",
            " rmalization)                                                                                     \n",
            "                                                                                                  \n",
            " conv5_block2_add (Add)      (None, 7, 7, 2048)           0         ['conv5_block1_out[0][0]',    \n",
            "                                                                     'conv5_block2_3_bn[0][0]']   \n",
            "                                                                                                  \n",
            " conv5_block2_out (Activati  (None, 7, 7, 2048)           0         ['conv5_block2_add[0][0]']    \n",
            " on)                                                                                              \n",
            "                                                                                                  \n",
            " conv5_block3_1_conv (Conv2  (None, 7, 7, 512)            1049088   ['conv5_block2_out[0][0]']    \n",
            " D)                                                                                               \n",
            "                                                                                                  \n",
            " conv5_block3_1_bn (BatchNo  (None, 7, 7, 512)            2048      ['conv5_block3_1_conv[0][0]'] \n",
            " rmalization)                                                                                     \n",
            "                                                                                                  \n",
            " conv5_block3_1_relu (Activ  (None, 7, 7, 512)            0         ['conv5_block3_1_bn[0][0]']   \n",
            " ation)                                                                                           \n",
            "                                                                                                  \n",
            " conv5_block3_2_conv (Conv2  (None, 7, 7, 512)            2359808   ['conv5_block3_1_relu[0][0]'] \n",
            " D)                                                                                               \n",
            "                                                                                                  \n",
            " conv5_block3_2_bn (BatchNo  (None, 7, 7, 512)            2048      ['conv5_block3_2_conv[0][0]'] \n",
            " rmalization)                                                                                     \n",
            "                                                                                                  \n",
            " conv5_block3_2_relu (Activ  (None, 7, 7, 512)            0         ['conv5_block3_2_bn[0][0]']   \n",
            " ation)                                                                                           \n",
            "                                                                                                  \n",
            " conv5_block3_3_conv (Conv2  (None, 7, 7, 2048)           1050624   ['conv5_block3_2_relu[0][0]'] \n",
            " D)                                                                                               \n",
            "                                                                                                  \n",
            " conv5_block3_3_bn (BatchNo  (None, 7, 7, 2048)           8192      ['conv5_block3_3_conv[0][0]'] \n",
            " rmalization)                                                                                     \n",
            "                                                                                                  \n",
            " conv5_block3_add (Add)      (None, 7, 7, 2048)           0         ['conv5_block2_out[0][0]',    \n",
            "                                                                     'conv5_block3_3_bn[0][0]']   \n",
            "                                                                                                  \n",
            " conv5_block3_out (Activati  (None, 7, 7, 2048)           0         ['conv5_block3_add[0][0]']    \n",
            " on)                                                                                              \n",
            "                                                                                                  \n",
            " flatten (Flatten)           (None, 100352)               0         ['conv5_block3_out[0][0]']    \n",
            "                                                                                                  \n",
            " dense (Dense)               (None, 64)                   6422592   ['flatten[0][0]']             \n",
            "                                                                                                  \n",
            " dense_1 (Dense)             (None, 64)                   4160      ['dense[0][0]']               \n",
            "                                                                                                  \n",
            " dense_2 (Dense)             (None, 3)                    195       ['dense_1[0][0]']             \n",
            "                                                                                                  \n",
            "==================================================================================================\n",
            "Total params: 30014659 (114.50 MB)\n",
            "Trainable params: 29961539 (114.29 MB)\n",
            "Non-trainable params: 53120 (207.50 KB)\n",
            "__________________________________________________________________________________________________\n"
          ]
        }
      ]
    },
    {
      "cell_type": "code",
      "source": [
        "best_model.save('best_model.h5')"
      ],
      "metadata": {
        "colab": {
          "base_uri": "https://localhost:8080/"
        },
        "id": "T5k7KC84Fhdx",
        "outputId": "6cebb523-0ceb-4897-bd73-ba9abee852fa"
      },
      "execution_count": null,
      "outputs": [
        {
          "output_type": "stream",
          "name": "stderr",
          "text": [
            "/usr/local/lib/python3.10/dist-packages/keras/src/engine/training.py:3103: UserWarning: You are saving your model as an HDF5 file via `model.save()`. This file format is considered legacy. We recommend using instead the native Keras format, e.g. `model.save('my_model.keras')`.\n",
            "  saving_api.save_model(\n"
          ]
        }
      ]
    },
    {
      "cell_type": "code",
      "source": [
        "tuner.results_summary()"
      ],
      "metadata": {
        "id": "YM5WOg--aHCB",
        "colab": {
          "base_uri": "https://localhost:8080/"
        },
        "outputId": "203445bb-7b01-4b3d-844b-666adb578c96"
      },
      "execution_count": null,
      "outputs": [
        {
          "output_type": "stream",
          "name": "stdout",
          "text": [
            "Results summary\n",
            "Results in /content/keras_tuner/skin_type_model\n",
            "Showing 10 best trials\n",
            "Objective(name=\"val_accuracy\", direction=\"max\")\n",
            "\n",
            "Trial 1 summary\n",
            "Hyperparameters:\n",
            "flatten: True\n",
            "global_average_pooling: True\n",
            "dropout: True\n",
            "units: 640\n",
            "batch_normalization: True\n",
            "learning_rate: 0.00044349967481903434\n",
            "Score: 0.4047619104385376\n",
            "\n",
            "Trial 2 summary\n",
            "Hyperparameters:\n",
            "flatten: False\n",
            "global_average_pooling: True\n",
            "dropout: True\n",
            "units: 160\n",
            "batch_normalization: True\n",
            "learning_rate: 0.0003804463610863373\n",
            "Score: 0.4047619104385376\n",
            "\n",
            "Trial 4 summary\n",
            "Hyperparameters:\n",
            "flatten: False\n",
            "global_average_pooling: True\n",
            "dropout: True\n",
            "units: 96\n",
            "batch_normalization: True\n",
            "learning_rate: 1.0742603453225329e-06\n",
            "Score: 0.2400793582201004\n",
            "\n",
            "Trial 0 summary\n",
            "Hyperparameters:\n",
            "flatten: False\n",
            "global_average_pooling: False\n",
            "dropout: False\n",
            "units: 64\n",
            "batch_normalization: True\n",
            "learning_rate: 0.007293577753293809\n",
            "Traceback (most recent call last):\n",
            "  File \"/usr/local/lib/python3.10/dist-packages/keras_tuner/src/engine/base_tuner.py\", line 274, in _try_run_and_update_trial\n",
            "    self._run_and_update_trial(trial, *fit_args, **fit_kwargs)\n",
            "  File \"/usr/local/lib/python3.10/dist-packages/keras_tuner/src/engine/base_tuner.py\", line 239, in _run_and_update_trial\n",
            "    results = self.run_trial(trial, *fit_args, **fit_kwargs)\n",
            "  File \"/usr/local/lib/python3.10/dist-packages/keras_tuner/src/engine/tuner.py\", line 314, in run_trial\n",
            "    obj_value = self._build_and_fit_model(trial, *args, **copied_kwargs)\n",
            "  File \"/usr/local/lib/python3.10/dist-packages/keras_tuner/src/engine/tuner.py\", line 233, in _build_and_fit_model\n",
            "    results = self.hypermodel.fit(hp, model, *args, **kwargs)\n",
            "  File \"/usr/local/lib/python3.10/dist-packages/keras_tuner/src/engine/hypermodel.py\", line 149, in fit\n",
            "    return model.fit(*args, **kwargs)\n",
            "  File \"/usr/local/lib/python3.10/dist-packages/keras/src/utils/traceback_utils.py\", line 70, in error_handler\n",
            "    raise e.with_traceback(filtered_tb) from None\n",
            "  File \"/tmp/__autograph_generated_file0m3wj_g6.py\", line 15, in tf__train_function\n",
            "    retval_ = ag__.converted_call(ag__.ld(step_function), (ag__.ld(self), ag__.ld(iterator)), None, fscope)\n",
            "ValueError: in user code:\n",
            "\n",
            "    File \"/usr/local/lib/python3.10/dist-packages/keras/src/engine/training.py\", line 1401, in train_function  *\n",
            "        return step_function(self, iterator)\n",
            "    File \"/usr/local/lib/python3.10/dist-packages/keras/src/engine/training.py\", line 1384, in step_function  **\n",
            "        outputs = model.distribute_strategy.run(run_step, args=(data,))\n",
            "    File \"/usr/local/lib/python3.10/dist-packages/keras/src/engine/training.py\", line 1373, in run_step  **\n",
            "        outputs = model.train_step(data)\n",
            "    File \"/usr/local/lib/python3.10/dist-packages/keras/src/engine/training.py\", line 1151, in train_step\n",
            "        loss = self.compute_loss(x, y, y_pred, sample_weight)\n",
            "    File \"/usr/local/lib/python3.10/dist-packages/keras/src/engine/training.py\", line 1209, in compute_loss\n",
            "        return self.compiled_loss(\n",
            "    File \"/usr/local/lib/python3.10/dist-packages/keras/src/engine/compile_utils.py\", line 277, in __call__\n",
            "        loss_value = loss_obj(y_t, y_p, sample_weight=sw)\n",
            "    File \"/usr/local/lib/python3.10/dist-packages/keras/src/losses.py\", line 143, in __call__\n",
            "        losses = call_fn(y_true, y_pred)\n",
            "    File \"/usr/local/lib/python3.10/dist-packages/keras/src/losses.py\", line 270, in call  **\n",
            "        return ag_fn(y_true, y_pred, **self._fn_kwargs)\n",
            "    File \"/usr/local/lib/python3.10/dist-packages/keras/src/losses.py\", line 2221, in categorical_crossentropy\n",
            "        return backend.categorical_crossentropy(\n",
            "    File \"/usr/local/lib/python3.10/dist-packages/keras/src/backend.py\", line 5573, in categorical_crossentropy\n",
            "        target.shape.assert_is_compatible_with(output.shape)\n",
            "\n",
            "    ValueError: Shapes (None, None) and (None, None, None, 3) are incompatible\n",
            "\n",
            "\n",
            "\n",
            "Trial 3 summary\n",
            "Hyperparameters:\n",
            "flatten: False\n",
            "global_average_pooling: False\n",
            "dropout: True\n",
            "units: 512\n",
            "batch_normalization: False\n",
            "learning_rate: 0.005920761009399382\n",
            "Traceback (most recent call last):\n",
            "  File \"/usr/local/lib/python3.10/dist-packages/keras_tuner/src/engine/base_tuner.py\", line 274, in _try_run_and_update_trial\n",
            "    self._run_and_update_trial(trial, *fit_args, **fit_kwargs)\n",
            "  File \"/usr/local/lib/python3.10/dist-packages/keras_tuner/src/engine/base_tuner.py\", line 239, in _run_and_update_trial\n",
            "    results = self.run_trial(trial, *fit_args, **fit_kwargs)\n",
            "  File \"/usr/local/lib/python3.10/dist-packages/keras_tuner/src/engine/tuner.py\", line 314, in run_trial\n",
            "    obj_value = self._build_and_fit_model(trial, *args, **copied_kwargs)\n",
            "  File \"/usr/local/lib/python3.10/dist-packages/keras_tuner/src/engine/tuner.py\", line 233, in _build_and_fit_model\n",
            "    results = self.hypermodel.fit(hp, model, *args, **kwargs)\n",
            "  File \"/usr/local/lib/python3.10/dist-packages/keras_tuner/src/engine/hypermodel.py\", line 149, in fit\n",
            "    return model.fit(*args, **kwargs)\n",
            "  File \"/usr/local/lib/python3.10/dist-packages/keras/src/utils/traceback_utils.py\", line 70, in error_handler\n",
            "    raise e.with_traceback(filtered_tb) from None\n",
            "  File \"/tmp/__autograph_generated_file0m3wj_g6.py\", line 15, in tf__train_function\n",
            "    retval_ = ag__.converted_call(ag__.ld(step_function), (ag__.ld(self), ag__.ld(iterator)), None, fscope)\n",
            "ValueError: in user code:\n",
            "\n",
            "    File \"/usr/local/lib/python3.10/dist-packages/keras/src/engine/training.py\", line 1401, in train_function  *\n",
            "        return step_function(self, iterator)\n",
            "    File \"/usr/local/lib/python3.10/dist-packages/keras/src/engine/training.py\", line 1384, in step_function  **\n",
            "        outputs = model.distribute_strategy.run(run_step, args=(data,))\n",
            "    File \"/usr/local/lib/python3.10/dist-packages/keras/src/engine/training.py\", line 1373, in run_step  **\n",
            "        outputs = model.train_step(data)\n",
            "    File \"/usr/local/lib/python3.10/dist-packages/keras/src/engine/training.py\", line 1151, in train_step\n",
            "        loss = self.compute_loss(x, y, y_pred, sample_weight)\n",
            "    File \"/usr/local/lib/python3.10/dist-packages/keras/src/engine/training.py\", line 1209, in compute_loss\n",
            "        return self.compiled_loss(\n",
            "    File \"/usr/local/lib/python3.10/dist-packages/keras/src/engine/compile_utils.py\", line 277, in __call__\n",
            "        loss_value = loss_obj(y_t, y_p, sample_weight=sw)\n",
            "    File \"/usr/local/lib/python3.10/dist-packages/keras/src/losses.py\", line 143, in __call__\n",
            "        losses = call_fn(y_true, y_pred)\n",
            "    File \"/usr/local/lib/python3.10/dist-packages/keras/src/losses.py\", line 270, in call  **\n",
            "        return ag_fn(y_true, y_pred, **self._fn_kwargs)\n",
            "    File \"/usr/local/lib/python3.10/dist-packages/keras/src/losses.py\", line 2221, in categorical_crossentropy\n",
            "        return backend.categorical_crossentropy(\n",
            "    File \"/usr/local/lib/python3.10/dist-packages/keras/src/backend.py\", line 5573, in categorical_crossentropy\n",
            "        target.shape.assert_is_compatible_with(output.shape)\n",
            "\n",
            "    ValueError: Shapes (None, None) and (None, None, None, 3) are incompatible\n",
            "\n",
            "\n"
          ]
        }
      ]
    },
    {
      "cell_type": "code",
      "source": [
        "!zip -r /content/skin_type_model.zip /content/keras_tuner/skin_type_model"
      ],
      "metadata": {
        "id": "mfzysKtEONeG",
        "colab": {
          "base_uri": "https://localhost:8080/"
        },
        "outputId": "cf19566c-40ca-446f-a951-4351b903dc7f"
      },
      "execution_count": null,
      "outputs": [
        {
          "output_type": "stream",
          "name": "stdout",
          "text": [
            "  adding: content/keras_tuner/skin_type_model/ (stored 0%)\n",
            "  adding: content/keras_tuner/skin_type_model/oracle.json (deflated 65%)\n",
            "  adding: content/keras_tuner/skin_type_model/trial_1/ (stored 0%)\n",
            "  adding: content/keras_tuner/skin_type_model/trial_1/checkpoint.index (deflated 80%)\n",
            "  adding: content/keras_tuner/skin_type_model/trial_1/checkpoint.data-00000-of-00001 (deflated 8%)\n",
            "  adding: content/keras_tuner/skin_type_model/trial_1/checkpoint (deflated 48%)\n",
            "  adding: content/keras_tuner/skin_type_model/trial_1/trial.json (deflated 67%)\n",
            "  adding: content/keras_tuner/skin_type_model/trial_2/ (stored 0%)\n",
            "  adding: content/keras_tuner/skin_type_model/trial_2/checkpoint.index (deflated 79%)\n",
            "  adding: content/keras_tuner/skin_type_model/trial_2/checkpoint.data-00000-of-00001 (deflated 27%)\n",
            "  adding: content/keras_tuner/skin_type_model/trial_2/checkpoint (deflated 48%)\n",
            "  adding: content/keras_tuner/skin_type_model/trial_2/trial.json (deflated 67%)\n",
            "  adding: content/keras_tuner/skin_type_model/tuner0.json (stored 0%)\n",
            "  adding: content/keras_tuner/skin_type_model/trial_0/ (stored 0%)\n",
            "  adding: content/keras_tuner/skin_type_model/trial_0/trial.json (deflated 72%)\n",
            "  adding: content/keras_tuner/skin_type_model/trial_3/ (stored 0%)\n",
            "  adding: content/keras_tuner/skin_type_model/trial_3/trial.json (deflated 72%)\n",
            "  adding: content/keras_tuner/skin_type_model/trial_4/ (stored 0%)\n",
            "  adding: content/keras_tuner/skin_type_model/trial_4/checkpoint.index (deflated 79%)\n",
            "  adding: content/keras_tuner/skin_type_model/trial_4/checkpoint.data-00000-of-00001 (deflated 38%)\n",
            "  adding: content/keras_tuner/skin_type_model/trial_4/checkpoint (deflated 48%)\n",
            "  adding: content/keras_tuner/skin_type_model/trial_4/trial.json (deflated 67%)\n"
          ]
        }
      ]
    },
    {
      "cell_type": "code",
      "source": [
        "files.download('/content/skin_type_model.zip')"
      ],
      "metadata": {
        "id": "IGB_6arwEy-l",
        "colab": {
          "base_uri": "https://localhost:8080/",
          "height": 34
        },
        "outputId": "242cd14a-0e6d-4823-88da-24bb3a5d3328"
      },
      "execution_count": null,
      "outputs": [
        {
          "output_type": "display_data",
          "data": {
            "text/plain": [
              "<IPython.core.display.Javascript object>"
            ],
            "application/javascript": [
              "\n",
              "    async function download(id, filename, size) {\n",
              "      if (!google.colab.kernel.accessAllowed) {\n",
              "        return;\n",
              "      }\n",
              "      const div = document.createElement('div');\n",
              "      const label = document.createElement('label');\n",
              "      label.textContent = `Downloading \"${filename}\": `;\n",
              "      div.appendChild(label);\n",
              "      const progress = document.createElement('progress');\n",
              "      progress.max = size;\n",
              "      div.appendChild(progress);\n",
              "      document.body.appendChild(div);\n",
              "\n",
              "      const buffers = [];\n",
              "      let downloaded = 0;\n",
              "\n",
              "      const channel = await google.colab.kernel.comms.open(id);\n",
              "      // Send a message to notify the kernel that we're ready.\n",
              "      channel.send({})\n",
              "\n",
              "      for await (const message of channel.messages) {\n",
              "        // Send a message to notify the kernel that we're ready.\n",
              "        channel.send({})\n",
              "        if (message.buffers) {\n",
              "          for (const buffer of message.buffers) {\n",
              "            buffers.push(buffer);\n",
              "            downloaded += buffer.byteLength;\n",
              "            progress.value = downloaded;\n",
              "          }\n",
              "        }\n",
              "      }\n",
              "      const blob = new Blob(buffers, {type: 'application/binary'});\n",
              "      const a = document.createElement('a');\n",
              "      a.href = window.URL.createObjectURL(blob);\n",
              "      a.download = filename;\n",
              "      div.appendChild(a);\n",
              "      a.click();\n",
              "      div.remove();\n",
              "    }\n",
              "  "
            ]
          },
          "metadata": {}
        },
        {
          "output_type": "display_data",
          "data": {
            "text/plain": [
              "<IPython.core.display.Javascript object>"
            ],
            "application/javascript": [
              "download(\"download_0f65b57a-1860-4d2f-b976-4383046a92d0\", \"skin_type_model.zip\", 1357900896)"
            ]
          },
          "metadata": {}
        }
      ]
    },
    {
      "cell_type": "markdown",
      "source": [
        "## Set Callbacks"
      ],
      "metadata": {
        "id": "eCi6nNqwbfmJ"
      }
    },
    {
      "cell_type": "code",
      "source": [
        "ckpt_callback = tf.keras.callbacks.ModelCheckpoint(\n",
        "    filepath='/content/ckpt/model_{epoch:02d}_{accuracy:.2f}_{val_accuracy:.2f}_v02',\n",
        "    verbose=1,\n",
        "    monitor='val_accuracy',\n",
        "    save_best_only=True\n",
        ")\n",
        "\n",
        "csv_logger = tf.keras.callbacks.CSVLogger(f'/content/csv_logger.csv')"
      ],
      "metadata": {
        "id": "1Z45kK4AbSZ6"
      },
      "execution_count": null,
      "outputs": []
    },
    {
      "cell_type": "markdown",
      "source": [
        "## Retrain Models"
      ],
      "metadata": {
        "id": "Lc-el1xQaeiE"
      }
    },
    {
      "cell_type": "code",
      "source": [
        "def train_model(epochs, steps_per_epoch, tuner, unfreeze=None, callbacks=None):\n",
        "  # Get the top 2 hyperparameters.\n",
        "  best_hps = tuner.get_best_hyperparameters(5)\n",
        "\n",
        "  # Build the model with the best hp.\n",
        "  model = build_model(best_hps[0])\n",
        "\n",
        "  # # freeze some layers and\n",
        "  # for layer in base_model.layers:\n",
        "  #   layer.trainable = False\n",
        "\n",
        "  # if unfreeze is not None:\n",
        "  #   # unfreeze some layers\n",
        "  #   for layer in base_model.layers[-unfreeze:]:\n",
        "  #     layer.trainable = True\n",
        "\n",
        "  history = model.fit(train_generator, epochs=epochs,\n",
        "            batch_size=32,\n",
        "            verbose=2,\n",
        "            steps_per_epoch=steps_per_epoch,\n",
        "            validation_data=validation_generator,\n",
        "            validation_steps=validation_generator.samples // validation_generator.batch_size,\n",
        "            callbacks=[callbacks])\n",
        "\n",
        "  return history"
      ],
      "metadata": {
        "id": "TWGCJIu0FCpV"
      },
      "execution_count": null,
      "outputs": []
    },
    {
      "cell_type": "code",
      "source": [
        "EPOCHS = 50\n",
        "steps_per_epoch = train_generator.samples // train_generator.batch_size\n",
        "callbacks = [ckpt_callback, csv_logger]"
      ],
      "metadata": {
        "id": "jYkcglv4aZYH"
      },
      "execution_count": null,
      "outputs": []
    },
    {
      "cell_type": "code",
      "execution_count": null,
      "metadata": {
        "id": "sgFkCH3a9l4s",
        "colab": {
          "base_uri": "https://localhost:8080/"
        },
        "outputId": "fe594bbc-3fe5-4d9d-a9ef-41974eb16d11"
      },
      "outputs": [
        {
          "output_type": "stream",
          "name": "stdout",
          "text": [
            "Epoch 1/50\n",
            "\n",
            "Epoch 1: val_accuracy improved from -inf to 0.39583, saving model to /content/ckpt/model_01_0.37_0.40_v02\n",
            "78/78 - 146s - loss: 1.3609 - accuracy: 0.3668 - val_loss: 1.3566 - val_accuracy: 0.3958 - 146s/epoch - 2s/step\n",
            "Epoch 2/50\n",
            "\n",
            "Epoch 2: val_accuracy improved from 0.39583 to 0.40833, saving model to /content/ckpt/model_02_0.38_0.41_v02\n",
            "78/78 - 110s - loss: 1.2840 - accuracy: 0.3753 - val_loss: 1.0844 - val_accuracy: 0.4083 - 110s/epoch - 1s/step\n",
            "Epoch 3/50\n",
            "\n",
            "Epoch 3: val_accuracy did not improve from 0.40833\n",
            "78/78 - 49s - loss: 1.2163 - accuracy: 0.3921 - val_loss: 88.1967 - val_accuracy: 0.3750 - 49s/epoch - 631ms/step\n",
            "Epoch 4/50\n",
            "\n",
            "Epoch 4: val_accuracy did not improve from 0.40833\n",
            "78/78 - 48s - loss: 1.1962 - accuracy: 0.3805 - val_loss: 215.5572 - val_accuracy: 0.2833 - 48s/epoch - 615ms/step\n",
            "Epoch 5/50\n",
            "\n",
            "Epoch 5: val_accuracy did not improve from 0.40833\n",
            "78/78 - 49s - loss: 1.1970 - accuracy: 0.3732 - val_loss: 1.7747 - val_accuracy: 0.3979 - 49s/epoch - 629ms/step\n",
            "Epoch 6/50\n",
            "\n",
            "Epoch 6: val_accuracy did not improve from 0.40833\n",
            "78/78 - 49s - loss: 1.1751 - accuracy: 0.3869 - val_loss: 7.3524 - val_accuracy: 0.3812 - 49s/epoch - 632ms/step\n",
            "Epoch 7/50\n",
            "\n",
            "Epoch 7: val_accuracy did not improve from 0.40833\n",
            "78/78 - 48s - loss: 1.1506 - accuracy: 0.3809 - val_loss: 4.0457 - val_accuracy: 0.3958 - 48s/epoch - 613ms/step\n",
            "Epoch 8/50\n",
            "\n",
            "Epoch 8: val_accuracy did not improve from 0.40833\n",
            "78/78 - 48s - loss: 1.1279 - accuracy: 0.3945 - val_loss: 1.3169 - val_accuracy: 0.3792 - 48s/epoch - 617ms/step\n",
            "Epoch 9/50\n",
            "\n",
            "Epoch 9: val_accuracy did not improve from 0.40833\n",
            "78/78 - 49s - loss: 1.1762 - accuracy: 0.3724 - val_loss: 1.0787 - val_accuracy: 0.3896 - 49s/epoch - 630ms/step\n",
            "Epoch 10/50\n",
            "\n",
            "Epoch 10: val_accuracy did not improve from 0.40833\n",
            "78/78 - 48s - loss: 1.1621 - accuracy: 0.3813 - val_loss: 1.0863 - val_accuracy: 0.3521 - 48s/epoch - 613ms/step\n",
            "Epoch 11/50\n",
            "\n",
            "Epoch 11: val_accuracy did not improve from 0.40833\n",
            "78/78 - 48s - loss: 1.1502 - accuracy: 0.3861 - val_loss: 1.3193 - val_accuracy: 0.3812 - 48s/epoch - 621ms/step\n",
            "Epoch 12/50\n",
            "\n",
            "Epoch 12: val_accuracy did not improve from 0.40833\n",
            "78/78 - 48s - loss: 1.1403 - accuracy: 0.3817 - val_loss: 1.5485 - val_accuracy: 0.3542 - 48s/epoch - 617ms/step\n",
            "Epoch 13/50\n",
            "\n",
            "Epoch 13: val_accuracy did not improve from 0.40833\n",
            "78/78 - 47s - loss: 1.1358 - accuracy: 0.3809 - val_loss: 1.1646 - val_accuracy: 0.3729 - 47s/epoch - 607ms/step\n",
            "Epoch 14/50\n",
            "\n",
            "Epoch 14: val_accuracy improved from 0.40833 to 0.41458, saving model to /content/ckpt/model_14_0.40_0.41_v02\n",
            "78/78 - 115s - loss: 1.1253 - accuracy: 0.3998 - val_loss: 1.5332 - val_accuracy: 0.4146 - 115s/epoch - 1s/step\n",
            "Epoch 15/50\n",
            "\n",
            "Epoch 15: val_accuracy did not improve from 0.41458\n",
            "78/78 - 49s - loss: 1.1217 - accuracy: 0.3849 - val_loss: 1.1028 - val_accuracy: 0.4062 - 49s/epoch - 623ms/step\n",
            "Epoch 16/50\n",
            "\n",
            "Epoch 16: val_accuracy did not improve from 0.41458\n",
            "78/78 - 47s - loss: 1.1186 - accuracy: 0.3925 - val_loss: 1.0818 - val_accuracy: 0.3646 - 47s/epoch - 603ms/step\n",
            "Epoch 17/50\n",
            "\n",
            "Epoch 17: val_accuracy improved from 0.41458 to 0.42083, saving model to /content/ckpt/model_17_0.38_0.42_v02\n",
            "78/78 - 87s - loss: 1.1081 - accuracy: 0.3829 - val_loss: 1.2381 - val_accuracy: 0.4208 - 87s/epoch - 1s/step\n",
            "Epoch 18/50\n",
            "\n",
            "Epoch 18: val_accuracy did not improve from 0.42083\n",
            "78/78 - 47s - loss: 1.1263 - accuracy: 0.3801 - val_loss: 1.0939 - val_accuracy: 0.4021 - 47s/epoch - 608ms/step\n",
            "Epoch 19/50\n",
            "\n",
            "Epoch 19: val_accuracy did not improve from 0.42083\n",
            "78/78 - 48s - loss: 1.1112 - accuracy: 0.4014 - val_loss: 1.4251 - val_accuracy: 0.3854 - 48s/epoch - 613ms/step\n",
            "Epoch 20/50\n",
            "\n",
            "Epoch 20: val_accuracy did not improve from 0.42083\n",
            "78/78 - 48s - loss: 1.1052 - accuracy: 0.4038 - val_loss: 1.3700 - val_accuracy: 0.4062 - 48s/epoch - 616ms/step\n",
            "Epoch 21/50\n",
            "\n",
            "Epoch 21: val_accuracy did not improve from 0.42083\n",
            "78/78 - 48s - loss: 1.1102 - accuracy: 0.4002 - val_loss: 1.5152 - val_accuracy: 0.3812 - 48s/epoch - 613ms/step\n",
            "Epoch 22/50\n",
            "\n",
            "Epoch 22: val_accuracy did not improve from 0.42083\n",
            "78/78 - 50s - loss: 1.1002 - accuracy: 0.4050 - val_loss: 1.4343 - val_accuracy: 0.3958 - 50s/epoch - 638ms/step\n",
            "Epoch 23/50\n",
            "\n",
            "Epoch 23: val_accuracy did not improve from 0.42083\n",
            "78/78 - 49s - loss: 1.1116 - accuracy: 0.4006 - val_loss: 1.0778 - val_accuracy: 0.4083 - 49s/epoch - 625ms/step\n",
            "Epoch 24/50\n",
            "\n",
            "Epoch 24: val_accuracy did not improve from 0.42083\n",
            "78/78 - 48s - loss: 1.1072 - accuracy: 0.3861 - val_loss: 1.0732 - val_accuracy: 0.4042 - 48s/epoch - 615ms/step\n",
            "Epoch 25/50\n",
            "\n",
            "Epoch 25: val_accuracy did not improve from 0.42083\n",
            "78/78 - 49s - loss: 1.1199 - accuracy: 0.3817 - val_loss: 1.0794 - val_accuracy: 0.4062 - 49s/epoch - 623ms/step\n",
            "Epoch 26/50\n",
            "\n",
            "Epoch 26: val_accuracy did not improve from 0.42083\n",
            "78/78 - 47s - loss: 1.0943 - accuracy: 0.3990 - val_loss: 1.0745 - val_accuracy: 0.4104 - 47s/epoch - 608ms/step\n",
            "Epoch 27/50\n",
            "\n",
            "Epoch 27: val_accuracy did not improve from 0.42083\n",
            "78/78 - 48s - loss: 1.1077 - accuracy: 0.3805 - val_loss: 3.3950 - val_accuracy: 0.4042 - 48s/epoch - 612ms/step\n",
            "Epoch 28/50\n",
            "\n",
            "Epoch 28: val_accuracy did not improve from 0.42083\n",
            "78/78 - 50s - loss: 1.1160 - accuracy: 0.4114 - val_loss: 2.1544 - val_accuracy: 0.4021 - 50s/epoch - 638ms/step\n",
            "Epoch 29/50\n",
            "\n",
            "Epoch 29: val_accuracy did not improve from 0.42083\n",
            "78/78 - 47s - loss: 1.0979 - accuracy: 0.3953 - val_loss: 1.0804 - val_accuracy: 0.4125 - 47s/epoch - 606ms/step\n",
            "Epoch 30/50\n",
            "\n",
            "Epoch 30: val_accuracy did not improve from 0.42083\n",
            "78/78 - 48s - loss: 1.1000 - accuracy: 0.3917 - val_loss: 1.0734 - val_accuracy: 0.3979 - 48s/epoch - 614ms/step\n",
            "Epoch 31/50\n",
            "\n",
            "Epoch 31: val_accuracy did not improve from 0.42083\n",
            "78/78 - 48s - loss: 1.0955 - accuracy: 0.4018 - val_loss: 1.2184 - val_accuracy: 0.3833 - 48s/epoch - 612ms/step\n",
            "Epoch 32/50\n",
            "\n",
            "Epoch 32: val_accuracy did not improve from 0.42083\n",
            "78/78 - 47s - loss: 1.0963 - accuracy: 0.4026 - val_loss: 1.2615 - val_accuracy: 0.3792 - 47s/epoch - 605ms/step\n",
            "Epoch 33/50\n",
            "\n",
            "Epoch 33: val_accuracy did not improve from 0.42083\n",
            "78/78 - 49s - loss: 1.1058 - accuracy: 0.3732 - val_loss: 2.8945 - val_accuracy: 0.3187 - 49s/epoch - 633ms/step\n",
            "Epoch 34/50\n",
            "\n",
            "Epoch 34: val_accuracy did not improve from 0.42083\n",
            "78/78 - 48s - loss: 1.0940 - accuracy: 0.4018 - val_loss: 1.0962 - val_accuracy: 0.4021 - 48s/epoch - 609ms/step\n",
            "Epoch 35/50\n",
            "\n",
            "Epoch 35: val_accuracy did not improve from 0.42083\n",
            "78/78 - 48s - loss: 1.1050 - accuracy: 0.3785 - val_loss: 1.0848 - val_accuracy: 0.4042 - 48s/epoch - 615ms/step\n",
            "Epoch 36/50\n",
            "\n",
            "Epoch 36: val_accuracy did not improve from 0.42083\n",
            "78/78 - 49s - loss: 1.0992 - accuracy: 0.3941 - val_loss: 1.0792 - val_accuracy: 0.4000 - 49s/epoch - 632ms/step\n",
            "Epoch 37/50\n",
            "\n",
            "Epoch 37: val_accuracy did not improve from 0.42083\n",
            "78/78 - 47s - loss: 1.0969 - accuracy: 0.3893 - val_loss: 1.0862 - val_accuracy: 0.3938 - 47s/epoch - 596ms/step\n",
            "Epoch 38/50\n",
            "\n",
            "Epoch 38: val_accuracy did not improve from 0.42083\n",
            "78/78 - 48s - loss: 1.0981 - accuracy: 0.3881 - val_loss: 1.0835 - val_accuracy: 0.3875 - 48s/epoch - 622ms/step\n",
            "Epoch 39/50\n",
            "\n",
            "Epoch 39: val_accuracy did not improve from 0.42083\n",
            "78/78 - 47s - loss: 1.0921 - accuracy: 0.4026 - val_loss: 1.9914 - val_accuracy: 0.4083 - 47s/epoch - 605ms/step\n",
            "Epoch 40/50\n",
            "\n",
            "Epoch 40: val_accuracy did not improve from 0.42083\n",
            "78/78 - 48s - loss: 1.0878 - accuracy: 0.3937 - val_loss: 1.5370 - val_accuracy: 0.3896 - 48s/epoch - 618ms/step\n",
            "Epoch 41/50\n",
            "\n",
            "Epoch 41: val_accuracy improved from 0.42083 to 0.42708, saving model to /content/ckpt/model_41_0.38_0.43_v02\n",
            "78/78 - 106s - loss: 1.1011 - accuracy: 0.3837 - val_loss: 1.1215 - val_accuracy: 0.4271 - 106s/epoch - 1s/step\n",
            "Epoch 42/50\n",
            "\n",
            "Epoch 42: val_accuracy did not improve from 0.42708\n",
            "78/78 - 49s - loss: 1.0948 - accuracy: 0.3941 - val_loss: 1.2537 - val_accuracy: 0.4271 - 49s/epoch - 626ms/step\n",
            "Epoch 43/50\n",
            "\n",
            "Epoch 43: val_accuracy did not improve from 0.42708\n",
            "78/78 - 47s - loss: 1.0938 - accuracy: 0.4074 - val_loss: 1.1831 - val_accuracy: 0.4167 - 47s/epoch - 606ms/step\n",
            "Epoch 44/50\n",
            "\n",
            "Epoch 44: val_accuracy did not improve from 0.42708\n",
            "78/78 - 48s - loss: 1.1029 - accuracy: 0.3889 - val_loss: 1.1425 - val_accuracy: 0.4146 - 48s/epoch - 618ms/step\n",
            "Epoch 45/50\n",
            "\n",
            "Epoch 45: val_accuracy did not improve from 0.42708\n",
            "78/78 - 47s - loss: 1.0845 - accuracy: 0.3925 - val_loss: 1.0724 - val_accuracy: 0.4125 - 47s/epoch - 608ms/step\n",
            "Epoch 46/50\n",
            "\n",
            "Epoch 46: val_accuracy did not improve from 0.42708\n",
            "78/78 - 48s - loss: 1.0941 - accuracy: 0.3861 - val_loss: 1.0779 - val_accuracy: 0.4083 - 48s/epoch - 615ms/step\n",
            "Epoch 47/50\n",
            "\n",
            "Epoch 47: val_accuracy did not improve from 0.42708\n",
            "78/78 - 48s - loss: 1.0909 - accuracy: 0.3945 - val_loss: 1.0721 - val_accuracy: 0.4187 - 48s/epoch - 617ms/step\n",
            "Epoch 48/50\n",
            "\n",
            "Epoch 48: val_accuracy did not improve from 0.42708\n",
            "78/78 - 47s - loss: 1.0933 - accuracy: 0.3965 - val_loss: 1.0777 - val_accuracy: 0.4146 - 47s/epoch - 607ms/step\n",
            "Epoch 49/50\n",
            "\n",
            "Epoch 49: val_accuracy did not improve from 0.42708\n",
            "78/78 - 49s - loss: 1.0925 - accuracy: 0.3833 - val_loss: 1.0752 - val_accuracy: 0.4104 - 49s/epoch - 631ms/step\n",
            "Epoch 50/50\n",
            "\n",
            "Epoch 50: val_accuracy did not improve from 0.42708\n",
            "78/78 - 48s - loss: 1.1015 - accuracy: 0.3957 - val_loss: 1.0800 - val_accuracy: 0.4042 - 48s/epoch - 613ms/step\n"
          ]
        }
      ],
      "source": [
        "\n",
        "history = train_model(epochs=EPOCHS,\n",
        "                      steps_per_epoch=steps_per_epoch, tuner=tuner,\n",
        "                      callbacks=callbacks)"
      ]
    },
    {
      "cell_type": "code",
      "source": [
        "history_ft1 = train_model(epochs=EPOCHS,\n",
        "                      steps_per_epoch=steps_per_epoch, unfreeze=30\n",
        "                      callbacks=callbacks)"
      ],
      "metadata": {
        "id": "Kldf3N2bJLjN"
      },
      "execution_count": null,
      "outputs": []
    },
    {
      "cell_type": "markdown",
      "metadata": {
        "id": "HxB88UJwSvIU"
      },
      "source": [
        "# Evaluation"
      ]
    },
    {
      "cell_type": "code",
      "execution_count": null,
      "metadata": {
        "id": "Mj6PPQev2vSn",
        "colab": {
          "base_uri": "https://localhost:8080/",
          "height": 193
        },
        "outputId": "0a48fd7c-c3bf-4fe9-bc96-36a73ce10a9f"
      },
      "outputs": [
        {
          "output_type": "error",
          "ename": "NameError",
          "evalue": "name 'model' is not defined",
          "traceback": [
            "\u001b[0;31m---------------------------------------------------------------------------\u001b[0m",
            "\u001b[0;31mNameError\u001b[0m                                 Traceback (most recent call last)",
            "\u001b[0;32m<ipython-input-1-bcba1110a88b>\u001b[0m in \u001b[0;36m<cell line: 2>\u001b[0;34m()\u001b[0m\n\u001b[1;32m      1\u001b[0m \u001b[0;31m# Evaluate the model\u001b[0m\u001b[0;34m\u001b[0m\u001b[0;34m\u001b[0m\u001b[0m\n\u001b[0;32m----> 2\u001b[0;31m \u001b[0mval_loss\u001b[0m\u001b[0;34m,\u001b[0m \u001b[0mval_accuracy\u001b[0m \u001b[0;34m=\u001b[0m \u001b[0mmodel\u001b[0m\u001b[0;34m.\u001b[0m\u001b[0mevaluate\u001b[0m\u001b[0;34m(\u001b[0m\u001b[0mvalidation_generator\u001b[0m\u001b[0;34m,\u001b[0m \u001b[0msteps\u001b[0m\u001b[0;34m=\u001b[0m\u001b[0mvalidation_generator\u001b[0m\u001b[0;34m.\u001b[0m\u001b[0msamples\u001b[0m \u001b[0;34m//\u001b[0m \u001b[0mvalidation_generator\u001b[0m\u001b[0;34m.\u001b[0m\u001b[0mbatch_size\u001b[0m\u001b[0;34m)\u001b[0m\u001b[0;34m\u001b[0m\u001b[0;34m\u001b[0m\u001b[0m\n\u001b[0m\u001b[1;32m      3\u001b[0m \u001b[0mprint\u001b[0m\u001b[0;34m(\u001b[0m\u001b[0;34mf'Validation Loss: {val_loss}'\u001b[0m\u001b[0;34m)\u001b[0m\u001b[0;34m\u001b[0m\u001b[0;34m\u001b[0m\u001b[0m\n\u001b[1;32m      4\u001b[0m \u001b[0mprint\u001b[0m\u001b[0;34m(\u001b[0m\u001b[0;34mf'Validation Accuracy: {val_accuracy}'\u001b[0m\u001b[0;34m)\u001b[0m\u001b[0;34m\u001b[0m\u001b[0;34m\u001b[0m\u001b[0m\n",
            "\u001b[0;31mNameError\u001b[0m: name 'model' is not defined"
          ]
        }
      ],
      "source": [
        "# Evaluate the model\n",
        "val_loss, val_accuracy = model.evaluate(validation_generator, steps=validation_generator.samples // validation_generator.batch_size)\n",
        "print(f'Validation Loss: {val_loss}')\n",
        "print(f'Validation Accuracy: {val_accuracy}')"
      ]
    },
    {
      "cell_type": "code",
      "execution_count": null,
      "metadata": {
        "id": "VeQz5nZmRyFY"
      },
      "outputs": [],
      "source": [
        "# Plot training & validation accuracy values\n",
        "plot_acc_loss(history)"
      ]
    },
    {
      "cell_type": "code",
      "execution_count": null,
      "metadata": {
        "id": "tEZ4c1T5SrQv"
      },
      "outputs": [],
      "source": [
        "\n",
        "# fine-tuned plot model\n",
        "plot_acc_loss(history_ft)"
      ]
    },
    {
      "cell_type": "code",
      "execution_count": null,
      "metadata": {
        "id": "vsaTnHXAHPbF"
      },
      "outputs": [],
      "source": [
        "model.save('model_retrain_01.h5')"
      ]
    },
    {
      "cell_type": "markdown",
      "metadata": {
        "id": "Rmu19_jU1t3N"
      },
      "source": [
        "# Download checkpoint file"
      ]
    },
    {
      "cell_type": "code",
      "execution_count": null,
      "metadata": {
        "id": "MZ__zAQL1bl6"
      },
      "outputs": [],
      "source": [
        "\n",
        "!zip -r model.zip /content/ckpt"
      ]
    },
    {
      "cell_type": "code",
      "execution_count": null,
      "metadata": {
        "id": "BXbWaACy5iPX"
      },
      "outputs": [],
      "source": [
        "# tmp code for download csv log\n",
        "files.download(f'/content/log/csv_logger.csv')\n"
      ]
    },
    {
      "cell_type": "code",
      "execution_count": null,
      "metadata": {
        "id": "npLT17vhdREV"
      },
      "outputs": [],
      "source": [
        "!unzip /content/model.zip -d /content/model"
      ]
    },
    {
      "cell_type": "code",
      "execution_count": null,
      "metadata": {
        "colab": {
          "base_uri": "https://localhost:8080/",
          "height": 141
        },
        "id": "3TL6xRjmiXG-",
        "outputId": "21add00f-6e38-4fda-9b36-c407d4f76ce3"
      },
      "outputs": [
        {
          "ename": "AttributeError",
          "evalue": "module 'google.colab.files' has no attribute 'save'",
          "output_type": "error",
          "traceback": [
            "\u001b[0;31m---------------------------------------------------------------------------\u001b[0m",
            "\u001b[0;31mAttributeError\u001b[0m                            Traceback (most recent call last)",
            "\u001b[0;32m<ipython-input-34-e3ddd5c56541>\u001b[0m in \u001b[0;36m<cell line: 1>\u001b[0;34m()\u001b[0m\n\u001b[0;32m----> 1\u001b[0;31m \u001b[0mfiles\u001b[0m\u001b[0;34m.\u001b[0m\u001b[0msave\u001b[0m\u001b[0;34m(\u001b[0m\u001b[0;34m'model.zip'\u001b[0m\u001b[0;34m)\u001b[0m\u001b[0;34m\u001b[0m\u001b[0;34m\u001b[0m\u001b[0m\n\u001b[0m",
            "\u001b[0;31mAttributeError\u001b[0m: module 'google.colab.files' has no attribute 'save'"
          ]
        }
      ],
      "source": [
        "files.save(model)"
      ]
    },
    {
      "cell_type": "code",
      "execution_count": null,
      "metadata": {
        "id": "yYgbb_vzW18f"
      },
      "outputs": [],
      "source": [
        "files.download('model.zip')"
      ]
    },
    {
      "cell_type": "markdown",
      "metadata": {
        "id": "qI1Z8qgVT5gV"
      },
      "source": [
        "# convert saved model pb to tfjs"
      ]
    },
    {
      "cell_type": "code",
      "execution_count": null,
      "metadata": {
        "colab": {
          "base_uri": "https://localhost:8080/"
        },
        "id": "J-3vJAJTdtU-",
        "outputId": "98427498-b0b4-41e7-8cb0-cd1deea121f8"
      },
      "outputs": [
        {
          "name": "stdout",
          "output_type": "stream",
          "text": [
            "Archive:  /content/skin_type_model.zip\n",
            "   creating: /content/model-pb/model-03-055-053/\n",
            "  inflating: /content/model-pb/__MACOSX/._model-03-055-053  \n",
            "  inflating: /content/model-pb/model-03-055-053/.DS_Store  \n",
            "  inflating: /content/model-pb/__MACOSX/model-03-055-053/._.DS_Store  \n",
            "  inflating: /content/model-pb/model-03-055-053/fingerprint.pb  \n",
            "  inflating: /content/model-pb/__MACOSX/model-03-055-053/._fingerprint.pb  \n",
            "  inflating: /content/model-pb/model-03-055-053/keras_metadata.pb  \n",
            "  inflating: /content/model-pb/__MACOSX/model-03-055-053/._keras_metadata.pb  \n",
            "   creating: /content/model-pb/model-03-055-053/variables/\n",
            "  inflating: /content/model-pb/__MACOSX/model-03-055-053/._variables  \n",
            "  inflating: /content/model-pb/model-03-055-053/saved_model.pb  \n",
            "  inflating: /content/model-pb/__MACOSX/model-03-055-053/._saved_model.pb  \n",
            "   creating: /content/model-pb/model-03-055-053/assets/\n",
            "  inflating: /content/model-pb/__MACOSX/model-03-055-053/._assets  \n",
            "  inflating: /content/model-pb/model-03-055-053/variables/variables.data-00000-of-00001  \n",
            "  inflating: /content/model-pb/__MACOSX/model-03-055-053/variables/._variables.data-00000-of-00001  \n",
            "  inflating: /content/model-pb/model-03-055-053/variables/variables.index  \n",
            "  inflating: /content/model-pb/__MACOSX/model-03-055-053/variables/._variables.index  \n"
          ]
        }
      ],
      "source": [
        "!unzip \"/content/skin_type_model.zip\" -d \"/content/model-pb\""
      ]
    },
    {
      "cell_type": "code",
      "execution_count": null,
      "metadata": {
        "colab": {
          "base_uri": "https://localhost:8080/"
        },
        "id": "bLIOWBbvT5VF",
        "outputId": "e0e72b00-44d8-4bd7-f8ee-020117777087"
      },
      "outputs": [
        {
          "name": "stdout",
          "output_type": "stream",
          "text": [
            "Model converted and saved to /content/model.tflite\n"
          ]
        }
      ],
      "source": [
        "pb_model_path = '/content/model-pb/model-03-055-053'\n",
        "tflite_model_path = '/content/model.tflite'\n",
        "convert_pb_to_tflite(pb_model_path, tflite_model_path)"
      ]
    },
    {
      "cell_type": "markdown",
      "metadata": {
        "id": "wgwopVpnDB0R"
      },
      "source": [
        "# Predict new image"
      ]
    },
    {
      "cell_type": "code",
      "execution_count": null,
      "metadata": {
        "id": "1mm46fmzGzXd"
      },
      "outputs": [],
      "source": [
        "class_name = ['dry', 'normal', 'oily']"
      ]
    },
    {
      "cell_type": "code",
      "execution_count": null,
      "metadata": {
        "colab": {
          "base_uri": "https://localhost:8080/",
          "height": 377
        },
        "id": "1QECucNODDw2",
        "outputId": "fdec1da1-5bee-4ad9-b8b0-ad2d00460268"
      },
      "outputs": [
        {
          "data": {
            "text/html": [
              "\n",
              "     <input type=\"file\" id=\"files-f7771462-9837-4a89-9109-1fb8af8aec7a\" name=\"files[]\" multiple disabled\n",
              "        style=\"border:none\" />\n",
              "     <output id=\"result-f7771462-9837-4a89-9109-1fb8af8aec7a\">\n",
              "      Upload widget is only available when the cell has been executed in the\n",
              "      current browser session. Please rerun this cell to enable.\n",
              "      </output>\n",
              "      <script>// Copyright 2017 Google LLC\n",
              "//\n",
              "// Licensed under the Apache License, Version 2.0 (the \"License\");\n",
              "// you may not use this file except in compliance with the License.\n",
              "// You may obtain a copy of the License at\n",
              "//\n",
              "//      http://www.apache.org/licenses/LICENSE-2.0\n",
              "//\n",
              "// Unless required by applicable law or agreed to in writing, software\n",
              "// distributed under the License is distributed on an \"AS IS\" BASIS,\n",
              "// WITHOUT WARRANTIES OR CONDITIONS OF ANY KIND, either express or implied.\n",
              "// See the License for the specific language governing permissions and\n",
              "// limitations under the License.\n",
              "\n",
              "/**\n",
              " * @fileoverview Helpers for google.colab Python module.\n",
              " */\n",
              "(function(scope) {\n",
              "function span(text, styleAttributes = {}) {\n",
              "  const element = document.createElement('span');\n",
              "  element.textContent = text;\n",
              "  for (const key of Object.keys(styleAttributes)) {\n",
              "    element.style[key] = styleAttributes[key];\n",
              "  }\n",
              "  return element;\n",
              "}\n",
              "\n",
              "// Max number of bytes which will be uploaded at a time.\n",
              "const MAX_PAYLOAD_SIZE = 100 * 1024;\n",
              "\n",
              "function _uploadFiles(inputId, outputId) {\n",
              "  const steps = uploadFilesStep(inputId, outputId);\n",
              "  const outputElement = document.getElementById(outputId);\n",
              "  // Cache steps on the outputElement to make it available for the next call\n",
              "  // to uploadFilesContinue from Python.\n",
              "  outputElement.steps = steps;\n",
              "\n",
              "  return _uploadFilesContinue(outputId);\n",
              "}\n",
              "\n",
              "// This is roughly an async generator (not supported in the browser yet),\n",
              "// where there are multiple asynchronous steps and the Python side is going\n",
              "// to poll for completion of each step.\n",
              "// This uses a Promise to block the python side on completion of each step,\n",
              "// then passes the result of the previous step as the input to the next step.\n",
              "function _uploadFilesContinue(outputId) {\n",
              "  const outputElement = document.getElementById(outputId);\n",
              "  const steps = outputElement.steps;\n",
              "\n",
              "  const next = steps.next(outputElement.lastPromiseValue);\n",
              "  return Promise.resolve(next.value.promise).then((value) => {\n",
              "    // Cache the last promise value to make it available to the next\n",
              "    // step of the generator.\n",
              "    outputElement.lastPromiseValue = value;\n",
              "    return next.value.response;\n",
              "  });\n",
              "}\n",
              "\n",
              "/**\n",
              " * Generator function which is called between each async step of the upload\n",
              " * process.\n",
              " * @param {string} inputId Element ID of the input file picker element.\n",
              " * @param {string} outputId Element ID of the output display.\n",
              " * @return {!Iterable<!Object>} Iterable of next steps.\n",
              " */\n",
              "function* uploadFilesStep(inputId, outputId) {\n",
              "  const inputElement = document.getElementById(inputId);\n",
              "  inputElement.disabled = false;\n",
              "\n",
              "  const outputElement = document.getElementById(outputId);\n",
              "  outputElement.innerHTML = '';\n",
              "\n",
              "  const pickedPromise = new Promise((resolve) => {\n",
              "    inputElement.addEventListener('change', (e) => {\n",
              "      resolve(e.target.files);\n",
              "    });\n",
              "  });\n",
              "\n",
              "  const cancel = document.createElement('button');\n",
              "  inputElement.parentElement.appendChild(cancel);\n",
              "  cancel.textContent = 'Cancel upload';\n",
              "  const cancelPromise = new Promise((resolve) => {\n",
              "    cancel.onclick = () => {\n",
              "      resolve(null);\n",
              "    };\n",
              "  });\n",
              "\n",
              "  // Wait for the user to pick the files.\n",
              "  const files = yield {\n",
              "    promise: Promise.race([pickedPromise, cancelPromise]),\n",
              "    response: {\n",
              "      action: 'starting',\n",
              "    }\n",
              "  };\n",
              "\n",
              "  cancel.remove();\n",
              "\n",
              "  // Disable the input element since further picks are not allowed.\n",
              "  inputElement.disabled = true;\n",
              "\n",
              "  if (!files) {\n",
              "    return {\n",
              "      response: {\n",
              "        action: 'complete',\n",
              "      }\n",
              "    };\n",
              "  }\n",
              "\n",
              "  for (const file of files) {\n",
              "    const li = document.createElement('li');\n",
              "    li.append(span(file.name, {fontWeight: 'bold'}));\n",
              "    li.append(span(\n",
              "        `(${file.type || 'n/a'}) - ${file.size} bytes, ` +\n",
              "        `last modified: ${\n",
              "            file.lastModifiedDate ? file.lastModifiedDate.toLocaleDateString() :\n",
              "                                    'n/a'} - `));\n",
              "    const percent = span('0% done');\n",
              "    li.appendChild(percent);\n",
              "\n",
              "    outputElement.appendChild(li);\n",
              "\n",
              "    const fileDataPromise = new Promise((resolve) => {\n",
              "      const reader = new FileReader();\n",
              "      reader.onload = (e) => {\n",
              "        resolve(e.target.result);\n",
              "      };\n",
              "      reader.readAsArrayBuffer(file);\n",
              "    });\n",
              "    // Wait for the data to be ready.\n",
              "    let fileData = yield {\n",
              "      promise: fileDataPromise,\n",
              "      response: {\n",
              "        action: 'continue',\n",
              "      }\n",
              "    };\n",
              "\n",
              "    // Use a chunked sending to avoid message size limits. See b/62115660.\n",
              "    let position = 0;\n",
              "    do {\n",
              "      const length = Math.min(fileData.byteLength - position, MAX_PAYLOAD_SIZE);\n",
              "      const chunk = new Uint8Array(fileData, position, length);\n",
              "      position += length;\n",
              "\n",
              "      const base64 = btoa(String.fromCharCode.apply(null, chunk));\n",
              "      yield {\n",
              "        response: {\n",
              "          action: 'append',\n",
              "          file: file.name,\n",
              "          data: base64,\n",
              "        },\n",
              "      };\n",
              "\n",
              "      let percentDone = fileData.byteLength === 0 ?\n",
              "          100 :\n",
              "          Math.round((position / fileData.byteLength) * 100);\n",
              "      percent.textContent = `${percentDone}% done`;\n",
              "\n",
              "    } while (position < fileData.byteLength);\n",
              "  }\n",
              "\n",
              "  // All done.\n",
              "  yield {\n",
              "    response: {\n",
              "      action: 'complete',\n",
              "    }\n",
              "  };\n",
              "}\n",
              "\n",
              "scope.google = scope.google || {};\n",
              "scope.google.colab = scope.google.colab || {};\n",
              "scope.google.colab._files = {\n",
              "  _uploadFiles,\n",
              "  _uploadFilesContinue,\n",
              "};\n",
              "})(self);\n",
              "</script> "
            ],
            "text/plain": [
              "<IPython.core.display.HTML object>"
            ]
          },
          "metadata": {},
          "output_type": "display_data"
        },
        {
          "ename": "KeyboardInterrupt",
          "evalue": "",
          "output_type": "error",
          "traceback": [
            "\u001b[0;31m---------------------------------------------------------------------------\u001b[0m",
            "\u001b[0;31mKeyboardInterrupt\u001b[0m                         Traceback (most recent call last)",
            "\u001b[0;32m<ipython-input-191-84523cee5989>\u001b[0m in \u001b[0;36m<cell line: 3>\u001b[0;34m()\u001b[0m\n\u001b[1;32m      1\u001b[0m \u001b[0;31m# Upload the image to Colab\u001b[0m\u001b[0;34m\u001b[0m\u001b[0;34m\u001b[0m\u001b[0m\n\u001b[1;32m      2\u001b[0m \u001b[0;32mfrom\u001b[0m \u001b[0mgoogle\u001b[0m\u001b[0;34m.\u001b[0m\u001b[0mcolab\u001b[0m \u001b[0;32mimport\u001b[0m \u001b[0mfiles\u001b[0m\u001b[0;34m\u001b[0m\u001b[0;34m\u001b[0m\u001b[0m\n\u001b[0;32m----> 3\u001b[0;31m \u001b[0muploaded\u001b[0m \u001b[0;34m=\u001b[0m \u001b[0mfiles\u001b[0m\u001b[0;34m.\u001b[0m\u001b[0mupload\u001b[0m\u001b[0;34m(\u001b[0m\u001b[0;34m)\u001b[0m\u001b[0;34m\u001b[0m\u001b[0;34m\u001b[0m\u001b[0m\n\u001b[0m\u001b[1;32m      4\u001b[0m \u001b[0;34m\u001b[0m\u001b[0m\n\u001b[1;32m      5\u001b[0m \u001b[0;31m# Load the model\u001b[0m\u001b[0;34m\u001b[0m\u001b[0;34m\u001b[0m\u001b[0m\n",
            "\u001b[0;32m/usr/local/lib/python3.10/dist-packages/google/colab/files.py\u001b[0m in \u001b[0;36mupload\u001b[0;34m()\u001b[0m\n\u001b[1;32m     67\u001b[0m   \"\"\"\n\u001b[1;32m     68\u001b[0m \u001b[0;34m\u001b[0m\u001b[0m\n\u001b[0;32m---> 69\u001b[0;31m   \u001b[0muploaded_files\u001b[0m \u001b[0;34m=\u001b[0m \u001b[0m_upload_files\u001b[0m\u001b[0;34m(\u001b[0m\u001b[0mmultiple\u001b[0m\u001b[0;34m=\u001b[0m\u001b[0;32mTrue\u001b[0m\u001b[0;34m)\u001b[0m\u001b[0;34m\u001b[0m\u001b[0;34m\u001b[0m\u001b[0m\n\u001b[0m\u001b[1;32m     70\u001b[0m   \u001b[0;31m# Mapping from original filename to filename as saved locally.\u001b[0m\u001b[0;34m\u001b[0m\u001b[0;34m\u001b[0m\u001b[0m\n\u001b[1;32m     71\u001b[0m   \u001b[0mlocal_filenames\u001b[0m \u001b[0;34m=\u001b[0m \u001b[0mdict\u001b[0m\u001b[0;34m(\u001b[0m\u001b[0;34m)\u001b[0m\u001b[0;34m\u001b[0m\u001b[0;34m\u001b[0m\u001b[0m\n",
            "\u001b[0;32m/usr/local/lib/python3.10/dist-packages/google/colab/files.py\u001b[0m in \u001b[0;36m_upload_files\u001b[0;34m(multiple)\u001b[0m\n\u001b[1;32m    154\u001b[0m \u001b[0;34m\u001b[0m\u001b[0m\n\u001b[1;32m    155\u001b[0m   \u001b[0;31m# First result is always an indication that the file picker has completed.\u001b[0m\u001b[0;34m\u001b[0m\u001b[0;34m\u001b[0m\u001b[0m\n\u001b[0;32m--> 156\u001b[0;31m   result = _output.eval_js(\n\u001b[0m\u001b[1;32m    157\u001b[0m       'google.colab._files._uploadFiles(\"{input_id}\", \"{output_id}\")'.format(\n\u001b[1;32m    158\u001b[0m           \u001b[0minput_id\u001b[0m\u001b[0;34m=\u001b[0m\u001b[0minput_id\u001b[0m\u001b[0;34m,\u001b[0m \u001b[0moutput_id\u001b[0m\u001b[0;34m=\u001b[0m\u001b[0moutput_id\u001b[0m\u001b[0;34m\u001b[0m\u001b[0;34m\u001b[0m\u001b[0m\n",
            "\u001b[0;32m/usr/local/lib/python3.10/dist-packages/google/colab/output/_js.py\u001b[0m in \u001b[0;36meval_js\u001b[0;34m(script, ignore_result, timeout_sec)\u001b[0m\n\u001b[1;32m     38\u001b[0m   \u001b[0;32mif\u001b[0m \u001b[0mignore_result\u001b[0m\u001b[0;34m:\u001b[0m\u001b[0;34m\u001b[0m\u001b[0;34m\u001b[0m\u001b[0m\n\u001b[1;32m     39\u001b[0m     \u001b[0;32mreturn\u001b[0m\u001b[0;34m\u001b[0m\u001b[0;34m\u001b[0m\u001b[0m\n\u001b[0;32m---> 40\u001b[0;31m   \u001b[0;32mreturn\u001b[0m \u001b[0m_message\u001b[0m\u001b[0;34m.\u001b[0m\u001b[0mread_reply_from_input\u001b[0m\u001b[0;34m(\u001b[0m\u001b[0mrequest_id\u001b[0m\u001b[0;34m,\u001b[0m \u001b[0mtimeout_sec\u001b[0m\u001b[0;34m)\u001b[0m\u001b[0;34m\u001b[0m\u001b[0;34m\u001b[0m\u001b[0m\n\u001b[0m\u001b[1;32m     41\u001b[0m \u001b[0;34m\u001b[0m\u001b[0m\n\u001b[1;32m     42\u001b[0m \u001b[0;34m\u001b[0m\u001b[0m\n",
            "\u001b[0;32m/usr/local/lib/python3.10/dist-packages/google/colab/_message.py\u001b[0m in \u001b[0;36mread_reply_from_input\u001b[0;34m(message_id, timeout_sec)\u001b[0m\n\u001b[1;32m     94\u001b[0m     \u001b[0mreply\u001b[0m \u001b[0;34m=\u001b[0m \u001b[0m_read_next_input_message\u001b[0m\u001b[0;34m(\u001b[0m\u001b[0;34m)\u001b[0m\u001b[0;34m\u001b[0m\u001b[0;34m\u001b[0m\u001b[0m\n\u001b[1;32m     95\u001b[0m     \u001b[0;32mif\u001b[0m \u001b[0mreply\u001b[0m \u001b[0;34m==\u001b[0m \u001b[0m_NOT_READY\u001b[0m \u001b[0;32mor\u001b[0m \u001b[0;32mnot\u001b[0m \u001b[0misinstance\u001b[0m\u001b[0;34m(\u001b[0m\u001b[0mreply\u001b[0m\u001b[0;34m,\u001b[0m \u001b[0mdict\u001b[0m\u001b[0;34m)\u001b[0m\u001b[0;34m:\u001b[0m\u001b[0;34m\u001b[0m\u001b[0;34m\u001b[0m\u001b[0m\n\u001b[0;32m---> 96\u001b[0;31m       \u001b[0mtime\u001b[0m\u001b[0;34m.\u001b[0m\u001b[0msleep\u001b[0m\u001b[0;34m(\u001b[0m\u001b[0;36m0.025\u001b[0m\u001b[0;34m)\u001b[0m\u001b[0;34m\u001b[0m\u001b[0;34m\u001b[0m\u001b[0m\n\u001b[0m\u001b[1;32m     97\u001b[0m       \u001b[0;32mcontinue\u001b[0m\u001b[0;34m\u001b[0m\u001b[0;34m\u001b[0m\u001b[0m\n\u001b[1;32m     98\u001b[0m     if (\n",
            "\u001b[0;31mKeyboardInterrupt\u001b[0m: "
          ]
        }
      ],
      "source": [
        "# Upload the image to Colab\n",
        "from google.colab import files\n",
        "uploaded = files.upload()\n",
        "\n",
        "# Load the model\n",
        "\n",
        "# Path to the directory containing the SavedModel\n",
        "saved_model_path = '/content/model-pb/model-03-055-053'\n",
        "\n",
        "# Load the SavedModel\n",
        "model = tf.saved_model.load(saved_model_path)\n",
        "\n",
        "# Access the default serving function\n",
        "infer = model.signatures['serving_default']\n",
        "print(infer.structured_outputs)\n",
        "\n",
        "# Preprocess the uploaded image\n",
        "\n",
        "# Assuming the uploaded file is in the current directory\n",
        "image_path = list(uploaded.keys())[0]\n",
        "\n",
        "# Load and preprocess the image\n",
        "def preprocess_image(image_path):\n",
        "    img = image.load_img(image_path, target_size=(150, 150))\n",
        "    img_array = image.img_to_array(img)\n",
        "    img_array = np.expand_dims(img_array, axis=0)\n",
        "    img_array /= 255.0\n",
        "    return img_array, img\n",
        "\n",
        "img_array, original_img = preprocess_image(image_path)\n",
        "\n",
        "\n",
        "# Convert the numpy array to a tensor\n",
        "img_tensor = tf.convert_to_tensor(img_array, dtype=tf.float32)\n",
        "\n",
        "# Make predictions\n",
        "predictions = infer(img_tensor)\n",
        "\n",
        "# Assuming the model outputs a dictionary with keys corresponding to the outputs\n",
        "output_key = 'dense_1' # Change this to the actual key used by your model\n",
        "predicted_classes = predictions[output_key].numpy()\n",
        "\n",
        "print(predicted_classes)\n",
        "\n",
        "# Step 5: Post-process and interpret results\n",
        "# Assuming it's a classification model and the result is a probability distribution over classes\n",
        "plt.imshow(original_img)\n",
        "plt.show()\n",
        "predicted_class = np.argmax(predicted_classes, axis=-1)\n",
        "print(f'Predicted class: {predicted_class[0]}')\n",
        "print(f'type: {class_name[predicted_class[0]]}')\n"
      ]
    },
    {
      "cell_type": "markdown",
      "source": [
        "#Convert savedModel to tfjs"
      ],
      "metadata": {
        "id": "bkEffEVjn4oD"
      }
    },
    {
      "cell_type": "code",
      "execution_count": null,
      "metadata": {
        "id": "h4adBbrTFDI2"
      },
      "outputs": [],
      "source": [
        "!unzip '/content/model-03-055-053.zip' -d '/content/model-03-055-053'"
      ]
    },
    {
      "cell_type": "code",
      "source": [
        " !pip install tensorflowjs"
      ],
      "metadata": {
        "id": "H_yeth8DoFRk"
      },
      "execution_count": null,
      "outputs": []
    },
    {
      "cell_type": "code",
      "source": [
        "!mkdir skin_type_model_tfjs\n",
        "!tensorflowjs_converter \\\n",
        "    --input_format=tf_saved_model \\\n",
        "    --output_format=tfjs_graph_model \\\n",
        "    --signature_name=serving_default \\\n",
        "    --saved_model_tags=serve \\\n",
        "    /content/model-03-055-053/model-03-055-053 \\\n",
        "    /content/skin_type_model_tfjs"
      ],
      "metadata": {
        "id": "c9vNUlPqoFLF"
      },
      "execution_count": null,
      "outputs": []
    }
  ],
  "metadata": {
    "colab": {
      "provenance": [],
      "gpuType": "T4",
      "toc_visible": true,
      "include_colab_link": true
    },
    "kernelspec": {
      "display_name": "Python 3",
      "name": "python3"
    },
    "language_info": {
      "name": "python"
    },
    "accelerator": "GPU"
  },
  "nbformat": 4,
  "nbformat_minor": 0
}